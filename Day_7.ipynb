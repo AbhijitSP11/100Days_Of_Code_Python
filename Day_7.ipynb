{
 "cells": [
  {
   "cell_type": "markdown",
   "id": "50fc63e7-7955-45f6-b578-1bfbf23e05b1",
   "metadata": {},
   "source": [
    "# Day - 7"
   ]
  },
  {
   "cell_type": "markdown",
   "id": "3de557b8-9313-434a-9fc1-902a8dc1920e",
   "metadata": {},
   "source": [
    "## Topics going to be cover in Day 7\n",
    "- For Loop\n",
    "- Solved some for loop practice questions "
   ]
  },
  {
   "cell_type": "code",
   "execution_count": 1,
   "id": "fb135fcb-749c-4c00-a464-55a5a66440b4",
   "metadata": {},
   "outputs": [
    {
     "name": "stdout",
     "output_type": "stream",
     "text": [
      "1\n",
      "2\n",
      "3\n"
     ]
    }
   ],
   "source": [
    "x = [1,2,3]\n",
    "for i in x:\n",
    "    print(i)"
   ]
  },
  {
   "cell_type": "markdown",
   "id": "d1ae4d79-4a82-4dda-9ec0-a37a82aa672f",
   "metadata": {},
   "source": [
    "### Iterate the elements from the list usinf for loop"
   ]
  },
  {
   "cell_type": "code",
   "execution_count": 2,
   "id": "f5302c42-72fc-47c1-aed2-deea1f6cb0af",
   "metadata": {},
   "outputs": [
    {
     "data": {
      "text/plain": [
       "[1, 2, 3, 4, 5, 6, 7, 8, 9, 10]"
      ]
     },
     "execution_count": 2,
     "metadata": {},
     "output_type": "execute_result"
    }
   ],
   "source": [
    "mylist = list(range(1,11))\n",
    "mylist"
   ]
  },
  {
   "cell_type": "code",
   "execution_count": 3,
   "id": "3b4cb181-3229-4c08-8956-ad2b86af1441",
   "metadata": {},
   "outputs": [
    {
     "name": "stdout",
     "output_type": "stream",
     "text": [
      "1\n",
      "2\n",
      "3\n",
      "4\n",
      "5\n",
      "6\n",
      "7\n",
      "8\n",
      "9\n",
      "10\n"
     ]
    }
   ],
   "source": [
    "for i in mylist:\n",
    "    print(i)"
   ]
  },
  {
   "cell_type": "code",
   "execution_count": 4,
   "id": "9e799957-bdc2-428f-8c4f-415285cfec10",
   "metadata": {},
   "outputs": [
    {
     "name": "stdout",
     "output_type": "stream",
     "text": [
      "Hello\n",
      "Hello\n",
      "Hello\n",
      "Hello\n",
      "Hello\n",
      "Hello\n",
      "Hello\n",
      "Hello\n",
      "Hello\n",
      "Hello\n"
     ]
    }
   ],
   "source": [
    "for i in mylist:\n",
    "    print('Hello')"
   ]
  },
  {
   "cell_type": "markdown",
   "id": "980cee87-5fc5-427b-8241-34db5c56ffa3",
   "metadata": {},
   "source": [
    "### Printing even and odd numbers using for loop"
   ]
  },
  {
   "cell_type": "code",
   "execution_count": 5,
   "id": "02c4b2a8-fb2d-4082-849d-10a40a1ccca4",
   "metadata": {},
   "outputs": [
    {
     "name": "stdout",
     "output_type": "stream",
     "text": [
      "\n",
      "Odd number 1\n",
      "\n",
      "Eveen number 2\n",
      "\n",
      "Odd number 3\n",
      "\n",
      "Eveen number 4\n",
      "\n",
      "Odd number 5\n",
      "\n",
      "Eveen number 6\n",
      "\n",
      "Odd number 7\n",
      "\n",
      "Eveen number 8\n",
      "\n",
      "Odd number 9\n",
      "\n",
      "Eveen number 10\n"
     ]
    }
   ],
   "source": [
    "for i in mylist:\n",
    "    if i %2 == 0:\n",
    "        print(f\"\\nEveen number {i}\")\n",
    "    else:\n",
    "        print(f\"\\nOdd number {i}\")"
   ]
  },
  {
   "cell_type": "markdown",
   "id": "d456d646-b98b-4622-b68e-650247638f8c",
   "metadata": {},
   "source": [
    "### Finding sum of all numbers using for loop"
   ]
  },
  {
   "cell_type": "code",
   "execution_count": 6,
   "id": "5942eb2c-4a00-40cc-9770-f306b4f1fcd2",
   "metadata": {},
   "outputs": [
    {
     "name": "stdout",
     "output_type": "stream",
     "text": [
      "55\n"
     ]
    }
   ],
   "source": [
    "list_sum = 0\n",
    "for i in mylist:\n",
    "    list_sum = list_sum + i\n",
    "print(list_sum)"
   ]
  },
  {
   "cell_type": "code",
   "execution_count": 7,
   "id": "b8e2ba1a-3490-4bd2-a346-3fe2d99fe913",
   "metadata": {},
   "outputs": [
    {
     "name": "stdout",
     "output_type": "stream",
     "text": [
      "H\n",
      "e\n",
      "l\n",
      "l\n",
      "o\n",
      " \n",
      "W\n",
      "o\n",
      "r\n",
      "l\n",
      "d\n"
     ]
    }
   ],
   "source": [
    "my_string = \"Hello World\"\n",
    "for i in my_string:\n",
    "    print(i)"
   ]
  },
  {
   "cell_type": "markdown",
   "id": "3cead75a-79a7-4704-83cd-fbd98f3500f4",
   "metadata": {},
   "source": [
    "### Accessing and unpacking tuples using for loop"
   ]
  },
  {
   "cell_type": "code",
   "execution_count": 8,
   "id": "ef9cae51-b25e-4c06-93be-a51384bc4756",
   "metadata": {},
   "outputs": [
    {
     "name": "stdout",
     "output_type": "stream",
     "text": [
      "1\n",
      "4\n",
      "9\n",
      "16\n",
      "25\n",
      "36\n",
      "49\n",
      "64\n",
      "81\n",
      "100\n"
     ]
    }
   ],
   "source": [
    "tup = tuple(range(1,11))\n",
    "for i in tup:\n",
    "    print(i**2)"
   ]
  },
  {
   "cell_type": "code",
   "execution_count": 9,
   "id": "77d89487-999e-454e-9cfa-a833e6a37c9c",
   "metadata": {},
   "outputs": [],
   "source": [
    "mylist = [(1,2),(3,4),(5,6),(7,8)]"
   ]
  },
  {
   "cell_type": "code",
   "execution_count": 10,
   "id": "2f6664ec-adeb-4dda-87d3-8b2ec39072fb",
   "metadata": {},
   "outputs": [
    {
     "data": {
      "text/plain": [
       "4"
      ]
     },
     "execution_count": 10,
     "metadata": {},
     "output_type": "execute_result"
    }
   ],
   "source": [
    "len(mylist)"
   ]
  },
  {
   "cell_type": "code",
   "execution_count": 11,
   "id": "26b9e8d4-8b6e-4db7-9f02-1ef3d8d5fd21",
   "metadata": {},
   "outputs": [
    {
     "data": {
      "text/plain": [
       "[(1, 2), (3, 4), (5, 6), (7, 8)]"
      ]
     },
     "execution_count": 11,
     "metadata": {},
     "output_type": "execute_result"
    }
   ],
   "source": [
    "mylist"
   ]
  },
  {
   "cell_type": "code",
   "execution_count": 12,
   "id": "6b0f3d9a-b2d6-464c-b053-0f0006e8acc5",
   "metadata": {},
   "outputs": [
    {
     "name": "stdout",
     "output_type": "stream",
     "text": [
      "(1, 2)\n",
      "(3, 4)\n",
      "(5, 6)\n",
      "(7, 8)\n"
     ]
    }
   ],
   "source": [
    "for i in mylist:\n",
    "    print(i)"
   ]
  },
  {
   "cell_type": "code",
   "execution_count": 13,
   "id": "72a7f9fb-587a-46c6-9808-bbb3169d5176",
   "metadata": {},
   "outputs": [
    {
     "name": "stdout",
     "output_type": "stream",
     "text": [
      "1\n",
      "2\n",
      "3\n",
      "4\n",
      "5\n",
      "6\n",
      "7\n",
      "8\n"
     ]
    }
   ],
   "source": [
    "for (a,b) in mylist:\n",
    "    print(a)\n",
    "    print(b)"
   ]
  },
  {
   "cell_type": "code",
   "execution_count": 14,
   "id": "9a46a3dd-69e6-4f63-b3f1-c24fd4823ec0",
   "metadata": {},
   "outputs": [
    {
     "name": "stdout",
     "output_type": "stream",
     "text": [
      "2\n",
      "5\n",
      "8\n"
     ]
    }
   ],
   "source": [
    "mylist = [(1,2,3),(0,5,4),(7,8,9)]\n",
    "for a,b,c in mylist:\n",
    "    print(b)"
   ]
  },
  {
   "cell_type": "markdown",
   "id": "61eee3e1-9739-41ce-b34d-a6b78201b604",
   "metadata": {},
   "source": [
    "### Accessing dictionary using for loop"
   ]
  },
  {
   "cell_type": "code",
   "execution_count": 15,
   "id": "fa20992f-ea61-4c85-806b-5d64e8051969",
   "metadata": {},
   "outputs": [
    {
     "name": "stdout",
     "output_type": "stream",
     "text": [
      "k1\n",
      "k2\n",
      "k3\n"
     ]
    }
   ],
   "source": [
    "d = {'k1':1,'k2':2,'k3':3}\n",
    "for i in d:\n",
    "    print(i)"
   ]
  },
  {
   "cell_type": "code",
   "execution_count": 16,
   "id": "e54dfe53-27a1-4b37-91fa-a588e946c2b5",
   "metadata": {},
   "outputs": [
    {
     "name": "stdout",
     "output_type": "stream",
     "text": [
      "('k1', 1)\n",
      "('k2', 2)\n",
      "('k3', 3)\n"
     ]
    }
   ],
   "source": [
    "d = {'k1':1,'k2':2,'k3':3}\n",
    "for i in d.items():\n",
    "    print(i)"
   ]
  },
  {
   "cell_type": "code",
   "execution_count": 17,
   "id": "d539280e-3054-4a9c-9a31-5167cb6b1099",
   "metadata": {},
   "outputs": [
    {
     "name": "stdout",
     "output_type": "stream",
     "text": [
      "k1\n",
      "\n",
      "\n",
      "1\n",
      "\n",
      "\n",
      "k1 1\n",
      "\n",
      "\n",
      "k2\n",
      "\n",
      "\n",
      "2\n",
      "\n",
      "\n",
      "k2 2\n",
      "\n",
      "\n",
      "k3\n",
      "\n",
      "\n",
      "3\n",
      "\n",
      "\n",
      "k3 3\n",
      "\n",
      "\n"
     ]
    }
   ],
   "source": [
    "for key,value in d.items():\n",
    "    print(key)\n",
    "    print(\"\\n\")\n",
    "    print(value)\n",
    "    print(\"\\n\")\n",
    "    print(key,value)\n",
    "    print(\"\\n\")"
   ]
  },
  {
   "cell_type": "code",
   "execution_count": 18,
   "id": "2e40af8c-ad38-4fdc-9d4f-8a20b6fbb665",
   "metadata": {},
   "outputs": [
    {
     "name": "stdout",
     "output_type": "stream",
     "text": [
      "1\n",
      "2\n",
      "3\n"
     ]
    }
   ],
   "source": [
    "d = {'k1':1,'k2':2,'k3':3}\n",
    "for i in d.values():\n",
    "    print(i)"
   ]
  },
  {
   "cell_type": "code",
   "execution_count": 19,
   "id": "cea073a9-75ab-432f-9f57-472ee08bf1be",
   "metadata": {},
   "outputs": [
    {
     "name": "stdout",
     "output_type": "stream",
     "text": [
      "k1\n",
      "k2\n",
      "k3\n"
     ]
    }
   ],
   "source": [
    "d = {'k1':1,'k2':2,'k3':3}\n",
    "for i in d.keys():\n",
    "    print(i)"
   ]
  },
  {
   "cell_type": "markdown",
   "id": "03d315e4-f843-4ce1-a2fa-474bf3e99827",
   "metadata": {},
   "source": [
    "### Python for loop using the zip() function for parallel iteration"
   ]
  },
  {
   "cell_type": "code",
   "execution_count": 20,
   "id": "98ff7c1d-78c7-48b2-8bde-56a5abe595ca",
   "metadata": {},
   "outputs": [],
   "source": [
    "a1 = ['Aniruddh', 'Alisha', 'Aayush', 'Rishi', 'Reva']\n",
    "b1 = [22, 20, 17, 15, 20]"
   ]
  },
  {
   "cell_type": "code",
   "execution_count": 21,
   "id": "f5feef4d-1472-4ad8-9993-dea43f485146",
   "metadata": {},
   "outputs": [
    {
     "name": "stdout",
     "output_type": "stream",
     "text": [
      "Aniruddh is 22 year old\n",
      "Alisha is 20 year old\n",
      "Aayush is 17 year old\n",
      "Rishi is 15 year old\n",
      "Reva is 20 year old\n"
     ]
    }
   ],
   "source": [
    "for i,j in zip(a1,b1):\n",
    "    print(f\"{i} is {j} year old\")"
   ]
  },
  {
   "cell_type": "markdown",
   "id": "688b154a-489d-4716-a161-ba7243a84012",
   "metadata": {},
   "source": [
    "### Nested for loops in Python"
   ]
  },
  {
   "cell_type": "code",
   "execution_count": 22,
   "id": "bff58c09-0e9f-4f9f-b9d5-0771a84ae9eb",
   "metadata": {},
   "outputs": [
    {
     "name": "stdout",
     "output_type": "stream",
     "text": [
      "Bring 5 Apple\n",
      "Bring 5 Banana\n",
      "Bring 5 Orange\n",
      "Bring 10 Apple\n",
      "Bring 10 Banana\n",
      "Bring 10 Orange\n",
      "Bring 15 Apple\n",
      "Bring 15 Banana\n",
      "Bring 15 Orange\n",
      "Bring 20 Apple\n",
      "Bring 20 Banana\n",
      "Bring 20 Orange\n"
     ]
    }
   ],
   "source": [
    "list1 = [5,10,15,20]\n",
    "list2 = ['Apple', 'Banana', 'Orange']\n",
    "for i in list1:\n",
    "    for j in list2:\n",
    "        print(f\"Bring {i} {j}\")"
   ]
  },
  {
   "cell_type": "markdown",
   "id": "e6a04c23-e74d-481f-acf0-40199d6d3815",
   "metadata": {},
   "source": [
    "### Using break statement inside a for loop"
   ]
  },
  {
   "cell_type": "code",
   "execution_count": 23,
   "id": "1199fe73-6e98-4656-ae5c-01c090e143b6",
   "metadata": {},
   "outputs": [
    {
     "name": "stdout",
     "output_type": "stream",
     "text": [
      "1\n",
      "2\n"
     ]
    }
   ],
   "source": [
    "a = [1,2,4,5,6]\n",
    "for i in a:\n",
    "    if i == 4:\n",
    "        break\n",
    "    print(i)"
   ]
  },
  {
   "cell_type": "markdown",
   "id": "1aafbcf8-d711-410a-a03a-c021f6e8df6d",
   "metadata": {},
   "source": [
    "### Using continue statement inside a for loop"
   ]
  },
  {
   "cell_type": "code",
   "execution_count": 24,
   "id": "441a6f33-9712-4acb-a0b3-eeff28d044bf",
   "metadata": {},
   "outputs": [
    {
     "name": "stdout",
     "output_type": "stream",
     "text": [
      "1\n",
      "2\n",
      "5\n",
      "6\n"
     ]
    }
   ],
   "source": [
    "for i in a:\n",
    "    if i == 4:\n",
    "        continue\n",
    "    print(i)"
   ]
  },
  {
   "cell_type": "markdown",
   "id": "99f368af-e255-4e5f-94be-aaa4f98f28db",
   "metadata": {},
   "source": [
    "### Use for loop to find the sum of all numbers in a list"
   ]
  },
  {
   "cell_type": "code",
   "execution_count": 25,
   "id": "3bb800f9-8418-427b-be52-d2f4f3882728",
   "metadata": {},
   "outputs": [
    {
     "name": "stdout",
     "output_type": "stream",
     "text": [
      "55\n"
     ]
    }
   ],
   "source": [
    "n = list(range(1,11))\n",
    "c = 0\n",
    "for i in n:\n",
    "    c = c+i\n",
    "print(c)"
   ]
  },
  {
   "cell_type": "markdown",
   "id": "632603ba-943e-4fe7-826b-fe2cb940815b",
   "metadata": {},
   "source": [
    "### for loop to copy elements from one list to another"
   ]
  },
  {
   "cell_type": "code",
   "execution_count": 26,
   "id": "d9246825-9c70-4065-b0dd-bd35417e3bcc",
   "metadata": {},
   "outputs": [
    {
     "name": "stdout",
     "output_type": "stream",
     "text": [
      "list 1 = [0, 2, 4, 6, 8, 10]\n",
      "list 2 = [0, 2, 4, 6, 8, 10]\n"
     ]
    }
   ],
   "source": [
    "list1 = list(range(0,11,2))\n",
    "l2 = []\n",
    "for i in list1:\n",
    "    l2.append(i)\n",
    "print(f\"list 1 = {list1}\")    \n",
    "print(f\"list 2 = {l2}\")"
   ]
  },
  {
   "cell_type": "markdown",
   "id": "aff5fceb-791f-4f05-8c0b-74f2159aad6c",
   "metadata": {},
   "source": [
    "### for loop to find the maximum element in a list"
   ]
  },
  {
   "cell_type": "code",
   "execution_count": 27,
   "id": "b73eb75c-59c8-4ab7-8e8c-43223c641725",
   "metadata": {},
   "outputs": [
    {
     "data": {
      "text/plain": [
       "[0, 2, 4, 6, 8, 10]"
      ]
     },
     "execution_count": 27,
     "metadata": {},
     "output_type": "execute_result"
    }
   ],
   "source": [
    "list1"
   ]
  },
  {
   "cell_type": "code",
   "execution_count": 28,
   "id": "219a0371-93d3-449c-902f-44114619288f",
   "metadata": {},
   "outputs": [
    {
     "name": "stdout",
     "output_type": "stream",
     "text": [
      "10\n"
     ]
    }
   ],
   "source": [
    "max = 0\n",
    "for i in list1:\n",
    "    if i>max:\n",
    "        max = i\n",
    "print(max)"
   ]
  },
  {
   "cell_type": "markdown",
   "id": "8c49aea4-d3e7-48e4-96c2-61d4d1b6c07f",
   "metadata": {},
   "source": [
    "### for loop to find the minimum element in a list"
   ]
  },
  {
   "cell_type": "code",
   "execution_count": 29,
   "id": "88ad2923-0024-437f-8ff1-d48b59c3f4d4",
   "metadata": {},
   "outputs": [
    {
     "name": "stdout",
     "output_type": "stream",
     "text": [
      "[0, 2, 4, 6, 8, 10]\n",
      "minimum value from list is 0\n"
     ]
    }
   ],
   "source": [
    "min = 10000\n",
    "for i in list1:\n",
    "    if min>i:\n",
    "        min = i\n",
    "print(list1)\n",
    "print(f\"minimum value from list is {min}\")"
   ]
  },
  {
   "cell_type": "code",
   "execution_count": null,
   "id": "d92741d3-1128-4c0b-a382-ef0fa80a465a",
   "metadata": {},
   "outputs": [],
   "source": []
  },
  {
   "cell_type": "code",
   "execution_count": null,
   "id": "c4bb5e12-c001-4288-866f-76c8ba1560a2",
   "metadata": {},
   "outputs": [],
   "source": []
  }
 ],
 "metadata": {
  "kernelspec": {
   "display_name": "Python 3 (ipykernel)",
   "language": "python",
   "name": "python3"
  },
  "language_info": {
   "codemirror_mode": {
    "name": "ipython",
    "version": 3
   },
   "file_extension": ".py",
   "mimetype": "text/x-python",
   "name": "python",
   "nbconvert_exporter": "python",
   "pygments_lexer": "ipython3",
   "version": "3.10.8"
  }
 },
 "nbformat": 4,
 "nbformat_minor": 5
}
