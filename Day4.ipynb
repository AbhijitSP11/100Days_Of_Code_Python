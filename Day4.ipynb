{
 "cells": [
  {
   "cell_type": "markdown",
   "id": "dd45f692-fb2e-4079-ab85-9b2a0e65b903",
   "metadata": {},
   "source": [
    "# Day-4"
   ]
  },
  {
   "cell_type": "markdown",
   "id": "7fc64bd1-fc12-4c3c-9ebf-653c7db86989",
   "metadata": {},
   "source": [
    "## Topics going to be cover in Day 4\n",
    "- Exploring if Statements\n",
    "- if Statements \n",
    "- The if-elif-else Chain\n",
    "- Using Multiple elif Blocks\n",
    "- Testing Multiple Conditions\n",
    "- Using if Statements with Lists\n"
   ]
  },
  {
   "cell_type": "markdown",
   "id": "c4082174-c92c-46ee-b79f-04171e3c50b7",
   "metadata": {},
   "source": [
    "# if Statment "
   ]
  },
  {
   "cell_type": "code",
   "execution_count": 2,
   "id": "328816f5-c61c-4b65-8a6a-3131861324cb",
   "metadata": {},
   "outputs": [
    {
     "name": "stdout",
     "output_type": "stream",
     "text": [
      "True\n"
     ]
    }
   ],
   "source": [
    "age = 19\n",
    "if age == 19:\n",
    "    print(True)"
   ]
  },
  {
   "cell_type": "code",
   "execution_count": 3,
   "id": "f9cc9954-7ef8-4437-a782-dcd45e301bb0",
   "metadata": {},
   "outputs": [
    {
     "name": "stdout",
     "output_type": "stream",
     "text": [
      "You are old enough to vode!\n"
     ]
    }
   ],
   "source": [
    "age = 19\n",
    "if age >= 18:\n",
    "    print(\"You are old enough to vode!\")"
   ]
  },
  {
   "cell_type": "code",
   "execution_count": 4,
   "id": "91d69f99-d6b7-4273-a412-7fb6b9013b3a",
   "metadata": {},
   "outputs": [
    {
     "name": "stdout",
     "output_type": "stream",
     "text": [
      "False\n"
     ]
    }
   ],
   "source": [
    "age = 19\n",
    "if age != 18:\n",
    "    print(False)"
   ]
  },
  {
   "cell_type": "markdown",
   "id": "4eaae9ab-a9c1-4eb4-9449-db9d26f4995a",
   "metadata": {},
   "source": [
    "## if-else Statements"
   ]
  },
  {
   "cell_type": "code",
   "execution_count": 7,
   "id": "66e6ed38-00a8-4ae4-bebf-ec23513e4feb",
   "metadata": {},
   "outputs": [
    {
     "name": "stdout",
     "output_type": "stream",
     "text": [
      "You are not elegible to vote!\n"
     ]
    }
   ],
   "source": [
    "age = 17\n",
    "if age>=18:\n",
    "    print(\"Your are old enough to vote!\")\n",
    "else:\n",
    "    print(\"You are not elegible to vote!\")"
   ]
  },
  {
   "cell_type": "code",
   "execution_count": 8,
   "id": "1c96d988-0cca-4f4f-9aec-5389f2c80cea",
   "metadata": {},
   "outputs": [
    {
     "name": "stdout",
     "output_type": "stream",
     "text": [
      "Your are old enough to vote!\n"
     ]
    }
   ],
   "source": [
    "age = 19\n",
    "if age>=18:\n",
    "    print(\"Your are old enough to vote!\")\n",
    "else:\n",
    "    print(\"You are not elegible to vote!\")"
   ]
  },
  {
   "cell_type": "code",
   "execution_count": 10,
   "id": "69a90711-00be-4982-93c8-ba9d01ad4b0c",
   "metadata": {},
   "outputs": [
    {
     "name": "stdout",
     "output_type": "stream",
     "text": [
      "You are not elegible to vote!\n"
     ]
    }
   ],
   "source": [
    "age = 19\n",
    "if age==18:\n",
    "    print(\"Your are old enough to vote!\")\n",
    "else:\n",
    "    print(\"You are not elegible to vote!\")"
   ]
  },
  {
   "cell_type": "code",
   "execution_count": 11,
   "id": "61e70c0a-be18-4740-bf15-11fef1e08a14",
   "metadata": {},
   "outputs": [
    {
     "name": "stdout",
     "output_type": "stream",
     "text": [
      "You are not elegible to vote!\n"
     ]
    }
   ],
   "source": [
    "age = 19\n",
    "if age<=18:\n",
    "    print(\"Your are old enough to vote!\")\n",
    "else:\n",
    "    print(\"You are not elegible to vote!\")"
   ]
  },
  {
   "cell_type": "code",
   "execution_count": 12,
   "id": "098d084a-6ef9-4963-a5cf-53e2fe6df796",
   "metadata": {},
   "outputs": [
    {
     "name": "stdout",
     "output_type": "stream",
     "text": [
      "Your are old enough to vote!\n"
     ]
    }
   ],
   "source": [
    "age = 15\n",
    "if age<=18:\n",
    "    print(\"Your are old enough to vote!\")\n",
    "else:\n",
    "    print(\"You are not elegible to vote!\")"
   ]
  },
  {
   "cell_type": "code",
   "execution_count": 13,
   "id": "b8ba2e92-436a-41fd-9f19-f8a59f658924",
   "metadata": {},
   "outputs": [
    {
     "name": "stdout",
     "output_type": "stream",
     "text": [
      "Your are old enough to vote!\n"
     ]
    }
   ],
   "source": [
    "age = 15\n",
    "if age!=18:\n",
    "    print(\"Your are old enough to vote!\")\n",
    "else:\n",
    "    print(\"You are not elegible to vote!\")"
   ]
  },
  {
   "cell_type": "code",
   "execution_count": 14,
   "id": "428b31d3-15f6-4ed0-9e04-ef244fc8b65a",
   "metadata": {},
   "outputs": [
    {
     "name": "stdout",
     "output_type": "stream",
     "text": [
      "You are not elegible to vote!\n"
     ]
    }
   ],
   "source": [
    "age = 18\n",
    "if age!=18:\n",
    "    print(\"Your are old enough to vote!\")\n",
    "else:\n",
    "    print(\"You are not elegible to vote!\")"
   ]
  },
  {
   "cell_type": "markdown",
   "id": "e21d1779-341c-434a-b8c7-e209c29e3259",
   "metadata": {},
   "source": [
    "## The if-elif-else Chain"
   ]
  },
  {
   "cell_type": "code",
   "execution_count": 15,
   "id": "50cdaf28-9a90-49f5-a290-c2cacd742637",
   "metadata": {},
   "outputs": [
    {
     "name": "stdout",
     "output_type": "stream",
     "text": [
      "Your fee is 500rs\n"
     ]
    }
   ],
   "source": [
    "age = 18\n",
    "if age<4:\n",
    "    print(\"Your fee is free\")\n",
    "elif age<20:\n",
    "    print(\"Your fee is 500rs\")\n",
    "else:\n",
    "    print(\"Your frr is 700rs\")"
   ]
  },
  {
   "cell_type": "code",
   "execution_count": 16,
   "id": "f23ba8b4-1094-481f-b344-f738754be63e",
   "metadata": {},
   "outputs": [
    {
     "name": "stdout",
     "output_type": "stream",
     "text": [
      "Your fee is free\n"
     ]
    }
   ],
   "source": [
    "age = 2\n",
    "if age<4:\n",
    "    print(\"Your fee is free\")\n",
    "elif age<20:\n",
    "    print(\"Your fee is 500rs\")\n",
    "else:\n",
    "    print(\"Your frr is 700rs\")"
   ]
  },
  {
   "cell_type": "code",
   "execution_count": 17,
   "id": "06c9a4de-9f24-40b5-b599-2a53b38d8c73",
   "metadata": {},
   "outputs": [
    {
     "name": "stdout",
     "output_type": "stream",
     "text": [
      "Your frr is 700rs\n"
     ]
    }
   ],
   "source": [
    "age = 25\n",
    "if age<4:\n",
    "    print(\"Your fee is free\")\n",
    "elif age<20:\n",
    "    print(\"Your fee is 500rs\")\n",
    "else:\n",
    "    print(\"Your frr is 700rs\")"
   ]
  },
  {
   "cell_type": "code",
   "execution_count": 22,
   "id": "c516fe81-3fe0-40f2-84d6-5d84625788f8",
   "metadata": {},
   "outputs": [
    {
     "name": "stdout",
     "output_type": "stream",
     "text": [
      "Your fee will be Rs.500.\n"
     ]
    }
   ],
   "source": [
    "# Using f string in if-else-elif\n",
    "age = 18\n",
    "if age<4:\n",
    "    price = 0\n",
    "elif age<20:\n",
    "    price = 500\n",
    "else:\n",
    "    price = 700\n",
    "print(f\"Your fee will be Rs.{price}.\")"
   ]
  },
  {
   "cell_type": "markdown",
   "id": "d0069b58-742d-4d5f-b516-cb4a7f016cfd",
   "metadata": {},
   "source": [
    "## Using Multiple elif Blocks withou else"
   ]
  },
  {
   "cell_type": "code",
   "execution_count": 23,
   "id": "89204196-7a26-48b4-94d8-41e3e9e8352e",
   "metadata": {},
   "outputs": [
    {
     "name": "stdout",
     "output_type": "stream",
     "text": [
      "Your fee will be Rs.500.\n"
     ]
    }
   ],
   "source": [
    "age = 18\n",
    "if age<4:\n",
    "    price = 0\n",
    "elif age<20:\n",
    "    price = 500\n",
    "elif age==18:\n",
    "    price = 400\n",
    "elif age>=25:\n",
    "    price = 600\n",
    "print(f\"Your fee will be Rs.{price}.\")"
   ]
  },
  {
   "cell_type": "markdown",
   "id": "224cad28-9c0f-4dd4-9b82-7146de6a7fbc",
   "metadata": {},
   "source": [
    "## Testing Multiple Conditions"
   ]
  },
  {
   "cell_type": "code",
   "execution_count": 24,
   "id": "5fea6daa-7a24-4611-a81a-c02f55bdf069",
   "metadata": {},
   "outputs": [
    {
     "name": "stdout",
     "output_type": "stream",
     "text": [
      "Adding Extra Cheesee\n",
      "Adding PeriPeri\n",
      "Your Pizza is Done!\n"
     ]
    }
   ],
   "source": [
    "topping = ['Extra Cheese', 'Mushroom', 'PeriPeri']\n",
    "if 'Extra Cheese' in topping:\n",
    "    print(\"Adding Extra Cheesee\")\n",
    "if 'peproni' in topping:\n",
    "    print(\"Adding peproni\")\n",
    "if 'PeriPeri' in topping:\n",
    "    print(\"Adding PeriPeri\")\n",
    "print(\"Your Pizza is Done!\")"
   ]
  },
  {
   "cell_type": "markdown",
   "id": "3c54cca2-c0f0-4676-9376-261614f26b09",
   "metadata": {},
   "source": [
    "## Using if Statements with Lists"
   ]
  },
  {
   "cell_type": "code",
   "execution_count": 27,
   "id": "a4322d43-b3e8-4199-8722-27f399b2b246",
   "metadata": {},
   "outputs": [
    {
     "name": "stdout",
     "output_type": "stream",
     "text": [
      "AddingAniruddh\n",
      "Jigyasa is not coming because of her mood swings\n",
      "AddingAbhijit\n",
      "AddingUjjwal\n",
      "AddingAnushka\n",
      "Done with Party\n"
     ]
    }
   ],
   "source": [
    "name = ['Aniruddh', 'Jigyasa', 'Abhijit', 'Ujjwal', 'Anushka']\n",
    "for names in name:\n",
    "    if names == 'Jigyasa':\n",
    "        print(\"Jigyasa is not coming because of her mood swings\")\n",
    "    else:\n",
    "        print(f\"Adding{names}\")\n",
    "print(\"Done with Party\")"
   ]
  },
  {
   "cell_type": "code",
   "execution_count": 30,
   "id": "350e4431-89a7-425b-8c05-4eb556e94aa3",
   "metadata": {},
   "outputs": [
    {
     "name": "stdout",
     "output_type": "stream",
     "text": [
      "Adding Aniruddh\n",
      "Jigyasa is not coming because of her mood swings\n",
      "Adding Abhijit\n",
      "Adding Ujjwal\n",
      "Adding Anushka\n",
      "Done with Party\n"
     ]
    }
   ],
   "source": [
    "name = ['Aniruddh', 'Jigyasa', 'Abhijit', 'Ujjwal', 'Anushka']\n",
    "for names in name:\n",
    "    if names == 'Jigyasa':\n",
    "        print(\"Jigyasa is not coming because of her mood swings\")\n",
    "    else:\n",
    "        print(f\"Adding {names}\")\n",
    "print(\"Done with Party\")\n"
   ]
  },
  {
   "cell_type": "code",
   "execution_count": null,
   "id": "c3faed5c-f992-4e3b-9417-0790b668658c",
   "metadata": {},
   "outputs": [],
   "source": []
  }
 ],
 "metadata": {
  "kernelspec": {
   "display_name": "Python 3 (ipykernel)",
   "language": "python",
   "name": "python3"
  },
  "language_info": {
   "codemirror_mode": {
    "name": "ipython",
    "version": 3
   },
   "file_extension": ".py",
   "mimetype": "text/x-python",
   "name": "python",
   "nbconvert_exporter": "python",
   "pygments_lexer": "ipython3",
   "version": "3.10.8"
  }
 },
 "nbformat": 4,
 "nbformat_minor": 5
}
