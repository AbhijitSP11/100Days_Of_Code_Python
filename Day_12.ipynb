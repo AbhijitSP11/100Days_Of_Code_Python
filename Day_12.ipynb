{
 "cells": [
  {
   "cell_type": "markdown",
   "id": "2f844c03-6809-43ec-8a89-167b293fdcc1",
   "metadata": {},
   "source": [
    "# Day 12"
   ]
  },
  {
   "cell_type": "markdown",
   "id": "8f66d7eb-65a0-4997-ab20-356df522a2d0",
   "metadata": {},
   "source": [
    "## Topics going to be cover in Day 12\n",
    "- Solve some geeksforgeeks problems"
   ]
  },
  {
   "cell_type": "markdown",
   "id": "97a95254-7628-4b40-bd31-713d04baa007",
   "metadata": {},
   "source": [
    "### Python program to interchange first and last elements in a list"
   ]
  },
  {
   "cell_type": "code",
   "execution_count": 1,
   "id": "623d6541-01d4-49e6-968f-48516b6cb2cd",
   "metadata": {},
   "outputs": [],
   "source": [
    "def swap_list(x):\n",
    "    t = x[0]\n",
    "    x[0] = x[-1]\n",
    "    x[-1] = t\n",
    "    return x"
   ]
  },
  {
   "cell_type": "code",
   "execution_count": 2,
   "id": "b0d1e7d9-c1e0-4a1f-acb8-fbfb5e777bea",
   "metadata": {},
   "outputs": [
    {
     "name": "stdout",
     "output_type": "stream",
     "text": [
      "This is the orignal list [1, 2, 3, 4, 5, 6, 7]\n",
      "This is the swap list [7, 2, 3, 4, 5, 6, 1]\n"
     ]
    }
   ],
   "source": [
    "x= [1,2,3,4,5,6,7]\n",
    "print(\"This is the orignal list\",x)\n",
    "print(\"This is the swap list\",swap_list(x))"
   ]
  },
  {
   "cell_type": "markdown",
   "id": "4952b4c5-9977-49a0-8eab-a4beb46aed48",
   "metadata": {},
   "source": [
    "### Python program to swap two elements in a list"
   ]
  },
  {
   "cell_type": "code",
   "execution_count": 3,
   "id": "46eda7f6-3e28-4a5d-bec3-c431261ac352",
   "metadata": {},
   "outputs": [],
   "source": [
    "def swap_element(x,p1,p2):\n",
    "    t = x[p1] \n",
    "    x[p1] = x[p2]\n",
    "    x[p2] = t\n",
    "    return x"
   ]
  },
  {
   "cell_type": "code",
   "execution_count": 4,
   "id": "8442e221-7a19-4861-b2b5-d3ce12b3e0a9",
   "metadata": {},
   "outputs": [
    {
     "name": "stdout",
     "output_type": "stream",
     "text": [
      "[7, 4, 3, 2, 5, 6, 1]\n"
     ]
    }
   ],
   "source": [
    "p1 = 1\n",
    "p2 = 3\n",
    "print(swap_element(x,p1,p2))"
   ]
  },
  {
   "cell_type": "markdown",
   "id": "79a0263f-cf16-4fb9-bf66-cfc9da90cff6",
   "metadata": {},
   "source": [
    "### How To Find the Length of a List in Python using for loop"
   ]
  },
  {
   "cell_type": "code",
   "execution_count": 5,
   "id": "35296c46-b9f7-4ea9-ae4c-441b9ca5c667",
   "metadata": {},
   "outputs": [],
   "source": [
    "x\n",
    "c = 0"
   ]
  },
  {
   "cell_type": "code",
   "execution_count": 6,
   "id": "5950a10f-280e-46b4-a0e1-e88aebc0aeff",
   "metadata": {},
   "outputs": [
    {
     "name": "stdout",
     "output_type": "stream",
     "text": [
      "7\n"
     ]
    }
   ],
   "source": [
    "for i in x:\n",
    "    c = c+1\n",
    "print(c)"
   ]
  },
  {
   "cell_type": "markdown",
   "id": "f7491a86-4c31-4609-84f9-a7af7b60d20d",
   "metadata": {},
   "source": [
    "### Maximum of two numbers in Python"
   ]
  },
  {
   "cell_type": "code",
   "execution_count": 7,
   "id": "95bd3dd9-31b0-4cff-b4f9-e6d4c794ad37",
   "metadata": {},
   "outputs": [
    {
     "name": "stdout",
     "output_type": "stream",
     "text": [
      "8\n"
     ]
    }
   ],
   "source": [
    "def maxi(x,y):\n",
    "    if x>=y:\n",
    "        return x\n",
    "    else:\n",
    "        \n",
    "        return y\n",
    "    \n",
    "print(maxi(5,8))\n",
    "     "
   ]
  },
  {
   "cell_type": "code",
   "execution_count": 8,
   "id": "89533bfe-9aab-4a41-9cb8-6feecf240cbd",
   "metadata": {},
   "outputs": [
    {
     "data": {
      "text/plain": [
       "[7, 4, 3, 2, 5, 6, 1]"
      ]
     },
     "execution_count": 8,
     "metadata": {},
     "output_type": "execute_result"
    }
   ],
   "source": [
    "x"
   ]
  },
  {
   "cell_type": "markdown",
   "id": "261ac55c-dd77-4478-86c2-dae2ef5dd553",
   "metadata": {},
   "source": [
    "### Check if element exists in list in Python"
   ]
  },
  {
   "cell_type": "code",
   "execution_count": 9,
   "id": "f5b673db-0bcf-4bf4-be7b-6fe06f733c15",
   "metadata": {},
   "outputs": [
    {
     "name": "stdin",
     "output_type": "stream",
     "text": [
      "Enter the number you want to search:-  13432\n"
     ]
    },
    {
     "name": "stdout",
     "output_type": "stream",
     "text": [
      "Not found\n"
     ]
    },
    {
     "name": "stdin",
     "output_type": "stream",
     "text": [
      "Enter the number you want to search:-  423\n"
     ]
    },
    {
     "name": "stdout",
     "output_type": "stream",
     "text": [
      "Not found\n"
     ]
    },
    {
     "name": "stdin",
     "output_type": "stream",
     "text": [
      "Enter the number you want to search:-  1\n"
     ]
    },
    {
     "name": "stdout",
     "output_type": "stream",
     "text": [
      "1\n"
     ]
    }
   ],
   "source": [
    "while(True):\n",
    "    y = int(input(\"Enter the number you want to search:- \"))\n",
    "    if y in x:\n",
    "        print(y)\n",
    "        break\n",
    "    else:\n",
    "        print(\"Not found\")"
   ]
  },
  {
   "cell_type": "markdown",
   "id": "d81d356e-cca6-40a7-8ce7-947a6ad7123b",
   "metadata": {},
   "source": [
    "### Write a Python program to find those numbers which are divisible by 7 and multiples of 5, between 1500 and 2700 (both included)."
   ]
  },
  {
   "cell_type": "code",
   "execution_count": 10,
   "id": "69f9adaf-14a7-42b5-a770-d96ce751c9cb",
   "metadata": {},
   "outputs": [
    {
     "name": "stdout",
     "output_type": "stream",
     "text": [
      "[1505, 1540, 1575, 1610, 1645, 1680, 1715, 1750, 1785, 1820, 1855, 1890, 1925, 1960, 1995, 2030, 2065, 2100, 2135, 2170, 2205, 2240, 2275, 2310, 2345, 2380, 2415, 2450, 2485, 2520, 2555, 2590, 2625, 2660, 2695]\n"
     ]
    }
   ],
   "source": [
    "l = []\n",
    "for i in range(1500, 2701):\n",
    "    if i % 7 == 0 and i % 5 == 0:\n",
    "        l.append(i)\n",
    "print(l)"
   ]
  },
  {
   "cell_type": "markdown",
   "id": "327397d1-2a33-424f-a02e-57e06c3fa854",
   "metadata": {},
   "source": [
    "### Write a Python program to count the number of even and odd numbers in a series of numbers\n",
    "Sample numbers : numbers = (1, 2, 3, 4, 5, 6, 7, 8, 9) "
   ]
  },
  {
   "cell_type": "code",
   "execution_count": 18,
   "id": "338556e6-23fa-478b-a59c-e85fdbbbc91f",
   "metadata": {},
   "outputs": [
    {
     "name": "stdout",
     "output_type": "stream",
     "text": [
      "[1, 2, 3, 4, 5, 6, 7, 8, 9, 10, 11]\n",
      "Count of even number:-  5\n",
      "Count of odd number:-  6\n"
     ]
    }
   ],
   "source": [
    "x = list(range(1,12))\n",
    "c_n = 0\n",
    "c_o = 0\n",
    "for i in x:\n",
    "    if i%2 == 0:\n",
    "        c_n = c_n+1\n",
    "    else:\n",
    "        c_o = c_o+1\n",
    "print(x)\n",
    "print(\"Count of even number:- \",c_n)\n",
    "print(\"Count of odd number:- \",c_o)"
   ]
  },
  {
   "cell_type": "code",
   "execution_count": null,
   "id": "342cccf6-3dd8-469f-a0c8-504d14cc0959",
   "metadata": {},
   "outputs": [],
   "source": []
  }
 ],
 "metadata": {
  "kernelspec": {
   "display_name": "Python 3 (ipykernel)",
   "language": "python",
   "name": "python3"
  },
  "language_info": {
   "codemirror_mode": {
    "name": "ipython",
    "version": 3
   },
   "file_extension": ".py",
   "mimetype": "text/x-python",
   "name": "python",
   "nbconvert_exporter": "python",
   "pygments_lexer": "ipython3",
   "version": "3.10.8"
  }
 },
 "nbformat": 4,
 "nbformat_minor": 5
}
