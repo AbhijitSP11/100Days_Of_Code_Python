{
 "cells": [
  {
   "cell_type": "markdown",
   "id": "ddccca8e-d638-4d41-9550-703811e30c62",
   "metadata": {},
   "source": [
    "# Day 10"
   ]
  },
  {
   "cell_type": "markdown",
   "id": "0c8f3326-85a3-4f25-96cd-6a40b61765d8",
   "metadata": {},
   "source": [
    "## Topics going to be cover in Day 10\n",
    "- Function Basics\n",
    "- Generator Function\n",
    "- Lambda function\n",
    "- *args and **kwargs"
   ]
  },
  {
   "cell_type": "code",
   "execution_count": 1,
   "id": "c22bb760-aa4b-4482-968c-ea6c5a02ce95",
   "metadata": {},
   "outputs": [],
   "source": [
    "def test():\n",
    "    pass"
   ]
  },
  {
   "cell_type": "code",
   "execution_count": 2,
   "id": "e4cdac1a-7f3f-4405-9856-44abd0437f49",
   "metadata": {},
   "outputs": [],
   "source": [
    "def test1():\n",
    "    print(\"This is my very very first function\")"
   ]
  },
  {
   "cell_type": "code",
   "execution_count": 3,
   "id": "ec6f592c-1846-400a-a7d0-f6eb46771177",
   "metadata": {},
   "outputs": [
    {
     "name": "stdout",
     "output_type": "stream",
     "text": [
      "This is my very very first function\n"
     ]
    }
   ],
   "source": [
    "test1() "
   ]
  },
  {
   "cell_type": "code",
   "execution_count": 4,
   "id": "feb551ee-f1d8-4c5a-accf-181e82c9c56b",
   "metadata": {},
   "outputs": [
    {
     "name": "stdout",
     "output_type": "stream",
     "text": [
      "This is my very very first function\n"
     ]
    },
    {
     "ename": "TypeError",
     "evalue": "unsupported operand type(s) for +: 'NoneType' and 'str'",
     "output_type": "error",
     "traceback": [
      "\u001b[0;31m---------------------------------------------------------------------------\u001b[0m",
      "\u001b[0;31mTypeError\u001b[0m                                 Traceback (most recent call last)",
      "Cell \u001b[0;32mIn[4], line 1\u001b[0m\n\u001b[0;32m----> 1\u001b[0m \u001b[43mtest1\u001b[49m\u001b[43m(\u001b[49m\u001b[43m)\u001b[49m\u001b[43m \u001b[49m\u001b[38;5;241;43m+\u001b[39;49m\u001b[43m \u001b[49m\u001b[38;5;124;43m'\u001b[39;49m\u001b[38;5;124;43mGOlU\u001b[39;49m\u001b[38;5;124;43m'\u001b[39;49m\n",
      "\u001b[0;31mTypeError\u001b[0m: unsupported operand type(s) for +: 'NoneType' and 'str'"
     ]
    }
   ],
   "source": [
    "test1() + 'GOlU'"
   ]
  },
  {
   "cell_type": "code",
   "execution_count": 5,
   "id": "cec02512-ac4f-4281-bf6e-29b24570519e",
   "metadata": {},
   "outputs": [
    {
     "name": "stdout",
     "output_type": "stream",
     "text": [
      "This is my very very first function\n"
     ]
    },
    {
     "data": {
      "text/plain": [
       "NoneType"
      ]
     },
     "execution_count": 5,
     "metadata": {},
     "output_type": "execute_result"
    }
   ],
   "source": [
    "type(test1())"
   ]
  },
  {
   "cell_type": "code",
   "execution_count": 6,
   "id": "a5167a5e-b4ee-4c9a-8032-527b8665fe8a",
   "metadata": {},
   "outputs": [],
   "source": [
    "def test2():\n",
    "    return \"This is my very first return\" ## return is a existing keyword it return the data type as it is"
   ]
  },
  {
   "cell_type": "code",
   "execution_count": 7,
   "id": "d1ef8092-2de9-42ba-9a65-cc1cf5937731",
   "metadata": {},
   "outputs": [
    {
     "data": {
      "text/plain": [
       "'This is my very first return'"
      ]
     },
     "execution_count": 7,
     "metadata": {},
     "output_type": "execute_result"
    }
   ],
   "source": [
    "test2()"
   ]
  },
  {
   "cell_type": "code",
   "execution_count": 8,
   "id": "e46e8236-fcb0-453d-be93-2ff1d869ecf3",
   "metadata": {},
   "outputs": [
    {
     "data": {
      "text/plain": [
       "'This is my very first return Golu'"
      ]
     },
     "execution_count": 8,
     "metadata": {},
     "output_type": "execute_result"
    }
   ],
   "source": [
    "test2()+' Golu'"
   ]
  },
  {
   "cell_type": "code",
   "execution_count": 9,
   "id": "dfac2997-c7fb-4c97-ac19-06d0a33400a6",
   "metadata": {},
   "outputs": [],
   "source": [
    "def test3():\n",
    "    return 'Golu', 23, 345.56, [1,2,3]"
   ]
  },
  {
   "cell_type": "code",
   "execution_count": 10,
   "id": "811513fc-4899-43e9-bba7-cdf3a1e4ab87",
   "metadata": {},
   "outputs": [
    {
     "data": {
      "text/plain": [
       "('Golu', 23, 345.56, [1, 2, 3])"
      ]
     },
     "execution_count": 10,
     "metadata": {},
     "output_type": "execute_result"
    }
   ],
   "source": [
    "test3()"
   ]
  },
  {
   "cell_type": "code",
   "execution_count": 11,
   "id": "b80ae3ed-b7ae-4a9f-8468-ba33d9fa33b3",
   "metadata": {},
   "outputs": [],
   "source": [
    "a,b,c,d = test3()"
   ]
  },
  {
   "cell_type": "code",
   "execution_count": 12,
   "id": "e9a83ee4-4926-4014-8928-4a2858b002ae",
   "metadata": {},
   "outputs": [
    {
     "data": {
      "text/plain": [
       "'Golu'"
      ]
     },
     "execution_count": 12,
     "metadata": {},
     "output_type": "execute_result"
    }
   ],
   "source": [
    "a"
   ]
  },
  {
   "cell_type": "code",
   "execution_count": 13,
   "id": "9761319d-9079-4139-8e44-b7435f75a7ca",
   "metadata": {},
   "outputs": [
    {
     "data": {
      "text/plain": [
       "23"
      ]
     },
     "execution_count": 13,
     "metadata": {},
     "output_type": "execute_result"
    }
   ],
   "source": [
    "b"
   ]
  },
  {
   "cell_type": "code",
   "execution_count": 14,
   "id": "e30bba98-a835-4be6-8c65-cf2d832f279c",
   "metadata": {},
   "outputs": [
    {
     "data": {
      "text/plain": [
       "345.56"
      ]
     },
     "execution_count": 14,
     "metadata": {},
     "output_type": "execute_result"
    }
   ],
   "source": [
    "c"
   ]
  },
  {
   "cell_type": "code",
   "execution_count": 15,
   "id": "b2a3429a-10d9-4e4a-b3bd-60a8273bbfcb",
   "metadata": {},
   "outputs": [
    {
     "data": {
      "text/plain": [
       "[1, 2, 3]"
      ]
     },
     "execution_count": 15,
     "metadata": {},
     "output_type": "execute_result"
    }
   ],
   "source": [
    "d"
   ]
  },
  {
   "cell_type": "code",
   "execution_count": 16,
   "id": "7c417bbf-2fa1-4913-800f-219720e7768f",
   "metadata": {},
   "outputs": [
    {
     "name": "stdout",
     "output_type": "stream",
     "text": [
      "Golu\n",
      "23\n",
      "345.56\n",
      "[1, 2, 3]\n"
     ]
    }
   ],
   "source": [
    "for i in test3():\n",
    "    print(i)"
   ]
  },
  {
   "cell_type": "code",
   "execution_count": 17,
   "id": "57d5e56c-a89a-4b7e-963e-bc3e3dbc4a0e",
   "metadata": {},
   "outputs": [],
   "source": [
    "def test4():\n",
    "    a = 5+6/7\n",
    "    return a"
   ]
  },
  {
   "cell_type": "code",
   "execution_count": 18,
   "id": "bda099d0-cb76-4943-8cf6-be18dc6483d1",
   "metadata": {},
   "outputs": [
    {
     "data": {
      "text/plain": [
       "5.857142857142857"
      ]
     },
     "execution_count": 18,
     "metadata": {},
     "output_type": "execute_result"
    }
   ],
   "source": [
    "test4()"
   ]
  },
  {
   "cell_type": "code",
   "execution_count": 19,
   "id": "5b7111aa-56cb-4c8c-91ee-275d4420787c",
   "metadata": {},
   "outputs": [],
   "source": [
    "def test5(a,b,c):\n",
    "    d = a+b/c\n",
    "    return d"
   ]
  },
  {
   "cell_type": "code",
   "execution_count": 20,
   "id": "f263e197-db53-4f6a-971d-b94757cd9972",
   "metadata": {},
   "outputs": [
    {
     "ename": "TypeError",
     "evalue": "test5() missing 3 required positional arguments: 'a', 'b', and 'c'",
     "output_type": "error",
     "traceback": [
      "\u001b[0;31m---------------------------------------------------------------------------\u001b[0m",
      "\u001b[0;31mTypeError\u001b[0m                                 Traceback (most recent call last)",
      "Cell \u001b[0;32mIn[20], line 1\u001b[0m\n\u001b[0;32m----> 1\u001b[0m \u001b[43mtest5\u001b[49m\u001b[43m(\u001b[49m\u001b[43m)\u001b[49m\n",
      "\u001b[0;31mTypeError\u001b[0m: test5() missing 3 required positional arguments: 'a', 'b', and 'c'"
     ]
    }
   ],
   "source": [
    "test5()"
   ]
  },
  {
   "cell_type": "code",
   "execution_count": 21,
   "id": "323e4258-2b10-4223-8b33-be273168c4d5",
   "metadata": {},
   "outputs": [
    {
     "data": {
      "text/plain": [
       "2.625"
      ]
     },
     "execution_count": 21,
     "metadata": {},
     "output_type": "execute_result"
    }
   ],
   "source": [
    "test5(2,5,8)"
   ]
  },
  {
   "cell_type": "code",
   "execution_count": 22,
   "id": "eb6b3afa-5545-44be-9bc0-db835cc8f9ed",
   "metadata": {},
   "outputs": [],
   "source": [
    "def test6(a,b):\n",
    "    return a+b"
   ]
  },
  {
   "cell_type": "code",
   "execution_count": 23,
   "id": "20334412-0723-4622-b0af-c9defe270bb8",
   "metadata": {},
   "outputs": [
    {
     "data": {
      "text/plain": [
       "5"
      ]
     },
     "execution_count": 23,
     "metadata": {},
     "output_type": "execute_result"
    }
   ],
   "source": [
    "test6(2,3)"
   ]
  },
  {
   "cell_type": "code",
   "execution_count": 24,
   "id": "ebe8ff7b-7eae-4c66-97aa-06e13166396b",
   "metadata": {},
   "outputs": [
    {
     "data": {
      "text/plain": [
       "'Aniruddh Tiwari'"
      ]
     },
     "execution_count": 24,
     "metadata": {},
     "output_type": "execute_result"
    }
   ],
   "source": [
    "test6('Aniruddh',' Tiwari')"
   ]
  },
  {
   "cell_type": "code",
   "execution_count": 25,
   "id": "74298cc1-853b-4cb4-b5f2-8d027fedfc14",
   "metadata": {},
   "outputs": [
    {
     "data": {
      "text/plain": [
       "[1, 2, 3, 4, 5, 6, 7, 8, 9, 10]"
      ]
     },
     "execution_count": 25,
     "metadata": {},
     "output_type": "execute_result"
    }
   ],
   "source": [
    "test6([1,2,3,4,5],[6,7,8,9,10])"
   ]
  },
  {
   "cell_type": "code",
   "execution_count": 26,
   "id": "14d95b8f-a454-43da-926a-a211f0f310d6",
   "metadata": {},
   "outputs": [],
   "source": [
    "l = [1,2,3,4,5,5.5,4.9,2.7,'Aniruddh', 'Tiwari', [12,14,16,18]]"
   ]
  },
  {
   "cell_type": "code",
   "execution_count": 27,
   "id": "7d560666-3f26-4be0-97c3-7715267465ce",
   "metadata": {},
   "outputs": [],
   "source": [
    "# without function\n",
    "l1 = [] \n",
    "for i in l:\n",
    "    if type(i) == int or type(i) == float:\n",
    "        l1.append(i)"
   ]
  },
  {
   "cell_type": "code",
   "execution_count": 28,
   "id": "bac6b985-dccb-48d3-abaf-6c1abeb76932",
   "metadata": {},
   "outputs": [
    {
     "data": {
      "text/plain": [
       "[1, 2, 3, 4, 5, 5.5, 4.9, 2.7]"
      ]
     },
     "execution_count": 28,
     "metadata": {},
     "output_type": "execute_result"
    }
   ],
   "source": [
    "l1"
   ]
  },
  {
   "cell_type": "code",
   "execution_count": 29,
   "id": "72ab1ed2-2c66-4087-8fb8-8a21d93a3ac7",
   "metadata": {},
   "outputs": [],
   "source": [
    "def test7(l):\n",
    "    l1 = [] \n",
    "    for i in l:\n",
    "        if type(i) == int or type(i) == float:\n",
    "            l1.append(i)\n",
    "    return l1"
   ]
  },
  {
   "cell_type": "code",
   "execution_count": 30,
   "id": "7cfdb9a6-bdb2-4bf7-8874-7849000e96d1",
   "metadata": {},
   "outputs": [
    {
     "data": {
      "text/plain": [
       "[1, 2, 3, 4, 5, 5.5, 4.9, 2.7]"
      ]
     },
     "execution_count": 30,
     "metadata": {},
     "output_type": "execute_result"
    }
   ],
   "source": [
    "test7(l)"
   ]
  },
  {
   "cell_type": "code",
   "execution_count": 31,
   "id": "d9c242be-89ce-4121-8850-a8d462664198",
   "metadata": {},
   "outputs": [],
   "source": [
    "def test8(a):\n",
    "    l = []\n",
    "    for i in a:\n",
    "        if type(i) == list:\n",
    "            for j in i:\n",
    "                l.append(j)\n",
    "        else:\n",
    "            if type(i) == int or type(i) == float:\n",
    "                l.append(i)\n",
    "    return l"
   ]
  },
  {
   "cell_type": "code",
   "execution_count": 32,
   "id": "9336f1ab-957d-4b5b-b6ae-af03e59b23ee",
   "metadata": {},
   "outputs": [
    {
     "data": {
      "text/plain": [
       "[1, 2, 3, 4, 5, 5.5, 4.9, 2.7, 12, 14, 16, 18]"
      ]
     },
     "execution_count": 32,
     "metadata": {},
     "output_type": "execute_result"
    }
   ],
   "source": [
    "test8(l)"
   ]
  },
  {
   "cell_type": "code",
   "execution_count": 33,
   "id": "f710a008-e5a4-4dca-806b-a7bd12e94f87",
   "metadata": {},
   "outputs": [
    {
     "data": {
      "text/plain": [
       "[1, 2, 3, 4, 5, 5.5, 4.9, 2.7, 'Aniruddh', 'Tiwari', [12, 14, 16, 18]]"
      ]
     },
     "execution_count": 33,
     "metadata": {},
     "output_type": "execute_result"
    }
   ],
   "source": [
    "l"
   ]
  },
  {
   "cell_type": "code",
   "execution_count": 34,
   "id": "f2495456-f62e-4b3e-97b9-2a474a598538",
   "metadata": {},
   "outputs": [],
   "source": [
    "def test9(a,b):\n",
    "    return a+b"
   ]
  },
  {
   "cell_type": "code",
   "execution_count": 35,
   "id": "ac9e353b-1f1b-450e-aac7-a4f5520bc65a",
   "metadata": {},
   "outputs": [],
   "source": [
    "def test10(*args): # n number of arrguments in a function usid staric *args\n",
    "    return args"
   ]
  },
  {
   "cell_type": "code",
   "execution_count": 36,
   "id": "1aca0a72-e07a-4699-a47e-e1a37581a517",
   "metadata": {},
   "outputs": [
    {
     "data": {
      "text/plain": [
       "()"
      ]
     },
     "execution_count": 36,
     "metadata": {},
     "output_type": "execute_result"
    }
   ],
   "source": [
    "test10()"
   ]
  },
  {
   "cell_type": "code",
   "execution_count": 37,
   "id": "5fc5b814-5abb-481b-81e9-3b3f86583ef3",
   "metadata": {},
   "outputs": [
    {
     "data": {
      "text/plain": [
       "tuple"
      ]
     },
     "execution_count": 37,
     "metadata": {},
     "output_type": "execute_result"
    }
   ],
   "source": [
    "type(test10())"
   ]
  },
  {
   "cell_type": "code",
   "execution_count": 38,
   "id": "5ffc7afd-079d-4321-a6b7-520e25b741cd",
   "metadata": {},
   "outputs": [
    {
     "data": {
      "text/plain": [
       "(2, 4, 6)"
      ]
     },
     "execution_count": 38,
     "metadata": {},
     "output_type": "execute_result"
    }
   ],
   "source": [
    "test10(2,4,6)"
   ]
  },
  {
   "cell_type": "code",
   "execution_count": 39,
   "id": "85afbf6b-70cf-4c33-b5fe-444f23395adb",
   "metadata": {},
   "outputs": [],
   "source": [
    "def test11(*golu):\n",
    "    return golu"
   ]
  },
  {
   "cell_type": "code",
   "execution_count": 40,
   "id": "8a553bbb-42d3-4a80-8bac-e22cb3d4a94a",
   "metadata": {},
   "outputs": [
    {
     "data": {
      "text/plain": [
       "([2, 4, 6, 7, 4.4, 3.3, [1, 3, 5, 'golu']],)"
      ]
     },
     "execution_count": 40,
     "metadata": {},
     "output_type": "execute_result"
    }
   ],
   "source": [
    "test11([2,4,6,7,4.4,3.3,[1,3,5,'golu']])"
   ]
  },
  {
   "cell_type": "code",
   "execution_count": 41,
   "id": "f9418a96-690c-43d4-a4b0-7f0bc7cbe5cd",
   "metadata": {},
   "outputs": [],
   "source": [
    "def test12(*args, a):\n",
    "    return args, a"
   ]
  },
  {
   "cell_type": "code",
   "execution_count": 42,
   "id": "ef96fc4d-c5ae-4815-9178-dea1215c0213",
   "metadata": {},
   "outputs": [
    {
     "data": {
      "text/plain": [
       "(([2, 4, 6],), [1, 3, 5])"
      ]
     },
     "execution_count": 42,
     "metadata": {},
     "output_type": "execute_result"
    }
   ],
   "source": [
    "test12([2,4,6], a= [1,3,5])"
   ]
  },
  {
   "cell_type": "code",
   "execution_count": 43,
   "id": "47e1e1a1-5a97-40d3-8014-38ef7f7f711a",
   "metadata": {},
   "outputs": [],
   "source": [
    "def test13(c,d, a = 2, b = 3):\n",
    "    return a,b,c,d"
   ]
  },
  {
   "cell_type": "code",
   "execution_count": 44,
   "id": "18f903c3-a394-4235-afd9-805696d85472",
   "metadata": {},
   "outputs": [
    {
     "ename": "TypeError",
     "evalue": "test13() missing 2 required positional arguments: 'c' and 'd'",
     "output_type": "error",
     "traceback": [
      "\u001b[0;31m---------------------------------------------------------------------------\u001b[0m",
      "\u001b[0;31mTypeError\u001b[0m                                 Traceback (most recent call last)",
      "Cell \u001b[0;32mIn[44], line 1\u001b[0m\n\u001b[0;32m----> 1\u001b[0m \u001b[43mtest13\u001b[49m\u001b[43m(\u001b[49m\u001b[43m)\u001b[49m\n",
      "\u001b[0;31mTypeError\u001b[0m: test13() missing 2 required positional arguments: 'c' and 'd'"
     ]
    }
   ],
   "source": [
    "test13()"
   ]
  },
  {
   "cell_type": "code",
   "execution_count": 45,
   "id": "fa57f2be-59ca-49c6-9d28-0d70267ca35a",
   "metadata": {},
   "outputs": [
    {
     "data": {
      "text/plain": [
       "(2, 3, 8, 9)"
      ]
     },
     "execution_count": 45,
     "metadata": {},
     "output_type": "execute_result"
    }
   ],
   "source": [
    "test13(8,9)"
   ]
  },
  {
   "cell_type": "code",
   "execution_count": 46,
   "id": "fed30ac5-13b6-4487-a4f4-b7bb60f1e2a7",
   "metadata": {},
   "outputs": [
    {
     "data": {
      "text/plain": [
       "(23, 3, 8, 9)"
      ]
     },
     "execution_count": 46,
     "metadata": {},
     "output_type": "execute_result"
    }
   ],
   "source": [
    "test13(8,9, a= 23)"
   ]
  },
  {
   "cell_type": "code",
   "execution_count": 47,
   "id": "86a02b3e-fc19-429d-948b-dc35a613ffd2",
   "metadata": {},
   "outputs": [
    {
     "data": {
      "text/plain": [
       "(4, 5, 1, 2)"
      ]
     },
     "execution_count": 47,
     "metadata": {},
     "output_type": "execute_result"
    }
   ],
   "source": [
    "test13(1,2,4,5)"
   ]
  },
  {
   "cell_type": "code",
   "execution_count": 48,
   "id": "31c902e3-7447-4fbc-8c44-1b43d88f7e47",
   "metadata": {},
   "outputs": [],
   "source": [
    "def test15(**kwargs):\n",
    "    return kwargs"
   ]
  },
  {
   "cell_type": "code",
   "execution_count": 49,
   "id": "9c6e397c-e4fc-4518-8b28-f6b0cd81ca42",
   "metadata": {},
   "outputs": [
    {
     "data": {
      "text/plain": [
       "{}"
      ]
     },
     "execution_count": 49,
     "metadata": {},
     "output_type": "execute_result"
    }
   ],
   "source": [
    "test15()"
   ]
  },
  {
   "cell_type": "code",
   "execution_count": 50,
   "id": "7dd424f9-4e81-46cd-b1af-3f15ff8ae0b9",
   "metadata": {},
   "outputs": [
    {
     "data": {
      "text/plain": [
       "{'a': [1, 24, 5, 343], 'b': ['a', 's', 'd']}"
      ]
     },
     "execution_count": 50,
     "metadata": {},
     "output_type": "execute_result"
    }
   ],
   "source": [
    "test15(a =  [1,24,5,343], b = ['a','s','d'])"
   ]
  },
  {
   "cell_type": "markdown",
   "id": "9c50e5cd-d80d-461f-beb3-f3a9fa643e57",
   "metadata": {
    "tags": []
   },
   "source": [
    "# Generator Function"
   ]
  },
  {
   "cell_type": "code",
   "execution_count": 51,
   "id": "e39cc71c-874c-4dd5-9245-588afc71fef1",
   "metadata": {},
   "outputs": [],
   "source": [
    "# Genrate fibonicai series\n",
    "def test_fib(n):\n",
    "    a,b = 0,1\n",
    "    for i in range(n):\n",
    "        yield a\n",
    "        a,b = b,a+b"
   ]
  },
  {
   "cell_type": "code",
   "execution_count": 52,
   "id": "7cd6abc9-7e73-4a34-afbd-f9344730cf1f",
   "metadata": {},
   "outputs": [
    {
     "data": {
      "text/plain": [
       "<generator object test_fib at 0x7f368cf4e110>"
      ]
     },
     "execution_count": 52,
     "metadata": {},
     "output_type": "execute_result"
    }
   ],
   "source": [
    "test_fib(10)"
   ]
  },
  {
   "cell_type": "code",
   "execution_count": 53,
   "id": "a5b64487-f9a0-4caf-abdf-98ac800156c3",
   "metadata": {},
   "outputs": [
    {
     "name": "stdout",
     "output_type": "stream",
     "text": [
      "0\n",
      "1\n",
      "1\n",
      "2\n",
      "3\n",
      "5\n",
      "8\n",
      "13\n",
      "21\n",
      "34\n"
     ]
    }
   ],
   "source": [
    "for i in test_fib(10):\n",
    "    print(i)"
   ]
  },
  {
   "cell_type": "code",
   "execution_count": 54,
   "id": "cfea6f0e-8df0-490f-bd8e-d4515af208e3",
   "metadata": {},
   "outputs": [],
   "source": [
    "def test_fib1():\n",
    "    a,b = 0,1\n",
    "    while True:\n",
    "        yield a\n",
    "        a,b = b,a+b"
   ]
  },
  {
   "cell_type": "code",
   "execution_count": 55,
   "id": "a42b2bc0-354e-4384-bb13-8c36943b7153",
   "metadata": {},
   "outputs": [],
   "source": [
    "fib = test_fib1()"
   ]
  },
  {
   "cell_type": "code",
   "execution_count": 56,
   "id": "c9f203b8-8a13-4049-ad71-267c4745e61c",
   "metadata": {},
   "outputs": [
    {
     "name": "stdout",
     "output_type": "stream",
     "text": [
      "0\n",
      "1\n",
      "1\n",
      "2\n",
      "3\n",
      "5\n",
      "8\n",
      "13\n",
      "21\n",
      "34\n"
     ]
    }
   ],
   "source": [
    "for i in range(10):\n",
    "    print(next(fib))"
   ]
  },
  {
   "cell_type": "code",
   "execution_count": 57,
   "id": "403e7960-af28-4cd2-8663-dd670bdc0280",
   "metadata": {},
   "outputs": [],
   "source": [
    "def count_test(n):\n",
    "    count = 1\n",
    "    while count<=n:\n",
    "        yield count\n",
    "        count = count+1"
   ]
  },
  {
   "cell_type": "code",
   "execution_count": 58,
   "id": "db87a790-b12e-4e68-9d3f-569c6a1d3eb8",
   "metadata": {},
   "outputs": [],
   "source": [
    "c = count_test(10)"
   ]
  },
  {
   "cell_type": "code",
   "execution_count": 59,
   "id": "b2e036a2-b8d6-4531-a06c-194e0b304bae",
   "metadata": {},
   "outputs": [
    {
     "name": "stdout",
     "output_type": "stream",
     "text": [
      "1\n",
      "2\n",
      "3\n",
      "4\n",
      "5\n",
      "6\n",
      "7\n",
      "8\n",
      "9\n",
      "10\n"
     ]
    }
   ],
   "source": [
    "for i in c:\n",
    "    print(i)"
   ]
  },
  {
   "cell_type": "markdown",
   "id": "12d98ef4-1114-42f5-9ea2-2d9ece1120d4",
   "metadata": {
    "tags": []
   },
   "source": [
    "# Lambda function"
   ]
  },
  {
   "cell_type": "code",
   "execution_count": 60,
   "id": "1815565d-1e31-4881-9d64-d33c068ce1f5",
   "metadata": {},
   "outputs": [],
   "source": [
    "def root(n,p):\n",
    "    return n**p"
   ]
  },
  {
   "cell_type": "code",
   "execution_count": 61,
   "id": "fca473ed-0ed4-409d-b177-5b05c16403b0",
   "metadata": {},
   "outputs": [
    {
     "data": {
      "text/plain": [
       "9"
      ]
     },
     "execution_count": 61,
     "metadata": {},
     "output_type": "execute_result"
    }
   ],
   "source": [
    "root(3,2)"
   ]
  },
  {
   "cell_type": "code",
   "execution_count": 62,
   "id": "fba3d17d-1250-4329-ac2a-d390fc5b29dd",
   "metadata": {},
   "outputs": [],
   "source": [
    "a = lambda n,p : n**p"
   ]
  },
  {
   "cell_type": "code",
   "execution_count": 63,
   "id": "4deaa740-f179-456f-8a1e-1605037e4947",
   "metadata": {},
   "outputs": [
    {
     "data": {
      "text/plain": [
       "9"
      ]
     },
     "execution_count": 63,
     "metadata": {},
     "output_type": "execute_result"
    }
   ],
   "source": [
    "a(3,2)"
   ]
  },
  {
   "cell_type": "code",
   "execution_count": 64,
   "id": "756b4d4b-a14d-410a-896d-46ab7452e75d",
   "metadata": {},
   "outputs": [],
   "source": [
    "add = lambda a,b : a+b"
   ]
  },
  {
   "cell_type": "code",
   "execution_count": 65,
   "id": "0fc64b4c-be7f-4a32-8d17-4e882bd835a2",
   "metadata": {},
   "outputs": [
    {
     "data": {
      "text/plain": [
       "10"
      ]
     },
     "execution_count": 65,
     "metadata": {},
     "output_type": "execute_result"
    }
   ],
   "source": [
    "add(5,5)"
   ]
  },
  {
   "cell_type": "code",
   "execution_count": 66,
   "id": "ebf16c00-2f53-4bc0-a5db-0c2feec373f4",
   "metadata": {},
   "outputs": [],
   "source": [
    "c_to_f = lambda c: (9/5)*c+32"
   ]
  },
  {
   "cell_type": "code",
   "execution_count": 67,
   "id": "ce7823b4-16a3-4fe5-aa69-17b8ef647ec1",
   "metadata": {},
   "outputs": [
    {
     "data": {
      "text/plain": [
       "113.0"
      ]
     },
     "execution_count": 67,
     "metadata": {},
     "output_type": "execute_result"
    }
   ],
   "source": [
    "c_to_f(45)"
   ]
  },
  {
   "cell_type": "code",
   "execution_count": 68,
   "id": "370581d5-38c8-408e-a8ba-b545aff746c0",
   "metadata": {},
   "outputs": [],
   "source": [
    "max_two = lambda a,b : x if a>b else b "
   ]
  },
  {
   "cell_type": "code",
   "execution_count": 69,
   "id": "2b7f5b14-cc75-4225-bc66-95687fe0d997",
   "metadata": {},
   "outputs": [
    {
     "data": {
      "text/plain": [
       "6"
      ]
     },
     "execution_count": 69,
     "metadata": {},
     "output_type": "execute_result"
    }
   ],
   "source": [
    "max_two(4,6)"
   ]
  },
  {
   "cell_type": "code",
   "execution_count": 70,
   "id": "5def09de-16c9-4e49-9a23-f93fe7ca70d6",
   "metadata": {},
   "outputs": [],
   "source": [
    "s = 'PWskills'\n",
    "x = lambda s : len(s)"
   ]
  },
  {
   "cell_type": "code",
   "execution_count": 71,
   "id": "16e7e24e-0b36-4738-856c-34a93a8a6f1c",
   "metadata": {},
   "outputs": [
    {
     "data": {
      "text/plain": [
       "8"
      ]
     },
     "execution_count": 71,
     "metadata": {},
     "output_type": "execute_result"
    }
   ],
   "source": [
    "x(s)"
   ]
  }
 ],
 "metadata": {
  "kernelspec": {
   "display_name": "Python 3 (ipykernel)",
   "language": "python",
   "name": "python3"
  },
  "language_info": {
   "codemirror_mode": {
    "name": "ipython",
    "version": 3
   },
   "file_extension": ".py",
   "mimetype": "text/x-python",
   "name": "python",
   "nbconvert_exporter": "python",
   "pygments_lexer": "ipython3",
   "version": "3.10.8"
  }
 },
 "nbformat": 4,
 "nbformat_minor": 5
}
