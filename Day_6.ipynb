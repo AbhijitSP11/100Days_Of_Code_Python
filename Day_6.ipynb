{
 "cells": [
  {
   "cell_type": "code",
   "execution_count": 1,
   "id": "928009f8-6827-4eb9-a216-aa94ad8b7d3b",
   "metadata": {},
   "outputs": [],
   "source": [
    "# Day 6"
   ]
  },
  {
   "cell_type": "code",
   "execution_count": 2,
   "id": "9440328e-dcfb-4935-80f5-b7719c07af73",
   "metadata": {},
   "outputs": [],
   "source": [
    "### Topics going to be cover in Day 6\n",
    "- Solved some if-elif-else Questions\n",
    "- Solved some for loop Qi"
   ]
  },
  {
   "cell_type": "markdown",
   "id": "ce8827c0-9d9d-48b4-9cc6-91d034be0b2d",
   "metadata": {},
   "source": [
    "### Q1)  Alien Colors #1: Imagine an alien was just shot down in a game. Create a variable called alien_color and assign it a value of 'green', 'yellow', or 'red'.\n",
    "- Write an if statement to test whether the alien’s color is green. If it is, print a message that the player just earned 5 points.\n",
    "- Write one version of this program that passes the if test and another that fails. (The version that fails will have no output.) "
   ]
  },
  {
   "cell_type": "code",
   "execution_count": 6,
   "id": "f47e70e3-3bf6-49e2-a2f2-38ee4bb510e1",
   "metadata": {},
   "outputs": [
    {
     "name": "stdin",
     "output_type": "stream",
     "text": [
      "Enter the Colour:-  green\n"
     ]
    },
    {
     "name": "stdout",
     "output_type": "stream",
     "text": [
      "You Just earned 5 points\n"
     ]
    }
   ],
   "source": [
    "color = input(\"Enter the Colour:- \")\n",
    "if color == 'green' or color == 'Green':\n",
    "    print(\"You Just earned 5 points\")\n",
    "elif color == 'Red' or color == 'red':\n",
    "    print(\"You got killed\")"
   ]
  },
  {
   "cell_type": "code",
   "execution_count": 8,
   "id": "b5696305-d41b-40b1-85a6-27596d0eed3e",
   "metadata": {},
   "outputs": [
    {
     "name": "stdin",
     "output_type": "stream",
     "text": [
      "Enter the Colour:-  red\n"
     ]
    },
    {
     "name": "stdout",
     "output_type": "stream",
     "text": [
      "You got killed\n"
     ]
    }
   ],
   "source": [
    "color = input(\"Enter the Colour:- \")\n",
    "if color == 'green' or color == 'Green':\n",
    "    print(\"You Just earned 5 points\")\n",
    "elif color == 'Red' or color == 'red':\n",
    "    print(\"You got killed\")"
   ]
  },
  {
   "cell_type": "markdown",
   "id": "d9c594c1-94d9-48b3-80e0-e3fc81bd1db1",
   "metadata": {},
   "source": [
    "### Q2) Alien Colors #2: Choose a color for an alien as you did in Exercise 5-3, and write an if-else chain.\n",
    "- If the alien’s color is green, print a statement that the player just earned 5 points for shooting the alien.\n",
    "- If the alien’s color isn’t green, print a statement that the player just earned 10 points.\n",
    "- Write one version of this program that runs the if block and another that runs the else block."
   ]
  },
  {
   "cell_type": "code",
   "execution_count": 9,
   "id": "3b966527-3a8a-45a1-97fd-9ede29a26797",
   "metadata": {},
   "outputs": [
    {
     "name": "stdin",
     "output_type": "stream",
     "text": [
      "Enter the color:-  green\n"
     ]
    },
    {
     "name": "stdout",
     "output_type": "stream",
     "text": [
      "You earn 5 points\n"
     ]
    }
   ],
   "source": [
    "color = input(\"Enter the color:- \")\n",
    "if color == 'green' or color == 'Green':\n",
    "    print('You earn 5 points')\n",
    "else:\n",
    "    print('You earn 10 points')"
   ]
  },
  {
   "cell_type": "code",
   "execution_count": 10,
   "id": "540c0850-e9cb-4f50-aab9-46e6fa2b86f6",
   "metadata": {},
   "outputs": [
    {
     "name": "stdin",
     "output_type": "stream",
     "text": [
      "Enter the color:-  yellow\n"
     ]
    },
    {
     "name": "stdout",
     "output_type": "stream",
     "text": [
      "You earn 10 points\n"
     ]
    }
   ],
   "source": [
    "color = input(\"Enter the color:- \")\n",
    "if color == 'green' or color == 'Green':\n",
    "    print('You earn 5 points')\n",
    "else:\n",
    "    print('You earn 10 points')"
   ]
  },
  {
   "cell_type": "markdown",
   "id": "c8791740-c118-445c-9971-ac656fda0266",
   "metadata": {},
   "source": [
    "### Q3)  Alien Colors #3: Turn your if-else chain from Exercise 5-4 into an if-elif-else chain.\n",
    "- If the alien is green, print a message that the player earned 5 points.\n",
    "- If the alien is yellow, print a message that the player earned 10 points.\n",
    "- If the alien is red, print a message that the player earned 15 points.\n",
    "- Write three versions of this program, making sure each message is printed for the appropriate color alien"
   ]
  },
  {
   "cell_type": "code",
   "execution_count": 11,
   "id": "8deaba19-efc4-4e70-80cd-06aab4cf5cce",
   "metadata": {},
   "outputs": [
    {
     "name": "stdin",
     "output_type": "stream",
     "text": [
      "Enter the color:-  green\n"
     ]
    },
    {
     "name": "stdout",
     "output_type": "stream",
     "text": [
      "You earn 5 points\n"
     ]
    }
   ],
   "source": [
    "color = input(\"Enter the color:- \")\n",
    "if color == 'green' or color == 'Green':\n",
    "    print('You earn 5 points')\n",
    "elif color == 'Yellow' or color == 'yellow':\n",
    "    print(\"You earn 10 points\")\n",
    "elif color == 'Red' or color == 'red':\n",
    "    print('You earn 15 points')"
   ]
  },
  {
   "cell_type": "code",
   "execution_count": 12,
   "id": "5656bfd7-fd24-4113-8114-8e47d3e0f49e",
   "metadata": {},
   "outputs": [
    {
     "name": "stdin",
     "output_type": "stream",
     "text": [
      "Enter the color:-  red\n"
     ]
    },
    {
     "name": "stdout",
     "output_type": "stream",
     "text": [
      "You earn 15 points\n"
     ]
    }
   ],
   "source": [
    "color = input(\"Enter the color:- \")\n",
    "if color == 'green' or color == 'Green':\n",
    "    print('You earn 5 points')\n",
    "elif color == 'Yellow' or color == 'yellow':\n",
    "    print(\"You earn 10 points\")\n",
    "elif color == 'Red' or color == 'red':\n",
    "    print('You earn 15 points')"
   ]
  },
  {
   "cell_type": "code",
   "execution_count": 13,
   "id": "f3d91f62-ba0c-4589-9ec1-9ce982020394",
   "metadata": {},
   "outputs": [
    {
     "name": "stdin",
     "output_type": "stream",
     "text": [
      "Enter the color:-  yellow\n"
     ]
    },
    {
     "name": "stdout",
     "output_type": "stream",
     "text": [
      "You earn 10 points\n"
     ]
    }
   ],
   "source": [
    "color = input(\"Enter the color:- \")\n",
    "if color == 'green' or color == 'Green':\n",
    "    print('You earn 5 points')\n",
    "elif color == 'Yellow' or color == 'yellow':\n",
    "    print(\"You earn 10 points\")\n",
    "elif color == 'Red' or color == 'red':\n",
    "    print('You earn 15 points')\n"
   ]
  },
  {
   "cell_type": "markdown",
   "id": "12832888-4a6a-4f66-ba97-16dddb5b37c6",
   "metadata": {},
   "source": [
    "### Q4) Stages of Life: Write an if-elif-else chain that determines a person’s stage of life. Set a value for the variable age, and then:\n",
    "- If the person is less than 2 years old, print a message that the person is a baby.\n",
    "- If the person is at least 2 years old but less than 4, print a message that the person is a toddler.\n",
    "- If the person is at least 4 years old but less than 13, print a message that the person is a kid.\n",
    "- If the person is at least 13 years old but less than 20, print a message that the person is a teenager.\n",
    "- If the person is at least 20 years old but less than 65, print a message that the person is an adult.\n",
    "- If the person is age 65 or older, print a message that the person is an elder."
   ]
  },
  {
   "cell_type": "code",
   "execution_count": 19,
   "id": "26e57818-4294-40c0-b94b-05a96df84fff",
   "metadata": {},
   "outputs": [
    {
     "name": "stdin",
     "output_type": "stream",
     "text": [
      "Enter your age:-  21\n"
     ]
    },
    {
     "name": "stdout",
     "output_type": "stream",
     "text": [
      "You are a adult\n"
     ]
    }
   ],
   "source": [
    "age = int(input('Enter your age:- '))\n",
    "if age <= 2:\n",
    "    print(\"You are a baby\")\n",
    "elif age<=4:\n",
    "    print(\"You are a toddler\")\n",
    "elif age <=13:\n",
    "    print(\"YOur are a kid\")\n",
    "elif age<=20:\n",
    "    print(\"Your are a Teenager\")\n",
    "elif age<=65:\n",
    "    print(\"You are a adult\")\n",
    "elif age>=65:\n",
    "    print(\"You are a elder\")"
   ]
  },
  {
   "cell_type": "markdown",
   "id": "c0dbe646-46d4-43f2-96d1-1157146a08a2",
   "metadata": {},
   "source": [
    "### Q5) Favorite Fruit: Make a list of your favorite fruits, and then write a series of independent if statements that check for certain fruits in your list.\n",
    "- Make a list of your three favorite fruits and call it favorite_fruits.\n",
    "- Write five if statements. Each should check whether a certain kind of fruit\n",
    "\n",
    "    is in your list. If the fruit is in your list, the if block should print a statement, \n",
    "    such as You really like bananas!"
   ]
  },
  {
   "cell_type": "code",
   "execution_count": 26,
   "id": "5ff37dec-f716-4acb-8033-da6ce2d03dc8",
   "metadata": {},
   "outputs": [
    {
     "name": "stdout",
     "output_type": "stream",
     "text": [
      "You really like Apple!\n",
      "You really like bananas!\n",
      "You really like Mango!\n"
     ]
    }
   ],
   "source": [
    "fruits = ['Apple', 'Mango', 'Bananas']\n",
    "if 'Apple' in fruits:\n",
    "    print('You really like Apple!')\n",
    "if 'Bananas' in fruits:\n",
    "    print('You really like bananas!')\n",
    "if 'Mango' in fruits:\n",
    "    print('You really like Mango!')\n",
    "if 'Kiwi' in fruits:\n",
    "    print('You really like Kiwi!')\n",
    "if 'Watermelon' in fruits:\n",
    "    print('You really like Watermelon')"
   ]
  },
  {
   "cell_type": "markdown",
   "id": "e2831892-a820-49bc-a1f6-45d022663aea",
   "metadata": {},
   "source": [
    "### Q6) Hello Admin: Make a list of five or more usernames, including the name 'admin'. Imagine you are writing code that will print a greeting to each user after they log in to a website. Loop through the list, and print a greeting to each user:\n",
    "- If the username is 'admin', print a special greeting, such as Hello admin, would you like to see a status report?\n",
    "- Otherwise, print a generic greeting, such as Hello Jaden, thank you for logging in again "
   ]
  },
  {
   "cell_type": "code",
   "execution_count": 31,
   "id": "492fc090-4a5a-4d30-8d33-696a02b2cfbe",
   "metadata": {},
   "outputs": [
    {
     "name": "stdout",
     "output_type": "stream",
     "text": [
      "Hello golu, would you like to see a status report?\n",
      "Hello artist, thank you for logging in again\n",
      "Hello jiggy, thank you for logging in again\n",
      "Hello ujju, thank you for logging in again\n",
      "Hello abhi, thank you for logging in again\n",
      "Hello anee, thank you for logging in again\n",
      "Hello lav, thank you for logging in again\n"
     ]
    }
   ],
   "source": [
    "user_name = ['golu', 'artist', 'jiggy', 'ujju', 'abhi', 'anee', 'lav']\n",
    "for name in user_name:\n",
    "    if 'golu' in name:\n",
    "        print(\"Hello golu, would you like to see a status report?\")\n",
    "    else:\n",
    "        print(f\"Hello {name}, thank you for logging in again\")"
   ]
  },
  {
   "cell_type": "markdown",
   "id": "00f7cea1-1353-417d-8368-06dad332fdf3",
   "metadata": {},
   "source": [
    "### Q7) . No Users: Add an if test to hello_admin.py to make sure the list of users is not empty.\n",
    "- If the list is empty, print the message We need to find some users!\n",
    "- Remove all of the usernames from your list, and make sure the correct message is printed."
   ]
  },
  {
   "cell_type": "code",
   "execution_count": 32,
   "id": "b39b048b-e1e9-47c9-8019-f0ae3e9d7e2f",
   "metadata": {},
   "outputs": [
    {
     "name": "stdout",
     "output_type": "stream",
     "text": [
      "We need to add elements the list of name is empty\n"
     ]
    }
   ],
   "source": [
    "l = []\n",
    "if l:\n",
    "    for i in l:\n",
    "        if i == 'admin':\n",
    "            print('Hello golu, would you like to see a status report?')\n",
    "        else:\n",
    "             print(f\"Hello {i}, thank you for logging in again\")\n",
    "else:\n",
    "    print('We need to add elements the list of name is empty')"
   ]
  },
  {
   "cell_type": "markdown",
   "id": "a7c6c08a-8b0d-4c35-8fa7-f8d37f538ffe",
   "metadata": {},
   "source": [
    "### Q8) Checking Usernames: Do the following to create a program that simulates how websites ensure that everyone has a unique username.\n",
    "- Make a list of five or more usernames called current_users.\n",
    "- Make another list of five usernames called new_users. Make sure one or two of the new usernames are also in the current_users list.\n",
    "- Loop through the new_users list to see if each new username has already been used. If it has, print a message that the person will need to enter a new username. If a username has not been used, print a message saying that the username is available.\n",
    "- Make sure your comparison is case insensitive. If 'John' has been used, 'JOHN' should not be accepted. (To do this, you’ll need to make a copy of current_users containing the lowercase versions of all existing users.)"
   ]
  },
  {
   "cell_type": "code",
   "execution_count": 33,
   "id": "77e1b077-4a17-4dd1-be37-6368c1098544",
   "metadata": {},
   "outputs": [
    {
     "name": "stdout",
     "output_type": "stream",
     "text": [
      "Tuk-tuk is still avalible\n",
      "lala is still avalible\n",
      "chota-chetan is still avalible\n",
      "golu is taken\n",
      "artist is taken\n"
     ]
    }
   ],
   "source": [
    "current_users = ['golu', 'artist', 'jiggy', 'ujju', 'abhi', 'anee', 'lav']\n",
    "new_users = ['Tuk-tuk', 'lala', 'chota-chetan', 'golu', 'artist']\n",
    "current_users_lower = [user.lower() for user in current_users]\n",
    "for i in new_users:\n",
    "    if i.lower() in current_users_lower:\n",
    "        print(f\"{i} is taken\")\n",
    "    else:\n",
    "        print(f\"{i} is still avalible\")"
   ]
  },
  {
   "cell_type": "markdown",
   "id": "3fe74c9b-bce8-4bc4-a847-d0f0e6722ac0",
   "metadata": {},
   "source": [
    "### Q9) Ordinal Numbers: Ordinal numbers indicate their position in a list, such as 1st or 2nd. Most ordinal numbers end in th, except 1, 2, and 3.\n",
    "- Store the numbers 1 through 9 in a list.\n",
    "- Loop through the list.\n",
    "- Use an if-elif-else chain inside the loop to print the proper ordinal end\u0002ing for each number. Your output should read \"1st 2nd 3rd 4th 5th 6th 7th 8th 9th\", and each result should be on a separate line"
   ]
  },
  {
   "cell_type": "code",
   "execution_count": 36,
   "id": "bbeef5bf-a941-471a-a8d8-0dc61220ea15",
   "metadata": {},
   "outputs": [
    {
     "name": "stdout",
     "output_type": "stream",
     "text": [
      "1th\n",
      "2th\n",
      "3th\n",
      "4th\n",
      "5th\n",
      "6th\n",
      "7th\n",
      "8th\n",
      "9th\n"
     ]
    }
   ],
   "source": [
    "num = list(range(1,10))\n",
    "for i in num:\n",
    "    if num == 1:\n",
    "        print('1st')\n",
    "    elif num == 2:\n",
    "        print('2nd')\n",
    "    elif num == 3:\n",
    "        print('3rd')\n",
    "    else:\n",
    "        print(f\"{i}th\")"
   ]
  },
  {
   "cell_type": "markdown",
   "id": "b85a8bdd-f619-4ec6-b2dc-6d0c925e8fa9",
   "metadata": {},
   "source": [
    "### Q10) Analytic Problem\n",
    "    build a student database whare in we will have:\n",
    "    Student_ID\n",
    "    Gender\n",
    "    Department\n",
    "    Sessional_perc\n",
    "    Final_sem marks\n",
    "    Backlog"
   ]
  },
  {
   "cell_type": "code",
   "execution_count": 39,
   "id": "ed207750-41b7-42f9-b728-60e381488755",
   "metadata": {},
   "outputs": [],
   "source": [
    "student_ID = ['S01','S02','S03','S04','S05']\n",
    "gender = ['M','F','M','F','M']\n",
    "dept = ['CS','ECE','ME','CS','ME']\n",
    "sessional_perc = [45,60,73,65.3,72.9]\n",
    "total_marks = [680,800,520,650,780]\n",
    "backlog = ['NB','B','NB','NB','NB']"
   ]
  },
  {
   "cell_type": "markdown",
   "id": "c4f3193f-5b57-434e-9273-9c9e11a8cda7",
   "metadata": {},
   "source": [
    "#### If any student has recevied more than 70 % in their sessional, incerase the total marks by 2%"
   ]
  },
  {
   "cell_type": "code",
   "execution_count": 40,
   "id": "cde35558-64e3-401f-b693-84b37d5038d0",
   "metadata": {},
   "outputs": [
    {
     "name": "stdout",
     "output_type": "stream",
     "text": [
      "Marks did not change\n",
      "Marks did not change\n",
      "530.4 got changed of S03\n",
      "Marks did not change\n",
      "795.6 got changed of S05\n"
     ]
    }
   ],
   "source": [
    "for i in range(len(student_ID)):\n",
    "    if sessional_perc[i] > 70:\n",
    "        total_marks[i] = total_marks[i]+total_marks[i]*0.02\n",
    "        print(f\"{total_marks[i]} got changed of {student_ID[i]}\")\n",
    "    else:\n",
    "        print(\"Marks did not change\")"
   ]
  },
  {
   "cell_type": "markdown",
   "id": "c70c441f-65b0-4900-985b-9618b207f603",
   "metadata": {},
   "source": [
    "#### student S01 and s04 have got backlog and we need to update them"
   ]
  },
  {
   "cell_type": "code",
   "execution_count": 43,
   "id": "97db9ee0-fd60-400a-9336-aa68c6729ee6",
   "metadata": {},
   "outputs": [
    {
     "data": {
      "text/plain": [
       "['B', 'B', 'NB', 'B', 'NB']"
      ]
     },
     "execution_count": 43,
     "metadata": {},
     "output_type": "execute_result"
    }
   ],
   "source": [
    "backlog"
   ]
  },
  {
   "cell_type": "code",
   "execution_count": 44,
   "id": "2d81559a-c40e-4339-ab44-5a2daf653880",
   "metadata": {},
   "outputs": [],
   "source": [
    "updated_student = ['S01', 'S04']\n",
    "for i in range(len(student_ID)):\n",
    "    if student_ID[i] in updated_student:\n",
    "        backlog[i] = 'B'"
   ]
  },
  {
   "cell_type": "code",
   "execution_count": 45,
   "id": "22753877-3b78-431c-b381-739ab9346132",
   "metadata": {},
   "outputs": [
    {
     "data": {
      "text/plain": [
       "['B', 'B', 'NB', 'B', 'NB']"
      ]
     },
     "execution_count": 45,
     "metadata": {},
     "output_type": "execute_result"
    }
   ],
   "source": [
    "backlog"
   ]
  },
  {
   "cell_type": "markdown",
   "id": "ef916e2b-8aaf-4304-8231-40b79d4b16f9",
   "metadata": {},
   "source": [
    "#### If a student total marks is greater than 750 and they have no backlog and they are from CS Department, they will receive a 'Higher Achiever Scholarship'\n",
    "\n",
    "\n",
    "#### If a student total marks is between 650 and 720 with no backlog they will receive a 'Achiever Scholarship'\n"
   ]
  },
  {
   "cell_type": "code",
   "execution_count": 47,
   "id": "ff939042-08b6-4398-9284-7b1d6721906f",
   "metadata": {},
   "outputs": [
    {
     "data": {
      "text/plain": [
       "['CS', 'ECE', 'ME', 'CS', 'ME']"
      ]
     },
     "execution_count": 47,
     "metadata": {},
     "output_type": "execute_result"
    }
   ],
   "source": [
    "dept"
   ]
  },
  {
   "cell_type": "code",
   "execution_count": 48,
   "id": "eae4105d-4f35-4860-9283-459fafe8e4d7",
   "metadata": {},
   "outputs": [],
   "source": [
    "dept[-1] = 'CS'"
   ]
  },
  {
   "cell_type": "code",
   "execution_count": 49,
   "id": "8654fa00-9603-471c-b96d-49c0739d0ef1",
   "metadata": {},
   "outputs": [
    {
     "data": {
      "text/plain": [
       "['CS', 'ECE', 'ME', 'CS', 'CS']"
      ]
     },
     "execution_count": 49,
     "metadata": {},
     "output_type": "execute_result"
    }
   ],
   "source": [
    "dept"
   ]
  },
  {
   "cell_type": "code",
   "execution_count": 50,
   "id": "2c8095bc-b9a7-4ad0-9788-69414217a9e2",
   "metadata": {},
   "outputs": [
    {
     "data": {
      "text/plain": [
       "[680, 800, 530.4, 650, 795.6]"
      ]
     },
     "execution_count": 50,
     "metadata": {},
     "output_type": "execute_result"
    }
   ],
   "source": [
    "total_marks"
   ]
  },
  {
   "cell_type": "code",
   "execution_count": 51,
   "id": "36fa82e8-ab42-4411-9f03-a8a3dee8ed50",
   "metadata": {},
   "outputs": [
    {
     "data": {
      "text/plain": [
       "['B', 'B', 'NB', 'B', 'NB']"
      ]
     },
     "execution_count": 51,
     "metadata": {},
     "output_type": "execute_result"
    }
   ],
   "source": [
    "backlog"
   ]
  },
  {
   "cell_type": "code",
   "execution_count": 52,
   "id": "5e33308e-3658-4c28-8ee3-a7dd1e3a44bc",
   "metadata": {},
   "outputs": [],
   "source": [
    "scholarship = ['No Scholarship' for x in range(len(student_ID))]"
   ]
  },
  {
   "cell_type": "code",
   "execution_count": 53,
   "id": "c12f1d7f-c102-459d-a7d7-1a1a8dd9f836",
   "metadata": {},
   "outputs": [
    {
     "data": {
      "text/plain": [
       "['No Scholarship',\n",
       " 'No Scholarship',\n",
       " 'No Scholarship',\n",
       " 'No Scholarship',\n",
       " 'No Scholarship']"
      ]
     },
     "execution_count": 53,
     "metadata": {},
     "output_type": "execute_result"
    }
   ],
   "source": [
    "scholarship"
   ]
  },
  {
   "cell_type": "code",
   "execution_count": 54,
   "id": "687d718f-094b-4ea8-a5f5-96c8bd6efed4",
   "metadata": {},
   "outputs": [],
   "source": [
    "scholarship = []\n",
    "for x in range(len(student_ID)):\n",
    "    scholarship.append('No Scholarship')"
   ]
  },
  {
   "cell_type": "code",
   "execution_count": 55,
   "id": "ad574dc5-e368-4c3d-ae62-20651628a8c5",
   "metadata": {},
   "outputs": [
    {
     "data": {
      "text/plain": [
       "['No Scholarship',\n",
       " 'No Scholarship',\n",
       " 'No Scholarship',\n",
       " 'No Scholarship',\n",
       " 'No Scholarship']"
      ]
     },
     "execution_count": 55,
     "metadata": {},
     "output_type": "execute_result"
    }
   ],
   "source": [
    "scholarship"
   ]
  },
  {
   "cell_type": "code",
   "execution_count": 56,
   "id": "ded4c495-5e62-4fa1-a996-d86272bc4c96",
   "metadata": {},
   "outputs": [
    {
     "name": "stdout",
     "output_type": "stream",
     "text": [
      "No Scholarship were given\n",
      "No Scholarship were given\n",
      "No Scholarship were given\n",
      "No Scholarship were given\n",
      "Higher Achiever Scholarship goes to S05\n"
     ]
    }
   ],
   "source": [
    "for i in range(len(student_ID)):\n",
    "    if dept[i] == 'CS' and total_marks[i] > 750 and backlog[i] == 'NB':\n",
    "        scholarship[i] = 'Higher Achiever Scholarship'\n",
    "        print(f\"Higher Achiever Scholarship goes to {student_ID[i]}\")\n",
    "    elif backlog[i] == 'NB' and (650<total_marks[i]<=720):\n",
    "        scholarship[i] = 'Achiever Scholarship'\n",
    "        print(f\"Achiever Scholarship foes to {student_ID[i]}\")\n",
    "    else:\n",
    "        print(\"No Scholarship were given\")"
   ]
  },
  {
   "cell_type": "code",
   "execution_count": 57,
   "id": "da2f7748-31b7-46ff-a365-540154ec6f41",
   "metadata": {},
   "outputs": [],
   "source": [
    "student = {'studentid':student_ID,\n",
    "           'gender':gender,\n",
    "          'department':dept,\n",
    "          'sessional_perc':sessional_perc,\n",
    "          'total_marks':total_marks,\n",
    "          'backlog':backlog,\n",
    "          'Scholarship':scholarship}"
   ]
  },
  {
   "cell_type": "code",
   "execution_count": 58,
   "id": "36c4ba34-1d95-470d-9537-fb2b5d4c6871",
   "metadata": {},
   "outputs": [
    {
     "data": {
      "text/plain": [
       "{'studentid': ['S01', 'S02', 'S03', 'S04', 'S05'],\n",
       " 'gender': ['M', 'F', 'M', 'F', 'M'],\n",
       " 'department': ['CS', 'ECE', 'ME', 'CS', 'CS'],\n",
       " 'sessional_perc': [45, 60, 73, 65.3, 72.9],\n",
       " 'total_marks': [680, 800, 530.4, 650, 795.6],\n",
       " 'backlog': ['B', 'B', 'NB', 'B', 'NB'],\n",
       " 'Scholarship': ['No Scholarship',\n",
       "  'No Scholarship',\n",
       "  'No Scholarship',\n",
       "  'No Scholarship',\n",
       "  'Higher Achiever Scholarship']}"
      ]
     },
     "execution_count": 58,
     "metadata": {},
     "output_type": "execute_result"
    }
   ],
   "source": [
    "student"
   ]
  },
  {
   "cell_type": "code",
   "execution_count": null,
   "id": "9f0d2326-9ee5-4959-80de-c70caf54d190",
   "metadata": {},
   "outputs": [],
   "source": []
  }
 ],
 "metadata": {
  "kernelspec": {
   "display_name": "Python 3 (ipykernel)",
   "language": "python",
   "name": "python3"
  },
  "language_info": {
   "codemirror_mode": {
    "name": "ipython",
    "version": 3
   },
   "file_extension": ".py",
   "mimetype": "text/x-python",
   "name": "python",
   "nbconvert_exporter": "python",
   "pygments_lexer": "ipython3",
   "version": "3.10.8"
  }
 },
 "nbformat": 4,
 "nbformat_minor": 5
}
