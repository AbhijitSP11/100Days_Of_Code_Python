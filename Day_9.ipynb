{
 "cells": [
  {
   "cell_type": "markdown",
   "id": "2d493676-a3b0-470d-a4a7-6daf35fd34b3",
   "metadata": {},
   "source": [
    "# Day 9"
   ]
  },
  {
   "cell_type": "code",
   "execution_count": null,
   "id": "4500bb52-a88a-4ced-8979-4213cc31823d",
   "metadata": {},
   "outputs": [],
   "source": []
  },
  {
   "cell_type": "markdown",
   "id": "2073cf2f-0b35-4089-9e17-fdb029c0ee3f",
   "metadata": {},
   "source": [
    "## For Loop"
   ]
  },
  {
   "cell_type": "markdown",
   "id": "6c497d2d-b734-495f-a254-775f048b4439",
   "metadata": {},
   "source": [
    "### printing numbers from 1 to 15"
   ]
  },
  {
   "cell_type": "code",
   "execution_count": 1,
   "id": "24f0096e-e518-4353-8821-7e4f38b1974f",
   "metadata": {},
   "outputs": [
    {
     "name": "stdout",
     "output_type": "stream",
     "text": [
      "1\n",
      "2\n",
      "3\n",
      "4\n",
      "5\n",
      "6\n",
      "7\n",
      "8\n",
      "9\n",
      "10\n",
      "11\n",
      "12\n",
      "13\n",
      "14\n",
      "15\n"
     ]
    }
   ],
   "source": [
    "for i in range(1,16):\n",
    "    print(i)"
   ]
  },
  {
   "cell_type": "markdown",
   "id": "2ced5673-af6e-47a5-853c-70c2e8cc5888",
   "metadata": {},
   "source": [
    "### print the numbers in the reverse order:"
   ]
  },
  {
   "cell_type": "code",
   "execution_count": 4,
   "id": "7e29b1b4-6f2f-4c0f-9bad-9dd96c2e845e",
   "metadata": {},
   "outputs": [
    {
     "name": "stdout",
     "output_type": "stream",
     "text": [
      "5\n",
      "4\n",
      "3\n",
      "2\n",
      "1\n"
     ]
    }
   ],
   "source": [
    "for i in range(5,0,-1):\n",
    "    print(i)"
   ]
  },
  {
   "cell_type": "code",
   "execution_count": 11,
   "id": "5b5e0a33-a818-44d0-be72-8a4ea363b102",
   "metadata": {},
   "outputs": [
    {
     "name": "stdout",
     "output_type": "stream",
     "text": [
      "1\n",
      "2\n",
      "3\n",
      "4\n",
      "5\n",
      "6\n"
     ]
    }
   ],
   "source": [
    "list1 = [1,2,3,4,5,6]\n",
    "for i in list1:\n",
    "    print(i)"
   ]
  },
  {
   "cell_type": "code",
   "execution_count": 16,
   "id": "89c9be0d-4648-44fb-ad8e-f06852f9462a",
   "metadata": {},
   "outputs": [
    {
     "name": "stdin",
     "output_type": "stream",
     "text": [
      "Enter the range from 1 to _ :-  20\n"
     ]
    },
    {
     "name": "stdout",
     "output_type": "stream",
     "text": [
      "210\n"
     ]
    }
   ],
   "source": [
    "n = int(input(\"Enter the range from 1 to _ :- \"))\n",
    "add = 0\n",
    "for i in range(1,n+1):\n",
    "    add = add + i\n",
    "print(add)"
   ]
  },
  {
   "cell_type": "code",
   "execution_count": 18,
   "id": "14e6fd2a-2934-4a9e-96f7-17075a12e820",
   "metadata": {},
   "outputs": [
    {
     "name": "stdout",
     "output_type": "stream",
     "text": [
      "2\n",
      "4\n",
      "6\n",
      "8\n",
      "10\n"
     ]
    }
   ],
   "source": [
    "### Printing all the even numbers from the range\n",
    "for i in range(1,11):\n",
    "    if i % 2 == 0:\n",
    "        print(i)"
   ]
  },
  {
   "cell_type": "markdown",
   "id": "c1e175c4-a143-4e9d-93cd-6065e2364fa7",
   "metadata": {},
   "source": [
    "### calculate the sum of all the odd numbers within the given range."
   ]
  },
  {
   "cell_type": "code",
   "execution_count": 23,
   "id": "54734043-206c-490b-97c1-da38beee3e61",
   "metadata": {},
   "outputs": [
    {
     "name": "stdout",
     "output_type": "stream",
     "text": [
      "Odd number are:-  3\n",
      "Odd number are:-  6\n",
      "Odd number are:-  9\n",
      "Sum of all odd numbers are  18\n"
     ]
    }
   ],
   "source": [
    "add = 0\n",
    "for i in range(1,11):\n",
    "    if i % 3 == 0:\n",
    "        print(\"Odd number are:- \",i)\n",
    "        add = add + i\n",
    "print(\"Sum of all odd numbers are \",add)\n",
    "        "
   ]
  },
  {
   "cell_type": "markdown",
   "id": "ff76c6c4-9328-4049-b96d-3992f1d48ec6",
   "metadata": {},
   "source": [
    "###  print a multiplication table of a given number"
   ]
  },
  {
   "cell_type": "code",
   "execution_count": 30,
   "id": "08535d3b-f15f-4259-a65e-e56d0cf0f162",
   "metadata": {},
   "outputs": [
    {
     "name": "stdin",
     "output_type": "stream",
     "text": [
      "Enter the number:-  5\n"
     ]
    },
    {
     "name": "stdout",
     "output_type": "stream",
     "text": [
      "5\n",
      "10\n",
      "15\n",
      "20\n",
      "25\n",
      "30\n",
      "35\n",
      "40\n",
      "45\n",
      "50\n"
     ]
    }
   ],
   "source": [
    "n = int(input(\"Enter the number:- \"))\n",
    "m = 1\n",
    "for i in range(1,11):\n",
    "    m = i*n\n",
    "    print(m)"
   ]
  },
  {
   "cell_type": "code",
   "execution_count": 32,
   "id": "af6241c4-ba58-4ee0-9b20-54cd7893fec6",
   "metadata": {},
   "outputs": [
    {
     "name": "stdout",
     "output_type": "stream",
     "text": [
      "0\n",
      "2\n",
      "4\n",
      "6\n",
      "8\n",
      "10\n",
      "12\n",
      "14\n",
      "16\n",
      "18\n",
      "20\n"
     ]
    }
   ],
   "source": [
    "list1 = list(range(0,21,2))\n",
    "for i in list1:\n",
    "    print(i)"
   ]
  },
  {
   "cell_type": "markdown",
   "id": "d5e9ff8b-2dfb-4992-a41a-1cb8fcea4b96",
   "metadata": {},
   "source": [
    "### count the total number of digits in a number."
   ]
  },
  {
   "cell_type": "code",
   "execution_count": 34,
   "id": "6d697071-7e82-4e9e-adcc-860711861885",
   "metadata": {},
   "outputs": [
    {
     "name": "stdout",
     "output_type": "stream",
     "text": [
      "3\n"
     ]
    }
   ],
   "source": [
    "x = 195\n",
    "c = 0\n",
    "s = str(x)\n",
    "for i in s:\n",
    "    c = c+1\n",
    "print(c)"
   ]
  },
  {
   "cell_type": "markdown",
   "id": "79b6ad15-0fba-4424-98a6-4f43f5a5d037",
   "metadata": {},
   "source": [
    "### program that accepts a word from the user and reverses it."
   ]
  },
  {
   "cell_type": "code",
   "execution_count": 49,
   "id": "21639d94-05b4-4319-af8f-ebaeb2de15cf",
   "metadata": {},
   "outputs": [
    {
     "name": "stdin",
     "output_type": "stream",
     "text": [
      "Enter the string:- Aniruddh\n"
     ]
    },
    {
     "name": "stdout",
     "output_type": "stream",
     "text": [
      "hddurinA\n"
     ]
    }
   ],
   "source": [
    "string = input(\"Enter the string:-\")\n",
    "r_string = ''\n",
    "for i in string:\n",
    "    r_string = i+r_string\n",
    "print(r_string)"
   ]
  },
  {
   "cell_type": "markdown",
   "id": "bb224f70-99f5-4a8a-8169-ac0f042a097b",
   "metadata": {},
   "source": [
    "### check if the given string is a palindrome."
   ]
  },
  {
   "cell_type": "code",
   "execution_count": 47,
   "id": "04b1d76f-2a16-46b4-9434-7e76bbe2adc1",
   "metadata": {},
   "outputs": [
    {
     "name": "stdin",
     "output_type": "stream",
     "text": [
      "Enter the string:- joj\n"
     ]
    },
    {
     "name": "stdout",
     "output_type": "stream",
     "text": [
      "Given string joj is Palindrome\n"
     ]
    }
   ],
   "source": [
    "string = input(\"Enter the string:-\")\n",
    "r_string = ''\n",
    "for i in string:\n",
    "    r_string = i+r_string\n",
    "if string == r_string:\n",
    "    print(f\"Given string {string} is Palindrome\")\n",
    "else:\n",
    "    print(\"Its not plaindrome\")"
   ]
  },
  {
   "cell_type": "markdown",
   "id": "6019ec6f-f295-47e3-bc20-88000a96dd27",
   "metadata": {},
   "source": [
    "### program to count the number of even and odd numbers from a series of numbers."
   ]
  },
  {
   "cell_type": "code",
   "execution_count": 50,
   "id": "4d6f3640-2356-421d-8a47-1b7513b880ff",
   "metadata": {},
   "outputs": [
    {
     "name": "stdout",
     "output_type": "stream",
     "text": [
      "1 Is a odd number\n",
      "2 Is a even number\n",
      "3 Is a odd number\n",
      "4 Is a even number\n",
      "5 Is a odd number\n",
      "5643 Is a odd number\n",
      "644 Is a even number\n",
      "32 Is a even number\n"
     ]
    }
   ],
   "source": [
    "number = [1,2,3,4,5,5643,644,32]\n",
    "for i in number:\n",
    "    if i%2==0:\n",
    "        print(i,\"Is a even number\")\n",
    "    else:\n",
    "        print(i,'Is a odd number')"
   ]
  },
  {
   "cell_type": "code",
   "execution_count": null,
   "id": "1c614bc5-50e0-4591-a5df-5a7dc6da14f9",
   "metadata": {},
   "outputs": [],
   "source": []
  }
 ],
 "metadata": {
  "kernelspec": {
   "display_name": "Python 3 (ipykernel)",
   "language": "python",
   "name": "python3"
  },
  "language_info": {
   "codemirror_mode": {
    "name": "ipython",
    "version": 3
   },
   "file_extension": ".py",
   "mimetype": "text/x-python",
   "name": "python",
   "nbconvert_exporter": "python",
   "pygments_lexer": "ipython3",
   "version": "3.10.8"
  }
 },
 "nbformat": 4,
 "nbformat_minor": 5
}
