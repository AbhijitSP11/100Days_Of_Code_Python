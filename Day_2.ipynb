{
 "cells": [
  {
   "cell_type": "markdown",
   "id": "72517da3-f5b0-4d5a-8426-8fb4e102c9ad",
   "metadata": {},
   "source": [
    "# Day - 2"
   ]
  },
  {
   "cell_type": "markdown",
   "id": "a04d3e84-3e3d-43bd-8165-683f81551717",
   "metadata": {},
   "source": [
    "## Topics going to be cover on Day-2\n",
    "- Numeric: int, float, complex\n",
    "- Booleans : True, False\n",
    "- List: Idexing, Slicing, append(), clear(), copy(), count(), extend(), index(), insert(), pop(), remove(), reverse(), sort()\n",
    "- Solved some questions related to Numerics and List"
   ]
  },
  {
   "cell_type": "markdown",
   "id": "6df8f253-7dca-479a-8cb8-4884bd69536c",
   "metadata": {},
   "source": [
    "# Numaric: Integer (int)\n",
    "Integers are whole numbers, positive numbers, negative numbers, without decimals, of unlimited length."
   ]
  },
  {
   "cell_type": "code",
   "execution_count": 1,
   "id": "91dea4fa-65fd-4217-a30b-3921a94749a6",
   "metadata": {},
   "outputs": [
    {
     "data": {
      "text/plain": [
       "256"
      ]
     },
     "execution_count": 1,
     "metadata": {},
     "output_type": "execute_result"
    }
   ],
   "source": [
    "x = 256\n",
    "x"
   ]
  },
  {
   "cell_type": "code",
   "execution_count": 2,
   "id": "a82cac1d-6b41-460a-8eb1-c5f7ccfda3cb",
   "metadata": {},
   "outputs": [
    {
     "data": {
      "text/plain": [
       "int"
      ]
     },
     "execution_count": 2,
     "metadata": {},
     "output_type": "execute_result"
    }
   ],
   "source": [
    "type(x)"
   ]
  },
  {
   "cell_type": "code",
   "execution_count": 3,
   "id": "b46b7833-f65f-4547-871e-14eeaae5ed50",
   "metadata": {},
   "outputs": [
    {
     "data": {
      "text/plain": [
       "11"
      ]
     },
     "execution_count": 3,
     "metadata": {},
     "output_type": "execute_result"
    }
   ],
   "source": [
    "# Using + oprator with int\n",
    "5+6"
   ]
  },
  {
   "cell_type": "code",
   "execution_count": 4,
   "id": "634af6c2-d263-4fed-b817-7dc246ccaaa6",
   "metadata": {},
   "outputs": [
    {
     "data": {
      "text/plain": [
       "68"
      ]
     },
     "execution_count": 4,
     "metadata": {},
     "output_type": "execute_result"
    }
   ],
   "source": [
    "23+45"
   ]
  },
  {
   "cell_type": "code",
   "execution_count": 5,
   "id": "4f28d869-1b86-4636-a3ed-9a2a7523b46e",
   "metadata": {},
   "outputs": [
    {
     "data": {
      "text/plain": [
       "48"
      ]
     },
     "execution_count": 5,
     "metadata": {},
     "output_type": "execute_result"
    }
   ],
   "source": [
    "# Using - oprator with int\n",
    "12*4"
   ]
  },
  {
   "cell_type": "code",
   "execution_count": 6,
   "id": "54dc6b11-9db3-454e-9b53-14f7294ccb6b",
   "metadata": {},
   "outputs": [
    {
     "data": {
      "text/plain": [
       "8"
      ]
     },
     "execution_count": 6,
     "metadata": {},
     "output_type": "execute_result"
    }
   ],
   "source": [
    "2*4"
   ]
  },
  {
   "cell_type": "code",
   "execution_count": 7,
   "id": "2c9872d0-1e3b-48f4-bbec-40b42eae2816",
   "metadata": {},
   "outputs": [
    {
     "data": {
      "text/plain": [
       "490"
      ]
     },
     "execution_count": 7,
     "metadata": {},
     "output_type": "execute_result"
    }
   ],
   "source": [
    "98*5"
   ]
  },
  {
   "cell_type": "code",
   "execution_count": 8,
   "id": "3f134197-5a2f-47b4-928d-a64398f4ed03",
   "metadata": {},
   "outputs": [
    {
     "data": {
      "text/plain": [
       "532992"
      ]
     },
     "execution_count": 8,
     "metadata": {},
     "output_type": "execute_result"
    }
   ],
   "source": [
    "768*694"
   ]
  },
  {
   "cell_type": "code",
   "execution_count": 9,
   "id": "6ff63cbf-6624-4cd2-8dc0-11f8976e50dc",
   "metadata": {},
   "outputs": [
    {
     "data": {
      "text/plain": [
       "5"
      ]
     },
     "execution_count": 9,
     "metadata": {},
     "output_type": "execute_result"
    }
   ],
   "source": [
    "# Using - oprator with int\n",
    "6-1"
   ]
  },
  {
   "cell_type": "code",
   "execution_count": 10,
   "id": "03870bee-65f0-49e8-95ab-e0233601b709",
   "metadata": {},
   "outputs": [
    {
     "data": {
      "text/plain": [
       "-2"
      ]
     },
     "execution_count": 10,
     "metadata": {},
     "output_type": "execute_result"
    }
   ],
   "source": [
    "5-7"
   ]
  },
  {
   "cell_type": "code",
   "execution_count": 11,
   "id": "0a36bd53-1a68-48b9-9902-7efd7d34582d",
   "metadata": {},
   "outputs": [
    {
     "data": {
      "text/plain": [
       "8"
      ]
     },
     "execution_count": 11,
     "metadata": {},
     "output_type": "execute_result"
    }
   ],
   "source": [
    "9-1"
   ]
  },
  {
   "cell_type": "code",
   "execution_count": 12,
   "id": "1da9f9c5-0d21-467d-b937-7f511d24558f",
   "metadata": {},
   "outputs": [
    {
     "data": {
      "text/plain": [
       "642"
      ]
     },
     "execution_count": 12,
     "metadata": {},
     "output_type": "execute_result"
    }
   ],
   "source": [
    "987-345"
   ]
  },
  {
   "cell_type": "code",
   "execution_count": 13,
   "id": "2deb08bf-f970-4572-83d9-92ca4c1e80d3",
   "metadata": {},
   "outputs": [
    {
     "data": {
      "text/plain": [
       "53"
      ]
     },
     "execution_count": 13,
     "metadata": {},
     "output_type": "execute_result"
    }
   ],
   "source": [
    "76-23"
   ]
  },
  {
   "cell_type": "code",
   "execution_count": 14,
   "id": "fb92cae6-5570-4e1d-8e04-7995c190b296",
   "metadata": {},
   "outputs": [
    {
     "data": {
      "text/plain": [
       "5.0"
      ]
     },
     "execution_count": 14,
     "metadata": {},
     "output_type": "execute_result"
    }
   ],
   "source": [
    "# Using / oprator in int \"/ oprator always give output in float\" \n",
    "10/2"
   ]
  },
  {
   "cell_type": "code",
   "execution_count": 15,
   "id": "bb509d10-c0da-4f9e-b23c-e6898b0e7649",
   "metadata": {},
   "outputs": [
    {
     "data": {
      "text/plain": [
       "6.8"
      ]
     },
     "execution_count": 15,
     "metadata": {},
     "output_type": "execute_result"
    }
   ],
   "source": [
    "34/5"
   ]
  },
  {
   "cell_type": "code",
   "execution_count": 16,
   "id": "cf586afc-715e-4466-9ad3-672849a0efb8",
   "metadata": {},
   "outputs": [
    {
     "data": {
      "text/plain": [
       "10.0"
      ]
     },
     "execution_count": 16,
     "metadata": {},
     "output_type": "execute_result"
    }
   ],
   "source": [
    "100/10"
   ]
  },
  {
   "cell_type": "code",
   "execution_count": 17,
   "id": "7d4ac646-6656-4d85-9c96-87335c7a628f",
   "metadata": {},
   "outputs": [
    {
     "data": {
      "text/plain": [
       "0"
      ]
     },
     "execution_count": 17,
     "metadata": {},
     "output_type": "execute_result"
    }
   ],
   "source": [
    "# Using % oprator in int \"% gives reminder in the output of to number divi\"\n",
    "25 % 5"
   ]
  },
  {
   "cell_type": "code",
   "execution_count": 18,
   "id": "b56276da-805b-4d1d-962e-ec59d6994ed4",
   "metadata": {},
   "outputs": [
    {
     "data": {
      "text/plain": [
       "1"
      ]
     },
     "execution_count": 18,
     "metadata": {},
     "output_type": "execute_result"
    }
   ],
   "source": [
    "35 % 2"
   ]
  },
  {
   "cell_type": "code",
   "execution_count": 19,
   "id": "14101253-1a20-45bb-9962-a4f566ea5125",
   "metadata": {},
   "outputs": [
    {
     "data": {
      "text/plain": [
       "12"
      ]
     },
     "execution_count": 19,
     "metadata": {},
     "output_type": "execute_result"
    }
   ],
   "source": [
    "4568 % 34"
   ]
  },
  {
   "cell_type": "code",
   "execution_count": 20,
   "id": "9fc6259e-f747-464c-96c0-42378b02274a",
   "metadata": {},
   "outputs": [
    {
     "data": {
      "text/plain": [
       "3"
      ]
     },
     "execution_count": 20,
     "metadata": {},
     "output_type": "execute_result"
    }
   ],
   "source": [
    "# Using // oprator in int \"// oprator gives the output of two div number nearest whole number\"\n",
    "15 // 4"
   ]
  },
  {
   "cell_type": "code",
   "execution_count": 21,
   "id": "20a64e45-57d3-408d-a0c3-d0aeb916de63",
   "metadata": {},
   "outputs": [
    {
     "data": {
      "text/plain": [
       "18"
      ]
     },
     "execution_count": 21,
     "metadata": {},
     "output_type": "execute_result"
    }
   ],
   "source": [
    "54//3"
   ]
  },
  {
   "cell_type": "code",
   "execution_count": 22,
   "id": "4ce32904-601a-4216-9192-03af778ba591",
   "metadata": {},
   "outputs": [
    {
     "data": {
      "text/plain": [
       "9"
      ]
     },
     "execution_count": 22,
     "metadata": {},
     "output_type": "execute_result"
    }
   ],
   "source": [
    "88//9"
   ]
  },
  {
   "cell_type": "code",
   "execution_count": 23,
   "id": "944160c8-008d-4d1d-a392-eb09fd969027",
   "metadata": {},
   "outputs": [
    {
     "data": {
      "text/plain": [
       "4"
      ]
     },
     "execution_count": 23,
     "metadata": {},
     "output_type": "execute_result"
    }
   ],
   "source": [
    "# Using ** oprator with int \n",
    "2**2"
   ]
  },
  {
   "cell_type": "code",
   "execution_count": 24,
   "id": "4c3c5081-6734-40e2-9edd-3ed8db531649",
   "metadata": {},
   "outputs": [
    {
     "data": {
      "text/plain": [
       "9"
      ]
     },
     "execution_count": 24,
     "metadata": {},
     "output_type": "execute_result"
    }
   ],
   "source": [
    "3**2"
   ]
  },
  {
   "cell_type": "code",
   "execution_count": 25,
   "id": "ad83044b-30dd-4f80-96ef-f50db672ca01",
   "metadata": {},
   "outputs": [
    {
     "data": {
      "text/plain": [
       "8"
      ]
     },
     "execution_count": 25,
     "metadata": {},
     "output_type": "execute_result"
    }
   ],
   "source": [
    "2**3"
   ]
  },
  {
   "cell_type": "code",
   "execution_count": 26,
   "id": "ff855ea9-9882-41a1-a5de-ee94ad7fd281",
   "metadata": {},
   "outputs": [
    {
     "data": {
      "text/plain": [
       "27"
      ]
     },
     "execution_count": 26,
     "metadata": {},
     "output_type": "execute_result"
    }
   ],
   "source": [
    "3**3"
   ]
  },
  {
   "cell_type": "code",
   "execution_count": 27,
   "id": "1fe72979-6ece-4d46-9f5e-ea9c4c5ed940",
   "metadata": {},
   "outputs": [
    {
     "data": {
      "text/plain": [
       "279841"
      ]
     },
     "execution_count": 27,
     "metadata": {},
     "output_type": "execute_result"
    }
   ],
   "source": [
    "23**4"
   ]
  },
  {
   "cell_type": "markdown",
   "id": "bbfb979d-f25d-44d0-b9b1-a73df0420d0f",
   "metadata": {},
   "source": [
    "# Float\n",
    "Folat or floating point numbers are the number, positive or negative, containing one or more decimals."
   ]
  },
  {
   "cell_type": "code",
   "execution_count": 28,
   "id": "4a0ab141-490c-48be-8e13-83b552392258",
   "metadata": {},
   "outputs": [
    {
     "data": {
      "text/plain": [
       "34.5"
      ]
     },
     "execution_count": 28,
     "metadata": {},
     "output_type": "execute_result"
    }
   ],
   "source": [
    "x = 34.5\n",
    "x"
   ]
  },
  {
   "cell_type": "code",
   "execution_count": 29,
   "id": "5310e480-6f6c-46bb-be23-08969850e68a",
   "metadata": {},
   "outputs": [
    {
     "data": {
      "text/plain": [
       "float"
      ]
     },
     "execution_count": 29,
     "metadata": {},
     "output_type": "execute_result"
    }
   ],
   "source": [
    "type(x)"
   ]
  },
  {
   "cell_type": "code",
   "execution_count": 30,
   "id": "8901e1f0-766e-400e-aa01-717a3d8e6c8b",
   "metadata": {},
   "outputs": [
    {
     "data": {
      "text/plain": [
       "58.1"
      ]
     },
     "execution_count": 30,
     "metadata": {},
     "output_type": "execute_result"
    }
   ],
   "source": [
    "34.5 + 23.6"
   ]
  },
  {
   "cell_type": "code",
   "execution_count": 31,
   "id": "a2e83394-4349-45ca-8018-f1dcf54e8eb8",
   "metadata": {},
   "outputs": [
    {
     "data": {
      "text/plain": [
       "815.45"
      ]
     },
     "execution_count": 31,
     "metadata": {},
     "output_type": "execute_result"
    }
   ],
   "source": [
    "23.5 * 34.7"
   ]
  },
  {
   "cell_type": "code",
   "execution_count": 32,
   "id": "21d123e9-d2a0-42dd-b05c-7428157838f4",
   "metadata": {},
   "outputs": [
    {
     "data": {
      "text/plain": [
       "10.310344827586206"
      ]
     },
     "execution_count": 32,
     "metadata": {},
     "output_type": "execute_result"
    }
   ],
   "source": [
    "29.9/2.9"
   ]
  },
  {
   "cell_type": "code",
   "execution_count": 33,
   "id": "58686ab8-a37a-46db-8286-2bba12b88a51",
   "metadata": {},
   "outputs": [
    {
     "data": {
      "text/plain": [
       "0.9899999999999993"
      ]
     },
     "execution_count": 33,
     "metadata": {},
     "output_type": "execute_result"
    }
   ],
   "source": [
    "120.99 % 2.4"
   ]
  },
  {
   "cell_type": "code",
   "execution_count": 34,
   "id": "e833d7b2-7f61-4cc9-8935-dc9462da2179",
   "metadata": {},
   "outputs": [
    {
     "data": {
      "text/plain": [
       "50.0"
      ]
     },
     "execution_count": 34,
     "metadata": {},
     "output_type": "execute_result"
    }
   ],
   "source": [
    "120.99 // 2.4"
   ]
  },
  {
   "cell_type": "markdown",
   "id": "19410f7c-43b4-4775-982d-93a997ec5489",
   "metadata": {
    "tags": []
   },
   "source": [
    "# Complex\n",
    "Complex numbers are written with a \"j\" as the imaginary part:"
   ]
  },
  {
   "cell_type": "code",
   "execution_count": 35,
   "id": "9bec45d7-80ed-4bb8-9329-e726dac1d05e",
   "metadata": {},
   "outputs": [
    {
     "data": {
      "text/plain": [
       "(3+6j)"
      ]
     },
     "execution_count": 35,
     "metadata": {},
     "output_type": "execute_result"
    }
   ],
   "source": [
    "x = 3+6j\n",
    "x"
   ]
  },
  {
   "cell_type": "code",
   "execution_count": 36,
   "id": "65806dc1-279a-4aef-be09-5c7400881eb8",
   "metadata": {},
   "outputs": [
    {
     "data": {
      "text/plain": [
       "complex"
      ]
     },
     "execution_count": 36,
     "metadata": {},
     "output_type": "execute_result"
    }
   ],
   "source": [
    "type(x)"
   ]
  },
  {
   "cell_type": "code",
   "execution_count": 37,
   "id": "0b1e1499-5796-4857-927a-48062eb20707",
   "metadata": {},
   "outputs": [
    {
     "data": {
      "text/plain": [
       "(12+9j)"
      ]
     },
     "execution_count": 37,
     "metadata": {},
     "output_type": "execute_result"
    }
   ],
   "source": [
    "x = 8+4j\n",
    "y = 4+5J\n",
    "z = x+y\n",
    "z"
   ]
  },
  {
   "cell_type": "code",
   "execution_count": 38,
   "id": "5905d72f-bcfd-4d06-8247-a434ffc7c6fd",
   "metadata": {},
   "outputs": [
    {
     "data": {
      "text/plain": [
       "(4-1j)"
      ]
     },
     "execution_count": 38,
     "metadata": {},
     "output_type": "execute_result"
    }
   ],
   "source": [
    "x = 8+4j\n",
    "y = 4+5J\n",
    "z = x-y\n",
    "z"
   ]
  },
  {
   "cell_type": "code",
   "execution_count": 39,
   "id": "f28c8d59-e27e-4e18-a2fb-afacdf20dbcf",
   "metadata": {},
   "outputs": [
    {
     "data": {
      "text/plain": [
       "(12+56j)"
      ]
     },
     "execution_count": 39,
     "metadata": {},
     "output_type": "execute_result"
    }
   ],
   "source": [
    "x = 8+4j\n",
    "y = 4+5J\n",
    "z = x*y\n",
    "z"
   ]
  },
  {
   "cell_type": "code",
   "execution_count": 40,
   "id": "2b42c4dd-c935-4201-91b4-2ed3ca93be57",
   "metadata": {},
   "outputs": [
    {
     "data": {
      "text/plain": [
       "(1.2682926829268295-0.5853658536585367j)"
      ]
     },
     "execution_count": 40,
     "metadata": {},
     "output_type": "execute_result"
    }
   ],
   "source": [
    "x = 8+4j\n",
    "y = 4+5J\n",
    "z = x/y\n",
    "z"
   ]
  },
  {
   "cell_type": "markdown",
   "id": "6ea3735b-a864-4e9a-802e-40010459aa51",
   "metadata": {},
   "source": [
    "# Converting float into int and int into float"
   ]
  },
  {
   "cell_type": "code",
   "execution_count": 41,
   "id": "a109bb24-bc0a-4851-a1f7-95a5df46ec95",
   "metadata": {},
   "outputs": [
    {
     "data": {
      "text/plain": [
       "234"
      ]
     },
     "execution_count": 41,
     "metadata": {},
     "output_type": "execute_result"
    }
   ],
   "source": [
    "x = 234\n",
    "x"
   ]
  },
  {
   "cell_type": "code",
   "execution_count": 42,
   "id": "eb69be11-441c-47b4-9c74-df19e24ccd1d",
   "metadata": {},
   "outputs": [
    {
     "data": {
      "text/plain": [
       "int"
      ]
     },
     "execution_count": 42,
     "metadata": {},
     "output_type": "execute_result"
    }
   ],
   "source": [
    "type(x)"
   ]
  },
  {
   "cell_type": "code",
   "execution_count": 43,
   "id": "a4da97bf-140b-4718-93fc-b96b08cfca07",
   "metadata": {},
   "outputs": [
    {
     "data": {
      "text/plain": [
       "234.0"
      ]
     },
     "execution_count": 43,
     "metadata": {},
     "output_type": "execute_result"
    }
   ],
   "source": [
    "float(x)"
   ]
  },
  {
   "cell_type": "code",
   "execution_count": 44,
   "id": "102aa901-a589-45d4-a19f-e9216188d917",
   "metadata": {},
   "outputs": [],
   "source": [
    "x = float(x)"
   ]
  },
  {
   "cell_type": "code",
   "execution_count": 45,
   "id": "d99f7e70-a8a3-4877-b4f0-a37c913d495c",
   "metadata": {},
   "outputs": [
    {
     "data": {
      "text/plain": [
       "float"
      ]
     },
     "execution_count": 45,
     "metadata": {},
     "output_type": "execute_result"
    }
   ],
   "source": [
    "type(x)"
   ]
  },
  {
   "cell_type": "code",
   "execution_count": 46,
   "id": "69199419-8e41-4cbd-bb10-de31268b10cc",
   "metadata": {},
   "outputs": [
    {
     "data": {
      "text/plain": [
       "34.98"
      ]
     },
     "execution_count": 46,
     "metadata": {},
     "output_type": "execute_result"
    }
   ],
   "source": [
    "y = 34.98\n",
    "y"
   ]
  },
  {
   "cell_type": "code",
   "execution_count": 47,
   "id": "6bedbe49-a8bc-44b8-afe1-56c6b03a92af",
   "metadata": {},
   "outputs": [
    {
     "data": {
      "text/plain": [
       "float"
      ]
     },
     "execution_count": 47,
     "metadata": {},
     "output_type": "execute_result"
    }
   ],
   "source": [
    "type(y)"
   ]
  },
  {
   "cell_type": "code",
   "execution_count": 48,
   "id": "8cce76de-d205-4beb-b409-63e4cd81cc04",
   "metadata": {},
   "outputs": [
    {
     "data": {
      "text/plain": [
       "34"
      ]
     },
     "execution_count": 48,
     "metadata": {},
     "output_type": "execute_result"
    }
   ],
   "source": [
    "int(y)"
   ]
  },
  {
   "cell_type": "code",
   "execution_count": 49,
   "id": "84938920-0c24-4992-b39b-3e865a22707e",
   "metadata": {},
   "outputs": [
    {
     "data": {
      "text/plain": [
       "34"
      ]
     },
     "execution_count": 49,
     "metadata": {},
     "output_type": "execute_result"
    }
   ],
   "source": [
    "y = int(y)\n",
    "y"
   ]
  },
  {
   "cell_type": "code",
   "execution_count": 50,
   "id": "0472a6aa-b5e9-4512-9b9a-e795101827fe",
   "metadata": {},
   "outputs": [
    {
     "data": {
      "text/plain": [
       "int"
      ]
     },
     "execution_count": 50,
     "metadata": {},
     "output_type": "execute_result"
    }
   ],
   "source": [
    "type(y)"
   ]
  },
  {
   "cell_type": "markdown",
   "id": "2837c4c2-d9f3-4288-a801-de59f73b2760",
   "metadata": {},
   "source": [
    "# User Input"
   ]
  },
  {
   "cell_type": "code",
   "execution_count": 51,
   "id": "e7aebeac-cc52-4f5a-9133-a5129c29bf8a",
   "metadata": {},
   "outputs": [
    {
     "name": "stdin",
     "output_type": "stream",
     "text": [
      "Enter x int Input =  345\n",
      "Enter y int Input =  5\n"
     ]
    },
    {
     "data": {
      "text/plain": [
       "350"
      ]
     },
     "execution_count": 51,
     "metadata": {},
     "output_type": "execute_result"
    }
   ],
   "source": [
    "x = int(input(\"Enter x int Input = \"))\n",
    "y = int(input(\"Enter y int Input = \"))\n",
    "z = x+y\n",
    "z"
   ]
  },
  {
   "cell_type": "code",
   "execution_count": 52,
   "id": "5ac6c045-d99a-4e6b-a015-b8e62da21c1b",
   "metadata": {},
   "outputs": [
    {
     "name": "stdin",
     "output_type": "stream",
     "text": [
      "Enter x int Input =  34.5\n",
      "Enter y int Input =  34.6\n"
     ]
    },
    {
     "data": {
      "text/plain": [
       "69.1"
      ]
     },
     "execution_count": 52,
     "metadata": {},
     "output_type": "execute_result"
    }
   ],
   "source": [
    "x = float(input(\"Enter x int Input = \"))\n",
    "y = float(input(\"Enter y int Input = \"))\n",
    "z = x+y\n",
    "z"
   ]
  },
  {
   "cell_type": "markdown",
   "id": "d3a608cd-6f24-43ec-b88e-39e1abd7bb31",
   "metadata": {},
   "source": [
    "### Q) Number Eight: Write addition, subtraction, multiplication, and division operations that each result in the number 8. Be sure to enclose your operations in print() calls to see the results. You should create four lines that look like this:\n"
   ]
  },
  {
   "cell_type": "code",
   "execution_count": 53,
   "id": "f834ac23-5a55-477e-b4fd-2cf1505f5567",
   "metadata": {},
   "outputs": [
    {
     "name": "stdout",
     "output_type": "stream",
     "text": [
      "For Adding\n"
     ]
    },
    {
     "name": "stdin",
     "output_type": "stream",
     "text": [
      "Enter X value :  5\n",
      "Enter Y value :  3\n"
     ]
    },
    {
     "name": "stdout",
     "output_type": "stream",
     "text": [
      "8\n",
      "For Subtraction\n"
     ]
    },
    {
     "name": "stdin",
     "output_type": "stream",
     "text": [
      "Enter X value :  15\n",
      "Enter Y value :  7\n"
     ]
    },
    {
     "name": "stdout",
     "output_type": "stream",
     "text": [
      "8\n",
      "for Multiplication\n"
     ]
    },
    {
     "name": "stdin",
     "output_type": "stream",
     "text": [
      "Enter X value :  4\n",
      "Enter Y value :  2\n"
     ]
    },
    {
     "name": "stdout",
     "output_type": "stream",
     "text": [
      "8\n",
      "for Division\n"
     ]
    },
    {
     "name": "stdin",
     "output_type": "stream",
     "text": [
      "Enter X value :  40\n",
      "Enter Y value :  5\n"
     ]
    },
    {
     "name": "stdout",
     "output_type": "stream",
     "text": [
      "8.0\n",
      "for Modules\n"
     ]
    },
    {
     "name": "stdin",
     "output_type": "stream",
     "text": [
      "Enter X value :  40\n",
      "Enter Y value :  16\n"
     ]
    },
    {
     "name": "stdout",
     "output_type": "stream",
     "text": [
      "8\n",
      "for Division Floor\n"
     ]
    },
    {
     "name": "stdin",
     "output_type": "stream",
     "text": [
      "Enter X value :  72\n",
      "Enter Y value :  9\n"
     ]
    },
    {
     "name": "stdout",
     "output_type": "stream",
     "text": [
      "8\n"
     ]
    }
   ],
   "source": [
    "print(\"For Adding\")\n",
    "x = int(input(\"Enter X value : \"))\n",
    "y = int(input(\"Enter Y value : \"))\n",
    "add = x+y\n",
    "print(add)\n",
    "\n",
    "print(\"For Subtraction\")\n",
    "x = int(input(\"Enter X value : \"))\n",
    "y = int(input(\"Enter Y value : \"))\n",
    "sub = x-y\n",
    "print(sub)\n",
    "\n",
    "print(\"for Multiplication\")\n",
    "x = int(input(\"Enter X value : \"))\n",
    "y = int(input(\"Enter Y value : \"))\n",
    "mul = x*y\n",
    "print(mul)\n",
    "\n",
    "print(\"for Division\")\n",
    "x = int(input(\"Enter X value : \"))\n",
    "y = int(input(\"Enter Y value : \"))\n",
    "div = x/y\n",
    "print(div)\n",
    "\n",
    "print(\"for Modules\")\n",
    "x = int(input(\"Enter X value : \"))\n",
    "y = int(input(\"Enter Y value : \"))\n",
    "mod = x%y\n",
    "print(mod)\n",
    "\n",
    "print(\"for Division Floor\")\n",
    "x = int(input(\"Enter X value : \"))\n",
    "y = int(input(\"Enter Y value : \"))\n",
    "div_floor = x//y\n",
    "print(div_floor)"
   ]
  },
  {
   "cell_type": "markdown",
   "id": "096dce47-c864-44ad-bcdf-3927e7f6a9af",
   "metadata": {},
   "source": [
    "# List\n",
    "A list is a collection of items in a perticular order. a list contain all data types"
   ]
  },
  {
   "cell_type": "code",
   "execution_count": 54,
   "id": "e3b9036c-af66-4de5-b19a-3ffbc10279ee",
   "metadata": {},
   "outputs": [
    {
     "name": "stdout",
     "output_type": "stream",
     "text": [
      "['Aniruddh', 'Jigyasa', 'Abhijit', 'Ujjwal', ['Anushka', 'Lav', 'Harsh', 'Yash'], 1, 3, 6, 5, 7, 12.5, 23.34, 34.67, (34+76j)]\n"
     ]
    }
   ],
   "source": [
    "names = ['Aniruddh', 'Jigyasa', 'Abhijit', 'Ujjwal', ['Anushka', 'Lav', 'Harsh', 'Yash'], 1,3,6,5,7,12.5,23.34,34.67,34+76j]\n",
    "print(names)"
   ]
  },
  {
   "cell_type": "code",
   "execution_count": 55,
   "id": "b6e9c847-6722-4021-b2c2-1f38f53684a5",
   "metadata": {},
   "outputs": [
    {
     "data": {
      "text/plain": [
       "list"
      ]
     },
     "execution_count": 55,
     "metadata": {},
     "output_type": "execute_result"
    }
   ],
   "source": [
    "type(names)"
   ]
  },
  {
   "cell_type": "markdown",
   "id": "d4deeff7-d8fb-4cf5-9d0a-9e5ba34450ae",
   "metadata": {},
   "source": [
    "### Accessing Elements in a List using indexing"
   ]
  },
  {
   "cell_type": "code",
   "execution_count": 56,
   "id": "c156fb2d-e428-4dc8-8c17-7c591b1ed97f",
   "metadata": {},
   "outputs": [
    {
     "data": {
      "text/plain": [
       "['golu', 22, 98.4, (4+7j)]"
      ]
     },
     "execution_count": 56,
     "metadata": {},
     "output_type": "execute_result"
    }
   ],
   "source": [
    "l1 = ['golu', 22, 98.4, 4+7j]\n",
    "l1"
   ]
  },
  {
   "cell_type": "code",
   "execution_count": 57,
   "id": "1b7face7-2833-4ca1-8143-4670514812b5",
   "metadata": {},
   "outputs": [
    {
     "data": {
      "text/plain": [
       "'golu'"
      ]
     },
     "execution_count": 57,
     "metadata": {},
     "output_type": "execute_result"
    }
   ],
   "source": [
    "l1[0]"
   ]
  },
  {
   "cell_type": "code",
   "execution_count": 58,
   "id": "68163502-d57f-4b14-ab64-04be69ebbd49",
   "metadata": {},
   "outputs": [
    {
     "data": {
      "text/plain": [
       "22"
      ]
     },
     "execution_count": 58,
     "metadata": {},
     "output_type": "execute_result"
    }
   ],
   "source": [
    "l1[1]"
   ]
  },
  {
   "cell_type": "code",
   "execution_count": 59,
   "id": "c1939920-3228-4601-b04b-4496a33ed395",
   "metadata": {},
   "outputs": [
    {
     "data": {
      "text/plain": [
       "(4+7j)"
      ]
     },
     "execution_count": 59,
     "metadata": {},
     "output_type": "execute_result"
    }
   ],
   "source": [
    "l1[3]"
   ]
  },
  {
   "cell_type": "code",
   "execution_count": 60,
   "id": "57d03371-4c25-4067-94a1-0026f813e5ac",
   "metadata": {},
   "outputs": [
    {
     "data": {
      "text/plain": [
       "(4+7j)"
      ]
     },
     "execution_count": 60,
     "metadata": {},
     "output_type": "execute_result"
    }
   ],
   "source": [
    "l1[-1]"
   ]
  },
  {
   "cell_type": "code",
   "execution_count": 61,
   "id": "a1fc90ed-5f65-4668-a9b8-ff035a494ca5",
   "metadata": {},
   "outputs": [
    {
     "data": {
      "text/plain": [
       "22"
      ]
     },
     "execution_count": 61,
     "metadata": {},
     "output_type": "execute_result"
    }
   ],
   "source": [
    "l1[-3]"
   ]
  },
  {
   "cell_type": "code",
   "execution_count": 62,
   "id": "bca51c68-94e8-4e1e-a8ca-3afdd93d493a",
   "metadata": {},
   "outputs": [
    {
     "data": {
      "text/plain": [
       "'golu'"
      ]
     },
     "execution_count": 62,
     "metadata": {},
     "output_type": "execute_result"
    }
   ],
   "source": [
    "l1[0]"
   ]
  },
  {
   "cell_type": "code",
   "execution_count": 63,
   "id": "7b348161-3be6-4140-86fe-e0ae67df99b6",
   "metadata": {},
   "outputs": [
    {
     "data": {
      "text/plain": [
       "'Golu'"
      ]
     },
     "execution_count": 63,
     "metadata": {},
     "output_type": "execute_result"
    }
   ],
   "source": [
    "l1[0].title()"
   ]
  },
  {
   "cell_type": "code",
   "execution_count": 64,
   "id": "fac0b455-bbaf-43ed-9dd6-028de25444f9",
   "metadata": {},
   "outputs": [
    {
     "data": {
      "text/plain": [
       "120.4"
      ]
     },
     "execution_count": 64,
     "metadata": {},
     "output_type": "execute_result"
    }
   ],
   "source": [
    "# Adding to elements from same list\n",
    "l1[1]+l1[2]"
   ]
  },
  {
   "cell_type": "markdown",
   "id": "5d8829cd-74b0-4ab1-8ca0-f5c624b6dce3",
   "metadata": {},
   "source": [
    "### Slicing the list"
   ]
  },
  {
   "cell_type": "code",
   "execution_count": 65,
   "id": "2a92a3a7-f36d-459f-abd3-1b3a84f5186e",
   "metadata": {},
   "outputs": [
    {
     "name": "stdout",
     "output_type": "stream",
     "text": [
      "['golu', 22, 98.4, (4+7j)]\n"
     ]
    }
   ],
   "source": [
    "print(l1)"
   ]
  },
  {
   "cell_type": "code",
   "execution_count": 66,
   "id": "d4ec324c-adab-463b-a210-19b7822b70ca",
   "metadata": {},
   "outputs": [
    {
     "data": {
      "text/plain": [
       "['golu', 22, 98.4, (4+7j)]"
      ]
     },
     "execution_count": 66,
     "metadata": {},
     "output_type": "execute_result"
    }
   ],
   "source": [
    "l1[::]"
   ]
  },
  {
   "cell_type": "code",
   "execution_count": 67,
   "id": "012aa215-e4b8-423e-9f89-39d3129a021b",
   "metadata": {},
   "outputs": [
    {
     "data": {
      "text/plain": [
       "['golu', 22, 98.4]"
      ]
     },
     "execution_count": 67,
     "metadata": {},
     "output_type": "execute_result"
    }
   ],
   "source": [
    "l1[0:3]"
   ]
  },
  {
   "cell_type": "code",
   "execution_count": 68,
   "id": "e25e5362-0cf8-4513-9a15-24e57c0b5c78",
   "metadata": {},
   "outputs": [
    {
     "data": {
      "text/plain": [
       "[(4+7j), 98.4, 22, 'golu']"
      ]
     },
     "execution_count": 68,
     "metadata": {},
     "output_type": "execute_result"
    }
   ],
   "source": [
    "## Reversing the list\n",
    "l1[::-1]"
   ]
  },
  {
   "cell_type": "code",
   "execution_count": 69,
   "id": "1629e2a0-2b97-4790-a32a-b78fc8cebe29",
   "metadata": {},
   "outputs": [
    {
     "data": {
      "text/plain": [
       "['golu', 98.4]"
      ]
     },
     "execution_count": 69,
     "metadata": {},
     "output_type": "execute_result"
    }
   ],
   "source": [
    "# Junping and slicing the elements in list\n",
    "l1[0::2]"
   ]
  },
  {
   "cell_type": "markdown",
   "id": "322a0d48-db38-4030-9da6-dbd6f3d7572f",
   "metadata": {},
   "source": [
    "### Using Individual Values from a List in a string"
   ]
  },
  {
   "cell_type": "code",
   "execution_count": 70,
   "id": "3433ecdf-94b9-4448-b785-417a7678d4e1",
   "metadata": {},
   "outputs": [
    {
     "name": "stdout",
     "output_type": "stream",
     "text": [
      "['Aniruddh', 'Bike', 80, 22]\n",
      "Aniruddh is 22 years old and love to drive Bike and he is driving bike at speed 80\n"
     ]
    }
   ],
   "source": [
    "l2 = ['Aniruddh', 'Bike', 80, 22]\n",
    "print(l2)\n",
    "message = f\"{l2[0]} is {l2[3]} years old and love to drive {l2[1]} and he is driving bike at speed {l2[-2]}\"\n",
    "print(message)"
   ]
  },
  {
   "cell_type": "markdown",
   "id": "c60c5389-e626-48c8-8b02-a2a64f98a346",
   "metadata": {},
   "source": [
    "### Adding two list togather"
   ]
  },
  {
   "cell_type": "code",
   "execution_count": 71,
   "id": "fcd0e05c-d74d-44d3-bd21-ad4b431b17f8",
   "metadata": {},
   "outputs": [
    {
     "name": "stdout",
     "output_type": "stream",
     "text": [
      "['Aniruddh', 'Alisha', 'Rishu', 'Ayush', 'Aniket', 'Anuj']\n",
      "[22, 20, 18, 15, 17, 18, 14]\n",
      "['Aniruddh', 'Alisha', 'Rishu', 'Ayush', 'Aniket', 'Anuj', 22, 20, 18, 15, 17, 18, 14]\n"
     ]
    }
   ],
   "source": [
    "list1 = ['Aniruddh', 'Alisha', 'Rishu', 'Ayush', 'Aniket', 'Anuj']\n",
    "list2 = [22, 20, 18, 15, 17, 18, 14]\n",
    "list3 = list1+list2\n",
    "print(list1)\n",
    "print(list2)\n",
    "print(list3)"
   ]
  },
  {
   "cell_type": "code",
   "execution_count": 72,
   "id": "70cf2fd1-7ef1-428f-b2f9-c3e04d151c4e",
   "metadata": {},
   "outputs": [
    {
     "data": {
      "text/plain": [
       "[22, 20, 18, 15, 17, 18, 14, 22, 20, 18, 15, 17, 18, 14]"
      ]
     },
     "execution_count": 72,
     "metadata": {},
     "output_type": "execute_result"
    }
   ],
   "source": [
    "# using * opprater in the list\n",
    "list2*2"
   ]
  },
  {
   "cell_type": "code",
   "execution_count": 73,
   "id": "206e0fc2-3fef-46fc-8104-dcd5d8f089b6",
   "metadata": {},
   "outputs": [
    {
     "data": {
      "text/plain": [
       "13"
      ]
     },
     "execution_count": 73,
     "metadata": {},
     "output_type": "execute_result"
    }
   ],
   "source": [
    "# checking the length of the list\n",
    "len(list3) ## it will show how many elements are there in the list"
   ]
  },
  {
   "cell_type": "markdown",
   "id": "935487af-f0bf-4de8-a33f-6d2597be2abf",
   "metadata": {},
   "source": [
    "### Accesing perticular string from the lsit and accesing its charachers"
   ]
  },
  {
   "cell_type": "code",
   "execution_count": 74,
   "id": "35f59601-4026-432d-bc37-63a86fe4e3a7",
   "metadata": {},
   "outputs": [
    {
     "name": "stdout",
     "output_type": "stream",
     "text": [
      "['Aniruddh', 'Alisha', 'Rishu', 'Ayush', 'Aniket', 'Anuj', 22, 20, 18, 15, 17, 18, 14]\n"
     ]
    }
   ],
   "source": [
    "print(list3)"
   ]
  },
  {
   "cell_type": "code",
   "execution_count": 75,
   "id": "62acff84-9621-4668-9e29-69b463f34f66",
   "metadata": {},
   "outputs": [
    {
     "data": {
      "text/plain": [
       "'Aniruddh'"
      ]
     },
     "execution_count": 75,
     "metadata": {},
     "output_type": "execute_result"
    }
   ],
   "source": [
    "list3[0]"
   ]
  },
  {
   "cell_type": "code",
   "execution_count": 76,
   "id": "275a2df8-5ee9-4099-a7cd-bf8113cd0f6b",
   "metadata": {},
   "outputs": [
    {
     "data": {
      "text/plain": [
       "'h'"
      ]
     },
     "execution_count": 76,
     "metadata": {},
     "output_type": "execute_result"
    }
   ],
   "source": [
    "list3[0][-1]"
   ]
  },
  {
   "cell_type": "code",
   "execution_count": 77,
   "id": "bdf5f974-870d-4c02-aede-723b011285da",
   "metadata": {},
   "outputs": [
    {
     "data": {
      "text/plain": [
       "'hddurinA'"
      ]
     },
     "execution_count": 77,
     "metadata": {},
     "output_type": "execute_result"
    }
   ],
   "source": [
    "list3[0][::-1]"
   ]
  },
  {
   "cell_type": "code",
   "execution_count": 78,
   "id": "fd3a23a5-5f93-4727-b6ca-b365c395146d",
   "metadata": {},
   "outputs": [
    {
     "data": {
      "text/plain": [
       "'sha'"
      ]
     },
     "execution_count": 78,
     "metadata": {},
     "output_type": "execute_result"
    }
   ],
   "source": [
    "list3[1][3:7]"
   ]
  },
  {
   "cell_type": "code",
   "execution_count": 79,
   "id": "545770bc-44a0-4b38-b7b8-8708789cf27b",
   "metadata": {},
   "outputs": [
    {
     "data": {
      "text/plain": [
       "'Aie'"
      ]
     },
     "execution_count": 79,
     "metadata": {},
     "output_type": "execute_result"
    }
   ],
   "source": [
    "list3[4][0::2]"
   ]
  },
  {
   "cell_type": "markdown",
   "id": "59ce4d10-dc01-416a-9bb5-bdc7fb479d4f",
   "metadata": {},
   "source": [
    "## Changing, Adding, and Removing Elements in a List"
   ]
  },
  {
   "cell_type": "markdown",
   "id": "e4808de9-1933-4e47-a4e6-7f67dd13a312",
   "metadata": {},
   "source": [
    "### Changing or Modifying Elements in a List using indexing"
   ]
  },
  {
   "cell_type": "code",
   "execution_count": 80,
   "id": "1d611f7d-0f59-482f-be91-23bd3bc39326",
   "metadata": {},
   "outputs": [
    {
     "data": {
      "text/plain": [
       "['Aniruddh', 'Alisha', 'Aniket', 'Anuj', 'Ayush', 'Rishi', 22, 32, 45]"
      ]
     },
     "execution_count": 80,
     "metadata": {},
     "output_type": "execute_result"
    }
   ],
   "source": [
    "list4 = ['Aniruddh', 'Alisha', 'Aniket', 'Anuj', 'Ayush', 'Rishi', 22, 32, 45]\n",
    "list4"
   ]
  },
  {
   "cell_type": "code",
   "execution_count": 81,
   "id": "a34bb06f-78cf-405a-ac71-e218f9e059b4",
   "metadata": {},
   "outputs": [
    {
     "name": "stdout",
     "output_type": "stream",
     "text": [
      "['Aniruddh', 'Alisha', 'Aniket', 'Anuj', 'Ayush', 'Rishi', 22, 32, 45]\n",
      "['Golu', 'Gudiya', 'Chotu', 'Anuj', 'Bhaiu', 'Luchi', 22, 32, 45]\n"
     ]
    }
   ],
   "source": [
    "print(list4)\n",
    "list4[0] = 'Golu'\n",
    "list4[1] = 'Gudiya'\n",
    "list4[2] = 'Chotu'\n",
    "list4[4] = 'Bhaiu'\n",
    "list4[5] = 'Luchi'\n",
    "print(list4)"
   ]
  },
  {
   "cell_type": "markdown",
   "id": "78cc4cea-465f-484b-b6eb-0493dea99508",
   "metadata": {},
   "source": [
    "### Changing or Modifying Elements in a List using multiple indexing"
   ]
  },
  {
   "cell_type": "code",
   "execution_count": 82,
   "id": "3f4044b8-d76c-4c19-9ebf-a3d4f6da88f3",
   "metadata": {},
   "outputs": [
    {
     "name": "stdout",
     "output_type": "stream",
     "text": [
      "['Golu', 'Gudiya', 'Chotu', 'Anuj', 'Bhaiu', 'Luchi', 22, 32, 45]\n",
      "['Golu', 'Gudiya', 'Chotu', 'Anuj', 'Bhaiu', 'Luchi', 22, 20, 18]\n"
     ]
    }
   ],
   "source": [
    "print(list4)\n",
    "list4[6:9] = [22,20,18]\n",
    "print(list4)"
   ]
  },
  {
   "cell_type": "markdown",
   "id": "983748be-5bd1-41ed-b180-15081951215a",
   "metadata": {},
   "source": [
    "### Adding Elements to a List using .append() method"
   ]
  },
  {
   "cell_type": "code",
   "execution_count": 83,
   "id": "d8411a5d-6bbc-4982-b532-48f0654ba888",
   "metadata": {},
   "outputs": [
    {
     "name": "stdout",
     "output_type": "stream",
     "text": [
      "['Aniruddh', 'Alisha', 'Aniket']\n"
     ]
    }
   ],
   "source": [
    "list5 = ['Aniruddh', 'Alisha', 'Aniket']\n",
    "print(list5)"
   ]
  },
  {
   "cell_type": "code",
   "execution_count": 84,
   "id": "21684c84-1be6-45cf-ad09-342fdac43076",
   "metadata": {},
   "outputs": [
    {
     "name": "stdout",
     "output_type": "stream",
     "text": [
      "['Aniruddh', 'Alisha', 'Aniket']\n",
      "['Aniruddh', 'Alisha', 'Aniket', 'Anuj']\n"
     ]
    }
   ],
   "source": [
    "print(list5)\n",
    "list5.append('Anuj') ## .append() always add the element at the last\n",
    "print(list5)"
   ]
  },
  {
   "cell_type": "code",
   "execution_count": 85,
   "id": "ebeb2ddf-22e0-4d65-96dc-afdcdd9140fe",
   "metadata": {},
   "outputs": [
    {
     "name": "stdout",
     "output_type": "stream",
     "text": [
      "['Aniruddh', 'Alisha', 'Aniket', 'Anuj']\n",
      "['Aniruddh', 'Alisha', 'Aniket', 'Anuj', '22']\n"
     ]
    }
   ],
   "source": [
    "print(list5)\n",
    "list5.append('22')\n",
    "print(list5)"
   ]
  },
  {
   "cell_type": "code",
   "execution_count": 86,
   "id": "3556ea46-bb25-4266-9a1f-627c0790f5e7",
   "metadata": {},
   "outputs": [
    {
     "name": "stdout",
     "output_type": "stream",
     "text": [
      "[]\n"
     ]
    }
   ],
   "source": [
    "# Creating a empty list and appemding the elements in the list\n",
    "list6 = []\n",
    "print(list6)"
   ]
  },
  {
   "cell_type": "code",
   "execution_count": 87,
   "id": "cae5f44b-d313-43fc-b4ba-225ecd1be91c",
   "metadata": {},
   "outputs": [
    {
     "name": "stdout",
     "output_type": "stream",
     "text": [
      "[]\n",
      "[12, 24.98, [1, 3, 5, 6], 'hello world', (5+6j)]\n"
     ]
    }
   ],
   "source": [
    "print(list6)\n",
    "list6.append(12)\n",
    "list6.append(24.98)\n",
    "list6.append([1,3,5,6])\n",
    "list6.append('hello world')\n",
    "list6.append(5+6j)\n",
    "print(list6)"
   ]
  },
  {
   "cell_type": "markdown",
   "id": "118ba0fb-4c31-48e5-bd6b-8728753f5823",
   "metadata": {},
   "source": [
    "### Adding Elements to a List using .insert() method"
   ]
  },
  {
   "cell_type": "code",
   "execution_count": 88,
   "id": "861324eb-a8cc-4356-bbae-974f8ba7f05b",
   "metadata": {},
   "outputs": [
    {
     "name": "stdout",
     "output_type": "stream",
     "text": [
      "['Golu', 'Gudiya', 'Chotu', 'Anuj', 'Bhayu', 'Luchi']\n"
     ]
    }
   ],
   "source": [
    "list7 = ['Golu', 'Gudiya', 'Chotu', 'Anuj', 'Bhayu', 'Luchi']\n",
    "print(list7)"
   ]
  },
  {
   "cell_type": "code",
   "execution_count": 89,
   "id": "c8b270b8-f107-4f73-9436-45929bcef32f",
   "metadata": {},
   "outputs": [],
   "source": [
    "list7.insert(0,'Aniruddh') # .inert() works by indexing you have to give the index nummer for addling the element"
   ]
  },
  {
   "cell_type": "code",
   "execution_count": 90,
   "id": "2cfbda50-21d7-4a87-9b8f-aec7a96b0f01",
   "metadata": {},
   "outputs": [
    {
     "data": {
      "text/plain": [
       "['Aniruddh', 'Golu', 'Gudiya', 'Chotu', 'Anuj', 'Bhayu', 'Luchi']"
      ]
     },
     "execution_count": 90,
     "metadata": {},
     "output_type": "execute_result"
    }
   ],
   "source": [
    "list7"
   ]
  },
  {
   "cell_type": "code",
   "execution_count": 91,
   "id": "03ba7a87-9091-4a77-aab3-1b4ac16a684b",
   "metadata": {},
   "outputs": [
    {
     "name": "stdout",
     "output_type": "stream",
     "text": [
      "['Aniruddh', 'Golu', 'Gudiya', 'Chotu', 'Anuj', 'Bhayu', 'Luchi']\n",
      "['Aniruddh', 'Golu', 'Alisah', 'Gudiya', 'Aniket', 'Chotu', 'Anuj', 'Ayush', 'Bhayu', 'Rishu', 'Luchi']\n"
     ]
    }
   ],
   "source": [
    "print(list7)\n",
    "list7.insert(2,'Alisah')\n",
    "list7.insert(4,'Aniket')\n",
    "list7.insert(7,'Ayush')\n",
    "list7.insert(9,'Rishu')\n",
    "print(list7)"
   ]
  },
  {
   "cell_type": "markdown",
   "id": "6bc0cb6a-5593-4190-98a8-551fc32ece18",
   "metadata": {},
   "source": [
    "### Removing Elements from a List using del statment by indexing"
   ]
  },
  {
   "cell_type": "code",
   "execution_count": 92,
   "id": "507b0113-9c44-4596-870b-3fe562d031b2",
   "metadata": {},
   "outputs": [
    {
     "name": "stdout",
     "output_type": "stream",
     "text": [
      "['Aniruddh', 'Golu', 'Alisah', 'Gudiya', 'Aniket', 'Chotu', 'Anuj', 'Ayush', 'Bhayu', 'Rishu', 'Luchi']\n"
     ]
    }
   ],
   "source": [
    "print(list7)"
   ]
  },
  {
   "cell_type": "code",
   "execution_count": 93,
   "id": "6f66414c-584c-41c1-b078-cce12e080580",
   "metadata": {},
   "outputs": [
    {
     "name": "stdout",
     "output_type": "stream",
     "text": [
      "['Aniruddh', 'Golu', 'Alisah', 'Gudiya', 'Aniket', 'Chotu', 'Anuj', 'Ayush', 'Bhayu', 'Rishu']\n"
     ]
    }
   ],
   "source": [
    "del list7[-1] # del statment will remove the perticular elelment from the list using index number permanently\n",
    "print(list7)"
   ]
  },
  {
   "cell_type": "code",
   "execution_count": 94,
   "id": "7834c226-f360-474e-9a41-eb0063ac45fa",
   "metadata": {},
   "outputs": [
    {
     "name": "stdout",
     "output_type": "stream",
     "text": [
      "['Anuj', 'Ayush', 'Bhayu', 'Rishu']\n"
     ]
    }
   ],
   "source": [
    "del list7[0:6] # using del statment for deliting multipal elements \n",
    "print(list7)"
   ]
  },
  {
   "cell_type": "markdown",
   "id": "56a64750-b666-4fc5-bb71-7f1557947713",
   "metadata": {},
   "source": [
    "### Removing an Item from list Using the pop() Method"
   ]
  },
  {
   "cell_type": "code",
   "execution_count": 95,
   "id": "5744baae-ec2b-4c13-b2f6-2e46a2885f79",
   "metadata": {},
   "outputs": [
    {
     "name": "stdout",
     "output_type": "stream",
     "text": [
      "['Irom Man', 'Hulk', 'Ant Man', 'Captain America', 'Black Widow', 'Thor', 'Bat Man', 'Super Man', 'Wonder Woman']\n"
     ]
    }
   ],
   "source": [
    "list8 = ['Irom Man', 'Hulk', 'Ant Man', 'Captain America', 'Black Widow', 'Thor', 'Bat Man', 'Super Man','Wonder Woman']\n",
    "print(list8)"
   ]
  },
  {
   "cell_type": "code",
   "execution_count": 96,
   "id": "ffb8acee-e3ac-41f7-8c18-6250b9291e7b",
   "metadata": {},
   "outputs": [
    {
     "name": "stdout",
     "output_type": "stream",
     "text": [
      "['Irom Man', 'Hulk', 'Ant Man', 'Captain America', 'Black Widow', 'Thor', 'Bat Man', 'Super Man', 'Wonder Woman']\n",
      "['Irom Man', 'Hulk', 'Ant Man', 'Captain America', 'Black Widow', 'Thor', 'Bat Man', 'Super Man']\n"
     ]
    }
   ],
   "source": [
    "print(list8)\n",
    "list8.pop() # ,pop() will remove the last element from the list but we can use that poped element \n",
    "print(list8)"
   ]
  },
  {
   "cell_type": "code",
   "execution_count": 97,
   "id": "9126e9e4-a15f-4d03-9cb9-5c45731cc8d3",
   "metadata": {},
   "outputs": [
    {
     "name": "stdout",
     "output_type": "stream",
     "text": [
      "['Irom Man', 'Hulk', 'Ant Man', 'Captain America', 'Black Widow', 'Thor', 'Bat Man', 'Super Man']\n",
      "['Irom Man', 'Hulk', 'Ant Man', 'Captain America', 'Black Widow', 'Thor', 'Bat Man']\n",
      "Super Man is the pop element from the list8\n"
     ]
    }
   ],
   "source": [
    "print(list8)\n",
    "x = list8.pop() # ,pop() will remove the last element from the list but we can use that poped element \n",
    "print(list8)\n",
    "print(f\"{x} is the pop element from the list8\")"
   ]
  },
  {
   "cell_type": "markdown",
   "id": "0f150097-0ff9-4058-b69f-f053cfb26c84",
   "metadata": {},
   "source": [
    "### Popping Items from any Position in a List using indexing"
   ]
  },
  {
   "cell_type": "code",
   "execution_count": 98,
   "id": "8534d7ea-3387-4847-bf23-37fcc3870b1d",
   "metadata": {},
   "outputs": [
    {
     "name": "stdout",
     "output_type": "stream",
     "text": [
      "['Irom Man', 'Hulk', 'Ant Man', 'Captain America', 'Black Widow', 'Thor', 'Bat Man', 'Super Man', 'Wonder Woman']\n"
     ]
    }
   ],
   "source": [
    "list9 = ['Irom Man', 'Hulk', 'Ant Man', 'Captain America', 'Black Widow', 'Thor', 'Bat Man', 'Super Man','Wonder Woman']\n",
    "print(list9)"
   ]
  },
  {
   "cell_type": "code",
   "execution_count": 99,
   "id": "11015070-7e51-47b5-aa33-63ccdad54cb4",
   "metadata": {},
   "outputs": [
    {
     "name": "stdout",
     "output_type": "stream",
     "text": [
      "['Irom Man', 'Hulk', 'Ant Man', 'Captain America', 'Black Widow', 'Thor', 'Bat Man', 'Super Man', 'Wonder Woman']\n",
      "['Hulk', 'Ant Man', 'Captain America', 'Black Widow', 'Thor', 'Bat Man', 'Super Man', 'Wonder Woman']\n"
     ]
    }
   ],
   "source": [
    "print(list9)\n",
    "list9.pop(0)\n",
    "print(list9)"
   ]
  },
  {
   "cell_type": "code",
   "execution_count": 100,
   "id": "d4e50b83-785c-4216-acec-c3f9289bda65",
   "metadata": {},
   "outputs": [
    {
     "name": "stdout",
     "output_type": "stream",
     "text": [
      "['Hulk', 'Ant Man', 'Captain America', 'Black Widow', 'Thor', 'Bat Man', 'Super Man', 'Wonder Woman']\n",
      "['Ant Man', 'Captain America', 'Black Widow', 'Thor', 'Bat Man', 'Super Man', 'Wonder Woman']\n",
      "Hulk is the pop element from the list8\n"
     ]
    }
   ],
   "source": [
    "print(list9)\n",
    "x = list9.pop(0)\n",
    "print(list9)\n",
    "print(f\"{x} is the pop element from the list8\")"
   ]
  },
  {
   "cell_type": "code",
   "execution_count": 101,
   "id": "3209eeaf-c593-4208-8a4b-12f939bbc67a",
   "metadata": {},
   "outputs": [
    {
     "name": "stdout",
     "output_type": "stream",
     "text": [
      "['Ant Man', 'Captain America', 'Black Widow', 'Thor', 'Bat Man', 'Super Man', 'Wonder Woman']\n",
      "['Ant Man', 'Captain America', 'Black Widow', 'Bat Man', 'Super Man', 'Wonder Woman']\n",
      "Thor is the pop element from the list8\n"
     ]
    }
   ],
   "source": [
    "print(list9)\n",
    "x = list9.pop(3) # you can not pop multiple elements from the list.\n",
    "print(list9)\n",
    "print(f\"{x} is the pop element from the list8\")"
   ]
  },
  {
   "cell_type": "markdown",
   "id": "6c755bdd-1099-4ff1-90a9-417a1c73c21c",
   "metadata": {},
   "source": [
    "### Removing an Item from list by Value"
   ]
  },
  {
   "cell_type": "code",
   "execution_count": 102,
   "id": "1b90bee2-ee89-42f8-94ca-1c9dc6db34d8",
   "metadata": {},
   "outputs": [
    {
     "name": "stdout",
     "output_type": "stream",
     "text": [
      "['Irom Man', 'Hulk', 'Ant Man', 'Captain America', 'Black Widow', 'Thor', 'Bat Man', 'Super Man', 'Wonder Woman']\n"
     ]
    }
   ],
   "source": [
    "list10 = ['Irom Man', 'Hulk', 'Ant Man', 'Captain America', 'Black Widow', 'Thor', 'Bat Man', 'Super Man','Wonder Woman']\n",
    "print(list10)"
   ]
  },
  {
   "cell_type": "code",
   "execution_count": 103,
   "id": "962d1357-f6e0-45e6-b48a-97769c1d9a81",
   "metadata": {},
   "outputs": [
    {
     "name": "stdout",
     "output_type": "stream",
     "text": [
      "['Irom Man', 'Hulk', 'Ant Man', 'Captain America', 'Black Widow', 'Thor', 'Bat Man', 'Super Man', 'Wonder Woman']\n",
      "['Irom Man', 'Ant Man', 'Captain America', 'Black Widow', 'Thor', 'Bat Man', 'Super Man', 'Wonder Woman']\n"
     ]
    }
   ],
   "source": [
    "print(list10)\n",
    "list10.remove('Hulk')\n",
    "print(list10)"
   ]
  },
  {
   "cell_type": "code",
   "execution_count": 104,
   "id": "1ea7d53b-9356-4793-a530-607a5d97760b",
   "metadata": {},
   "outputs": [
    {
     "name": "stdout",
     "output_type": "stream",
     "text": [
      "['Irom Man', 'Ant Man', 'Captain America', 'Black Widow', 'Thor', 'Bat Man', 'Super Man', 'Wonder Woman']\n",
      "['Irom Man', 'Captain America', 'Black Widow', 'Thor', 'Bat Man', 'Super Man', 'Wonder Woman']\n",
      "None is removed from the list8\n"
     ]
    }
   ],
   "source": [
    "print(list10)\n",
    "x = list10.remove('Ant Man') # We can not use the removed element from the list \n",
    "print(list10)\n",
    "print(f\"{x} is removed from the list8\")"
   ]
  },
  {
   "cell_type": "markdown",
   "id": "cf377949-28be-40ba-a4f0-7e9a9d1e6113",
   "metadata": {},
   "source": [
    "### Sorting a List Permanently with the .sort() Method"
   ]
  },
  {
   "cell_type": "code",
   "execution_count": 105,
   "id": "dcfd1631-3f55-4cff-af29-9410816c5761",
   "metadata": {},
   "outputs": [
    {
     "name": "stdout",
     "output_type": "stream",
     "text": [
      "['Irom Man', 'Hulk', 'Ant Man', 'Captain America', 'Black Widow', 'Thor', 'Bat Man', 'Super Man', 'Wonder Woman']\n"
     ]
    }
   ],
   "source": [
    "list11 = ['Irom Man', 'Hulk', 'Ant Man', 'Captain America', 'Black Widow', 'Thor', 'Bat Man', 'Super Man','Wonder Woman']\n",
    "print(list11)"
   ]
  },
  {
   "cell_type": "code",
   "execution_count": 106,
   "id": "7af1e957-9bfa-4e56-bfe0-9cf55b0810c0",
   "metadata": {},
   "outputs": [
    {
     "name": "stdout",
     "output_type": "stream",
     "text": [
      "['Irom Man', 'Hulk', 'Ant Man', 'Captain America', 'Black Widow', 'Thor', 'Bat Man', 'Super Man', 'Wonder Woman']\n",
      "['Ant Man', 'Bat Man', 'Black Widow', 'Captain America', 'Hulk', 'Irom Man', 'Super Man', 'Thor', 'Wonder Woman']\n"
     ]
    }
   ],
   "source": [
    "print(list11)\n",
    "list11.sort() # Sorting the list permanently in ascending order and for sorting list will never take int and string together\n",
    "print(list11)"
   ]
  },
  {
   "cell_type": "code",
   "execution_count": 107,
   "id": "63be30bf-b48e-41bb-a1ab-f1470166247b",
   "metadata": {},
   "outputs": [
    {
     "name": "stdout",
     "output_type": "stream",
     "text": [
      "['Irom Man', 'Hulk', 'Ant Man', 'Captain America', 'Black Widow', 'Thor', 'Bat Man', 'Super Man', 'Wonder Woman', 2, 3, 1, 4, 7, 6, 5, 9, 8, 10]\n"
     ]
    },
    {
     "ename": "TypeError",
     "evalue": "'<' not supported between instances of 'int' and 'str'",
     "output_type": "error",
     "traceback": [
      "\u001b[0;31m---------------------------------------------------------------------------\u001b[0m",
      "\u001b[0;31mTypeError\u001b[0m                                 Traceback (most recent call last)",
      "Cell \u001b[0;32mIn[107], line 3\u001b[0m\n\u001b[1;32m      1\u001b[0m list12 \u001b[38;5;241m=\u001b[39m [\u001b[38;5;124m'\u001b[39m\u001b[38;5;124mIrom Man\u001b[39m\u001b[38;5;124m'\u001b[39m, \u001b[38;5;124m'\u001b[39m\u001b[38;5;124mHulk\u001b[39m\u001b[38;5;124m'\u001b[39m, \u001b[38;5;124m'\u001b[39m\u001b[38;5;124mAnt Man\u001b[39m\u001b[38;5;124m'\u001b[39m, \u001b[38;5;124m'\u001b[39m\u001b[38;5;124mCaptain America\u001b[39m\u001b[38;5;124m'\u001b[39m, \u001b[38;5;124m'\u001b[39m\u001b[38;5;124mBlack Widow\u001b[39m\u001b[38;5;124m'\u001b[39m, \u001b[38;5;124m'\u001b[39m\u001b[38;5;124mThor\u001b[39m\u001b[38;5;124m'\u001b[39m, \u001b[38;5;124m'\u001b[39m\u001b[38;5;124mBat Man\u001b[39m\u001b[38;5;124m'\u001b[39m, \u001b[38;5;124m'\u001b[39m\u001b[38;5;124mSuper Man\u001b[39m\u001b[38;5;124m'\u001b[39m,\u001b[38;5;124m'\u001b[39m\u001b[38;5;124mWonder Woman\u001b[39m\u001b[38;5;124m'\u001b[39m,\u001b[38;5;241m2\u001b[39m,\u001b[38;5;241m3\u001b[39m,\u001b[38;5;241m1\u001b[39m,\u001b[38;5;241m4\u001b[39m,\u001b[38;5;241m7\u001b[39m,\u001b[38;5;241m6\u001b[39m,\u001b[38;5;241m5\u001b[39m,\u001b[38;5;241m9\u001b[39m,\u001b[38;5;241m8\u001b[39m,\u001b[38;5;241m10\u001b[39m]\n\u001b[1;32m      2\u001b[0m \u001b[38;5;28mprint\u001b[39m(list12)\n\u001b[0;32m----> 3\u001b[0m \u001b[43mlist12\u001b[49m\u001b[38;5;241;43m.\u001b[39;49m\u001b[43msort\u001b[49m\u001b[43m(\u001b[49m\u001b[43m)\u001b[49m \u001b[38;5;66;03m# sorting list will never take int and string together\u001b[39;00m\n\u001b[1;32m      4\u001b[0m \u001b[38;5;28mprint\u001b[39m(list12)\n",
      "\u001b[0;31mTypeError\u001b[0m: '<' not supported between instances of 'int' and 'str'"
     ]
    }
   ],
   "source": [
    "list12 = ['Irom Man', 'Hulk', 'Ant Man', 'Captain America', 'Black Widow', 'Thor', 'Bat Man', 'Super Man','Wonder Woman',2,3,1,4,7,6,5,9,8,10]\n",
    "print(list12)\n",
    "list12.sort() # sorting list will never take int and string together\n",
    "print(list12)"
   ]
  },
  {
   "cell_type": "code",
   "execution_count": 108,
   "id": "9b9ac04d-adb1-4463-95fd-611793170002",
   "metadata": {},
   "outputs": [
    {
     "name": "stdout",
     "output_type": "stream",
     "text": [
      "['Irom Man', 'Hulk', 'Ant Man', 'Captain America', 'Black Widow', 'Thor', 'Bat Man', 'Super Man', 'Wonder Woman']\n",
      "['Wonder Woman', 'Thor', 'Super Man', 'Irom Man', 'Hulk', 'Captain America', 'Black Widow', 'Bat Man', 'Ant Man']\n"
     ]
    }
   ],
   "source": [
    "list12 = ['Irom Man', 'Hulk', 'Ant Man', 'Captain America', 'Black Widow', 'Thor', 'Bat Man', 'Super Man','Wonder Woman']\n",
    "print(list12)\n",
    "list12.sort(reverse=True) # Sorting the list permanently in descending order and for sorting list will never take int and string together\n",
    "print(list12)\n"
   ]
  },
  {
   "cell_type": "markdown",
   "id": "c1a8b0d3-1e2b-4280-8d1b-b9e0c89572c9",
   "metadata": {},
   "source": [
    "### Sorting a List Temporarily with the sorted() Function"
   ]
  },
  {
   "cell_type": "code",
   "execution_count": 109,
   "id": "56824257-e4dc-4c81-9e6b-5e7795844c47",
   "metadata": {},
   "outputs": [
    {
     "name": "stdout",
     "output_type": "stream",
     "text": [
      "['Irom Man', 'Hulk', 'Ant Man', 'Captain America', 'Black Widow', 'Thor', 'Bat Man', 'Super Man', 'Wonder Woman']\n",
      "['Ant Man', 'Bat Man', 'Black Widow', 'Captain America', 'Hulk', 'Irom Man', 'Super Man', 'Thor', 'Wonder Woman']\n"
     ]
    }
   ],
   "source": [
    "list13 = ['Irom Man', 'Hulk', 'Ant Man', 'Captain America', 'Black Widow', 'Thor', 'Bat Man', 'Super Man','Wonder Woman']\n",
    "print(list13)\n",
    "print(sorted(list13))# Sorting the list Temporarily in ascending order and for sorting list will never take int and string together"
   ]
  },
  {
   "cell_type": "markdown",
   "id": "961198b7-d262-4240-bd94-d3b2f41b8770",
   "metadata": {},
   "source": [
    "### Printing a List in Reverse Order"
   ]
  },
  {
   "cell_type": "code",
   "execution_count": 110,
   "id": "00d0790b-11ae-46a8-90df-ae04d232d256",
   "metadata": {},
   "outputs": [
    {
     "name": "stdout",
     "output_type": "stream",
     "text": [
      "['Irom Man', 'Hulk', 'Ant Man', 'Captain America', 'Black Widow', 'Thor', 'Bat Man', 'Super Man', 'Wonder Woman']\n",
      "['Wonder Woman', 'Super Man', 'Bat Man', 'Thor', 'Black Widow', 'Captain America', 'Ant Man', 'Hulk', 'Irom Man']\n"
     ]
    }
   ],
   "source": [
    "list14 = ['Irom Man', 'Hulk', 'Ant Man', 'Captain America', 'Black Widow', 'Thor', 'Bat Man', 'Super Man','Wonder Woman']\n",
    "print(list14)\n",
    "list14.reverse() # .reverse() will reverse the list permanently\n",
    "print(list14)"
   ]
  },
  {
   "cell_type": "markdown",
   "id": "7fc59cc6-4ff0-4b29-ac3f-97c48226a91e",
   "metadata": {},
   "source": [
    "### Finding the Length of a List"
   ]
  },
  {
   "cell_type": "code",
   "execution_count": 111,
   "id": "ecd7f93f-946d-447a-b072-8ce1cfa1f39f",
   "metadata": {},
   "outputs": [
    {
     "name": "stdout",
     "output_type": "stream",
     "text": [
      "Length of list10:-  7\n",
      "Length of list10:-  9\n"
     ]
    }
   ],
   "source": [
    "print(\"Length of list10:- \",len(list10))\n",
    "print(\"Length of list10:- \",len(list11))"
   ]
  },
  {
   "cell_type": "markdown",
   "id": "fe99bb87-95ea-4bf5-a548-2daba99c32b4",
   "metadata": {},
   "source": [
    "### Removing all the elements from the list using .clear()"
   ]
  },
  {
   "cell_type": "code",
   "execution_count": 112,
   "id": "02c25981-302f-4b76-8fb5-24e175bd3ffd",
   "metadata": {},
   "outputs": [
    {
     "name": "stdout",
     "output_type": "stream",
     "text": [
      "['Ant Man', 'Captain America', 'Black Widow', 'Bat Man', 'Super Man', 'Wonder Woman']\n",
      "[]\n"
     ]
    }
   ],
   "source": [
    "print(list9)\n",
    "list9.clear() # .clear() will make the list empty permanently\n",
    "print(list9)"
   ]
  },
  {
   "cell_type": "markdown",
   "id": "9b225fcc-b5f5-4b8d-8937-041f12504318",
   "metadata": {},
   "source": [
    "### Making the list copy or duplicate using .copy()"
   ]
  },
  {
   "cell_type": "code",
   "execution_count": 113,
   "id": "499912ad-b48b-461b-b393-e2526ecefd19",
   "metadata": {},
   "outputs": [
    {
     "name": "stdout",
     "output_type": "stream",
     "text": [
      "this is list14\n",
      "['Wonder Woman', 'Super Man', 'Bat Man', 'Thor', 'Black Widow', 'Captain America', 'Ant Man', 'Hulk', 'Irom Man']\n",
      "this is list15\n",
      "['Wonder Woman', 'Super Man', 'Bat Man', 'Thor', 'Black Widow', 'Captain America', 'Ant Man', 'Hulk', 'Irom Man']\n"
     ]
    }
   ],
   "source": [
    "print('this is list14')\n",
    "print(list14)\n",
    "list15 = list14.copy()\n",
    "print('this is list15')\n",
    "print(list15)"
   ]
  },
  {
   "cell_type": "markdown",
   "id": "2e5ffbdf-c196-481c-8e1f-1a7aed2e0057",
   "metadata": {},
   "source": [
    "### Return the number of times the element appears in the list by using .count()"
   ]
  },
  {
   "cell_type": "code",
   "execution_count": 114,
   "id": "3041e669-de08-4a2a-90a4-1d443433f428",
   "metadata": {},
   "outputs": [
    {
     "name": "stdout",
     "output_type": "stream",
     "text": [
      "['Wonder Woman', 'Thor', 'Super Man', 'Irom Man', 'Hulk', 'Captain America', 'Black Widow', 'Bat Man', 'Ant Man']\n"
     ]
    },
    {
     "data": {
      "text/plain": [
       "1"
      ]
     },
     "execution_count": 114,
     "metadata": {},
     "output_type": "execute_result"
    }
   ],
   "source": [
    "print(list12)\n",
    "list12.count('Irom Man')"
   ]
  },
  {
   "cell_type": "markdown",
   "id": "cee87700-d18d-4fb0-8590-8bf303c6708e",
   "metadata": {},
   "source": [
    "### Add the elements of list one to the another list uaing .extend()"
   ]
  },
  {
   "cell_type": "code",
   "execution_count": 115,
   "id": "8761aa96-7943-45ff-b88a-f50e17f21e2a",
   "metadata": {},
   "outputs": [
    {
     "name": "stdout",
     "output_type": "stream",
     "text": [
      "['Aniruddh', 'Ujjwal', 'Abhijit']\n",
      "['Anushka', 'Lav', 'Harsh']\n",
      "['Aniruddh', 'Ujjwal', 'Abhijit', 'Anushka', 'Lav', 'Harsh']\n"
     ]
    }
   ],
   "source": [
    "list16 = ['Aniruddh','Ujjwal','Abhijit']\n",
    "print(list16)\n",
    "list17 = ['Anushka', 'Lav', 'Harsh']\n",
    "print(list17)\n",
    "list16.extend(list17) # .extend will permanently the add the list 17 data in list16\n",
    "print(list16)"
   ]
  },
  {
   "cell_type": "markdown",
   "id": "170921d5-5572-4f66-9b8e-d0330b253662",
   "metadata": {},
   "source": [
    "### Finding the element index in list using .index()"
   ]
  },
  {
   "cell_type": "code",
   "execution_count": 116,
   "id": "c624a7ec-bfd6-4225-95f7-57fece4a5275",
   "metadata": {},
   "outputs": [
    {
     "name": "stdout",
     "output_type": "stream",
     "text": [
      "['Aniruddh', 'Ujjwal', 'Abhijit', 'Anushka', 'Lav', 'Harsh']\n"
     ]
    },
    {
     "data": {
      "text/plain": [
       "0"
      ]
     },
     "execution_count": 116,
     "metadata": {},
     "output_type": "execute_result"
    }
   ],
   "source": [
    "print(list16)\n",
    "list16.index(\"Aniruddh\")"
   ]
  },
  {
   "cell_type": "code",
   "execution_count": null,
   "id": "cc362fd4-251e-4316-9278-b40c633d4d06",
   "metadata": {},
   "outputs": [],
   "source": []
  },
  {
   "cell_type": "markdown",
   "id": "a7078bc3-498e-4385-a173-0aef11dd6d53",
   "metadata": {},
   "source": [
    "### Q1) Names: Store the names of a few of your friends in a list called names. Print each person’s name by accessing each element in the list, one at a time."
   ]
  },
  {
   "cell_type": "code",
   "execution_count": 117,
   "id": "b01e978f-4885-4ab9-9faa-2924d68ec4a0",
   "metadata": {},
   "outputs": [
    {
     "name": "stdout",
     "output_type": "stream",
     "text": [
      "['Abhijit', 'Ujjwal', 'Jigyasa', 'Lav', 'Anushka', 'Harsh']\n"
     ]
    }
   ],
   "source": [
    "names = ['Abhijit', 'Ujjwal', 'Jigyasa', 'Lav', 'Anushka', 'Harsh']\n",
    "print(names)"
   ]
  },
  {
   "cell_type": "code",
   "execution_count": 118,
   "id": "76f11d10-c15b-405e-a171-046f6afabf25",
   "metadata": {},
   "outputs": [
    {
     "name": "stdout",
     "output_type": "stream",
     "text": [
      "Abhijit\n",
      "Ujjwal\n",
      "Jigyasa\n",
      "Lav\n",
      "Anushka\n",
      "Harsh\n"
     ]
    }
   ],
   "source": [
    "print(names[0])\n",
    "print(names[1])\n",
    "print(names[2])\n",
    "print(names[3])\n",
    "print(names[4])\n",
    "print(names[5])"
   ]
  },
  {
   "cell_type": "markdown",
   "id": "41685c23-6dcc-40d2-9d5e-9978de26eb4b",
   "metadata": {},
   "source": [
    "### Q2) Greetings: Start with the list you used in Question 1, but instead of just printing each person’s name, print a message to them. The text of each message should be the same, but each message should be personalized with the person’s name."
   ]
  },
  {
   "cell_type": "code",
   "execution_count": 119,
   "id": "49fa1c7b-24b1-4e55-a6b6-18a372441881",
   "metadata": {},
   "outputs": [
    {
     "name": "stdout",
     "output_type": "stream",
     "text": [
      "Hello Abhijit, How are you\n",
      "Hello Ujjwal, How are you\n",
      "Hello Jigyasa, How are you\n",
      "Hello Lav, How are you\n",
      "Hello Anushka, How are you\n",
      "Hello Harsh, How are you\n"
     ]
    }
   ],
   "source": [
    "print(f\"Hello {names[0]}, How are you\")\n",
    "print(f\"Hello {names[1]}, How are you\")\n",
    "print(f\"Hello {names[2]}, How are you\")\n",
    "print(f\"Hello {names[3]}, How are you\")\n",
    "print(f\"Hello {names[4]}, How are you\")\n",
    "print(f\"Hello {names[5]}, How are you\")"
   ]
  },
  {
   "cell_type": "markdown",
   "id": "bf278ff7-e2c1-4f9e-8a13-93228e41ffad",
   "metadata": {},
   "source": [
    "### Q3) Your Own List: Think of your favorite mode of transportation, such as a motorcycle or a car, and make a list that stores several examples. Use your list to print a series of statements about these items, such as “I would like to own a Honda motorcycle.”\n"
   ]
  },
  {
   "cell_type": "code",
   "execution_count": 120,
   "id": "2480f10a-cffe-4f37-a362-2920850a551e",
   "metadata": {},
   "outputs": [
    {
     "name": "stdout",
     "output_type": "stream",
     "text": [
      "I have Honda model CD110\n",
      "I want Yamaha model MT15\n",
      "I Love Honda all models but they are so expensive\n"
     ]
    }
   ],
   "source": [
    "bike = ['Yamaha', 'Honda', 'BMW']\n",
    "print(f\"I have {bike[1]} model CD110\\nI want {bike[0]} model MT15\\nI Love {bike[1]} all models but they are so expensive\")"
   ]
  },
  {
   "cell_type": "markdown",
   "id": "9fee5f6f-c799-4b88-ba75-d9c98adfcaef",
   "metadata": {},
   "source": [
    "### Q4) Guest List: If you could invite anyone, living or deceased, to dinner, whowould you invite? Make a list that includes at least three people you’d like to invite to dinner. Then use your list to print a message to each person, inviting them to dinner."
   ]
  },
  {
   "cell_type": "code",
   "execution_count": 121,
   "id": "82ceb4d3-eec4-4f6a-a3f6-d9dfa5ddefdd",
   "metadata": {},
   "outputs": [
    {
     "name": "stdout",
     "output_type": "stream",
     "text": [
      "['Abhijit', 'Ujjwal', 'Jigyasa', 'Lav', 'Anushka', 'Harsh']\n"
     ]
    }
   ],
   "source": [
    "guest = ['Abhijit', 'Ujjwal', 'Jigyasa', 'Lav', 'Anushka', 'Harsh']\n",
    "print(names)"
   ]
  },
  {
   "cell_type": "code",
   "execution_count": 122,
   "id": "8ee0226a-4e10-42e9-bbf0-fc0e7cea30a1",
   "metadata": {},
   "outputs": [
    {
     "name": "stdout",
     "output_type": "stream",
     "text": [
      "Hello Abhijit, How are you, will you come for dinner\n",
      "Hello Ujjwal, How are you, will you come for dinner\n",
      "Hello Jigyasa, How are you, will you come for dinner\n"
     ]
    }
   ],
   "source": [
    "print(f\"Hello {guest[0]}, How are you, will you come for dinner\")\n",
    "print(f\"Hello {guest[1]}, How are you, will you come for dinner\")\n",
    "print(f\"Hello {guest[2]}, How are you, will you come for dinner\")"
   ]
  },
  {
   "cell_type": "markdown",
   "id": "987eccee-d46a-4975-94ef-531ec97e6758",
   "metadata": {},
   "source": [
    "### Q5) Changing Guest List: You just heard that one of your guests can’t make the dinner, so you need to send out a new set of invitations. You’ll have to think of someone else to invite."
   ]
  },
  {
   "cell_type": "code",
   "execution_count": 123,
   "id": "e6c89751-dd84-4441-981b-6ce93049f318",
   "metadata": {},
   "outputs": [
    {
     "name": "stdout",
     "output_type": "stream",
     "text": [
      "Hello Abhijit, How are you, will you come for dinner\n",
      "Hello Ujjwal, How are you, will you come for dinner\n",
      "Hello Jigyasa, How are you, will you come for dinner\n",
      "\n",
      "\n",
      "Ohh Jigyasa, will not able to come\n",
      "\n",
      "\n",
      "Hello Lav, How are you, will you come for dinner\n",
      "Hello Abhijit, How are you, will you come for dinner\n",
      "Hello Ujjwal, How are you, will you come for dinner\n"
     ]
    }
   ],
   "source": [
    "print(f\"Hello {guest[0]}, How are you, will you come for dinner\")\n",
    "print(f\"Hello {guest[1]}, How are you, will you come for dinner\")\n",
    "print(f\"Hello {guest[2]}, How are you, will you come for dinner\")\n",
    "print(\"\\n\")\n",
    "print(f\"Ohh {guest[2]}, will not able to come\")\n",
    "print(\"\\n\")\n",
    "print(f\"Hello {guest[3]}, How are you, will you come for dinner\")\n",
    "print(f\"Hello {guest[0]}, How are you, will you come for dinner\")\n",
    "print(f\"Hello {guest[1]}, How are you, will you come for dinner\")"
   ]
  },
  {
   "cell_type": "markdown",
   "id": "3be03214-bd6f-4bfa-80a2-a2bfcb754a98",
   "metadata": {},
   "source": [
    "### Q6) More Guests: You just found a bigger dinner table, so now more space is available. Think of three more guests to invite to dinner.\n",
    "- Start with your program from Exercise 3-4 or Exercise 3-5. Add a print() call to the end of your program informing people that you found a bigger dinner table.\n",
    "- Use insert() to add one new guest to the beginning of your list.\n",
    "- Use insert() to add one new guest to the middle of your list.\n",
    "- Use append() to add one new guest to the end of your list.\n",
    "- Print a new set of invitation messages, one for each person in your list"
   ]
  },
  {
   "cell_type": "code",
   "execution_count": 124,
   "id": "16aa0f11-866a-4f0f-ae83-1bfa34dee24c",
   "metadata": {},
   "outputs": [
    {
     "name": "stdout",
     "output_type": "stream",
     "text": [
      "Hello Abhijit, How are you, will you come for dinner\n",
      "Hello Ujjwal, How are you, will you come for dinner\n",
      "Hello Jigyasa, How are you, will you come for dinner\n",
      "\n",
      "\n",
      "Ohh Jigyasa, will not able to come\n",
      "\n",
      "\n",
      "Hello Lav, How are you, will you come for dinner\n",
      "Hello Abhijit, How are you, will you come for dinner\n",
      "Hello Ujjwal, How are you, will you come for dinner\n",
      "Wow I got Big Table\n",
      "Hello Lav, How are you, will you come for dinner\n",
      "Hello Abhijit, How are you, will you come for dinner\n",
      "Hello Ujjwal, How are you, will you come for dinner\n",
      "Hello Alisha, How are you, will you come for dinner\n",
      "Hello Aniket, How are you, will you come for dinner\n",
      "Hello Ayush, How are you, will you come for dinner\n"
     ]
    }
   ],
   "source": [
    "print(f\"Hello {guest[0]}, How are you, will you come for dinner\")\n",
    "print(f\"Hello {guest[1]}, How are you, will you come for dinner\")\n",
    "print(f\"Hello {guest[2]}, How are you, will you come for dinner\")\n",
    "print(\"\\n\")\n",
    "print(f\"Ohh {guest[2]}, will not able to come\")\n",
    "print(\"\\n\")\n",
    "print(f\"Hello {guest[3]}, How are you, will you come for dinner\")\n",
    "print(f\"Hello {guest[0]}, How are you, will you come for dinner\")\n",
    "print(f\"Hello {guest[1]}, How are you, will you come for dinner\")\n",
    "\n",
    "print(\"Wow I got Big Table\")\n",
    "guest.insert(6, \"Alisha\")\n",
    "guest.insert(7, \"Aniket\")\n",
    "guest.append(\"Ayush\")\n",
    "\n",
    "print(f\"Hello {guest[3]}, How are you, will you come for dinner\")\n",
    "print(f\"Hello {guest[0]}, How are you, will you come for dinner\")\n",
    "print(f\"Hello {guest[1]}, How are you, will you come for dinner\")\n",
    "print(f\"Hello {guest[6]}, How are you, will you come for dinner\")\n",
    "print(f\"Hello {guest[7]}, How are you, will you come for dinner\")\n",
    "print(f\"Hello {guest[8]}, How are you, will you come for dinner\")"
   ]
  },
  {
   "cell_type": "markdown",
   "id": "6bc15c3b-6aa7-4eee-9fc3-f4f18b0b0f31",
   "metadata": {},
   "source": [
    "### Q7)  Shrinking Guest List: You just found out that your new dinner table won’t arrive in time for the dinner, and you have space for only two guests.\n",
    "- Start with your program from Question 6. Add a new line that prints a message saying that you can invite only two people for dinner.\n",
    "- Use pop() to remove guests from your list one at a time until only two names remain in your list. Each time you pop a name from your list, print a message to that person letting them know you’re sorry you can’t invite them to dinner.\n",
    "- Print a message to each of the two people still on your list, letting them know they’re still invited.\n",
    "- Use del to remove the last two names from your list, so you have an empty list. Print your list to make sure you actually have an empty list at the end of your program"
   ]
  },
  {
   "cell_type": "code",
   "execution_count": 125,
   "id": "160900b8-517e-4b2d-8a75-e2cfe2c467d7",
   "metadata": {},
   "outputs": [
    {
     "name": "stdout",
     "output_type": "stream",
     "text": [
      "Hello Abhijit, How are you, will you come for dinner\n",
      "Hello Ujjwal, How are you, will you come for dinner\n",
      "Hello Jigyasa, How are you, will you come for dinner\n",
      "\n",
      "\n",
      "Ohh Jigyasa, will not able to come\n",
      "\n",
      "\n",
      "Hello Lav, How are you, will you come for dinner\n",
      "Hello Abhijit, How are you, will you come for dinner\n",
      "Hello Ujjwal, How are you, will you come for dinner\n",
      "\n",
      "\n",
      "Wow I got Big Table\n",
      "\n",
      "\n",
      "Hello Lav, How are you, will you come for dinner\n",
      "Hello Abhijit, How are you, will you come for dinner\n",
      "Hello Ujjwal, How are you, will you come for dinner\n",
      "Hello Alisha, How are you, will you come for dinner\n",
      "Hello Aniket, How are you, will you come for dinner\n",
      "Hello Alisha, How are you, will you come for dinner\n",
      "\n",
      "\n",
      "Ohh Shit the donner table is not arriving today\n",
      "\n",
      "\n",
      "Now I can envite only 2 firends from the list\n",
      "\n",
      "\n",
      "Ayush, Sorry Party is cancled\n",
      "\n",
      "\n",
      "\n",
      "\n",
      "Ayush, Sorry Party is cancled\n",
      "\n",
      "\n",
      "\n",
      "\n",
      "Aniket, Sorry Party is cancled\n",
      "\n",
      "\n",
      "\n",
      "\n",
      "Alisha, Sorry Party is cancled\n",
      "\n",
      "\n",
      "\n",
      "\n",
      "Aniket, Sorry Party is cancled\n",
      "\n",
      "\n",
      "\n",
      "\n",
      "Alisha, Sorry Party is cancled\n",
      "\n",
      "\n",
      "\n",
      "\n",
      "Harsh, Sorry Party is cancled\n",
      "\n",
      "\n",
      "\n",
      "\n",
      "Anushka, Sorry Party is cancled\n",
      "\n",
      "\n",
      "\n",
      "\n",
      "Lav, Sorry Party is cancled\n",
      "\n",
      "\n",
      "\n",
      "\n",
      "Abhijit, you are still invited\n",
      "Ujjwal, you are still invited\n"
     ]
    }
   ],
   "source": [
    "print(f\"Hello {guest[0]}, How are you, will you come for dinner\")\n",
    "print(f\"Hello {guest[1]}, How are you, will you come for dinner\")\n",
    "print(f\"Hello {guest[2]}, How are you, will you come for dinner\")\n",
    "print(\"\\n\")\n",
    "print(f\"Ohh {guest[2]}, will not able to come\")\n",
    "print(\"\\n\")\n",
    "print(f\"Hello {guest[3]}, How are you, will you come for dinner\")\n",
    "print(f\"Hello {guest[0]}, How are you, will you come for dinner\")\n",
    "print(f\"Hello {guest[1]}, How are you, will you come for dinner\")\n",
    "print(\"\\n\")\n",
    "print(\"Wow I got Big Table\")\n",
    "print(\"\\n\")\n",
    "guest.insert(6, \"Alisha\")\n",
    "guest.insert(7, \"Aniket\")\n",
    "guest.append(\"Ayush\")\n",
    "\n",
    "print(f\"Hello {guest[3]}, How are you, will you come for dinner\")\n",
    "print(f\"Hello {guest[0]}, How are you, will you come for dinner\")\n",
    "print(f\"Hello {guest[1]}, How are you, will you come for dinner\")\n",
    "print(f\"Hello {guest[6]}, How are you, will you come for dinner\")\n",
    "print(f\"Hello {guest[7]}, How are you, will you come for dinner\")\n",
    "print(f\"Hello {guest[8]}, How are you, will you come for dinner\")\n",
    "print(\"\\n\")\n",
    "print(\"Ohh Shit the donner table is not arriving today\")\n",
    "print(\"\\n\")\n",
    "print(\"Now I can envite only 2 firends from the list\")\n",
    "print(\"\\n\")\n",
    "x = guest.pop()\n",
    "print(f\"{x}, Sorry Party is cancled\")\n",
    "print(\"\\n\")\n",
    "print(\"\\n\")\n",
    "x = guest.pop()\n",
    "print(f\"{x}, Sorry Party is cancled\")\n",
    "print(\"\\n\")\n",
    "print(\"\\n\")\n",
    "x = guest.pop()\n",
    "print(f\"{x}, Sorry Party is cancled\")\n",
    "print(\"\\n\")\n",
    "print(\"\\n\")\n",
    "x = guest.pop()\n",
    "print(f\"{x}, Sorry Party is cancled\")\n",
    "print(\"\\n\")\n",
    "print(\"\\n\")\n",
    "x = guest.pop()\n",
    "print(f\"{x}, Sorry Party is cancled\")\n",
    "print(\"\\n\")\n",
    "print(\"\\n\")\n",
    "x = guest.pop()\n",
    "print(f\"{x}, Sorry Party is cancled\")\n",
    "print(\"\\n\")\n",
    "print(\"\\n\")\n",
    "x = guest.pop()\n",
    "print(f\"{x}, Sorry Party is cancled\")\n",
    "print(\"\\n\")\n",
    "print(\"\\n\")\n",
    "x = guest.pop()\n",
    "print(f\"{x}, Sorry Party is cancled\")\n",
    "print(\"\\n\")\n",
    "print(\"\\n\")\n",
    "x = guest.pop()\n",
    "print(f\"{x}, Sorry Party is cancled\")\n",
    "print(\"\\n\")\n",
    "print(\"\\n\")\n",
    "print(f\"{guest[0].title()}, you are still invited\")\n",
    "print(f\"{guest[1].title()}, you are still invited\")\n"
   ]
  },
  {
   "cell_type": "markdown",
   "id": "0631e213-e1e1-4b16-bfc8-66edc4048d90",
   "metadata": {},
   "source": [
    "### Q8) Seeing the World: Think of at least five places in the world you’d like to visit.\n",
    "- Store the locations in a list. Make sure the list is not in alphabetical order.\n",
    "- Print your list in its original order. Don’t worry about printing the list neatly, just print it as a raw Python list.\n",
    "- Use sorted() to print your list in alphabetical order without modifying the actual list.\n",
    "- Show that your list is still in its original order by printing it.\n",
    "- Use sorted() to print your list in reverse alphabetical order without changing the order of the original list.\n",
    "- Show that your list is still in its original order by printing it again.\n",
    "- Use reverse() to change the order of your list. Print the list to show that its order has changed.\n",
    "- Use reverse() to change the order of your list again. Print the list to show it’s back to its original order.\n",
    "- Use sort() to change your list so it’s stored in alphabetical order. Print the list to show that its order has been changed.\n",
    "- Use sort() to change your list so it’s stored in reverse alphabetical order.\n",
    "    Print the list to show that its order has changed."
   ]
  },
  {
   "cell_type": "code",
   "execution_count": 126,
   "id": "bc361717-35e5-45d9-9590-d189fe2f9edd",
   "metadata": {},
   "outputs": [
    {
     "name": "stdout",
     "output_type": "stream",
     "text": [
      "Original Order:\n",
      "['himalaya', 'andes', 'tierra del fuego', 'labrador', 'guam']\n",
      "\n",
      "Alphabetical:\n",
      "['andes', 'guam', 'himalaya', 'labrador', 'tierra del fuego']\n",
      "\n",
      "Original Order:\n",
      "['himalaya', 'andes', 'tierra del fuego', 'labrador', 'guam']\n",
      "\n",
      "reverse:\n",
      "['tierra del fuego', 'labrador', 'himalaya', 'guam', 'andes']\n",
      "\n",
      "Original Order:\n",
      "['himalaya', 'andes', 'tierra del fuego', 'labrador', 'guam']\n",
      "\n",
      "reversed:\n",
      "['guam', 'labrador', 'tierra del fuego', 'andes', 'himalaya']\n",
      "\n",
      "Alphabetical\n",
      "['andes', 'guam', 'himalaya', 'labrador', 'tierra del fuego']\n"
     ]
    }
   ],
   "source": [
    "locations = ['himalaya', 'andes', 'tierra del fuego', 'labrador', 'guam']\n",
    "\n",
    "print(\"Original Order:\")\n",
    "print(locations)\n",
    "print(\"\\nAlphabetical:\")\n",
    "print(sorted(locations))\n",
    "\n",
    "print(\"\\nOriginal Order:\")\n",
    "print(locations)\n",
    "print(\"\\nreverse:\")\n",
    "print(sorted(locations, reverse=True))\n",
    "\n",
    "print(\"\\nOriginal Order:\")\n",
    "print(locations)\n",
    "print(\"\\nreversed:\")\n",
    "locations.reverse()\n",
    "print(locations)\n",
    "\n",
    "print(\"\\nAlphabetical\")\n",
    "locations.sort()\n",
    "print(locations)"
   ]
  },
  {
   "cell_type": "code",
   "execution_count": null,
   "id": "edcca936-ded3-4998-ad45-21439de5183d",
   "metadata": {},
   "outputs": [],
   "source": []
  },
  {
   "cell_type": "code",
   "execution_count": null,
   "id": "0f4a528d-3647-4f11-b294-397d79caccad",
   "metadata": {},
   "outputs": [],
   "source": []
  }
 ],
 "metadata": {
  "kernelspec": {
   "display_name": "Python 3 (ipykernel)",
   "language": "python",
   "name": "python3"
  },
  "language_info": {
   "codemirror_mode": {
    "name": "ipython",
    "version": 3
   },
   "file_extension": ".py",
   "mimetype": "text/x-python",
   "name": "python",
   "nbconvert_exporter": "python",
   "pygments_lexer": "ipython3",
   "version": "3.10.8"
  }
 },
 "nbformat": 4,
 "nbformat_minor": 5
}
