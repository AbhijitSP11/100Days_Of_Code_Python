{
 "cells": [
  {
   "cell_type": "markdown",
   "id": "f9bcd196-3185-45ab-8d7c-3832879fb78b",
   "metadata": {},
   "source": [
    "# Day - 1"
   ]
  },
  {
   "cell_type": "markdown",
   "id": "1c248617-51e7-4aca-8bc9-ac94b23f0c08",
   "metadata": {},
   "source": [
    "### Data Types in python:\n",
    "- Text Type:\tstr\n",
    "- Numeric Types:\tint, float, complex\n",
    "- Sequence Types:\tlist, tuple, range\n",
    "- Mapping Type:\tdict\n",
    "- Set Types:\tset, frozenset\n",
    "- Boolean Type:\tbool\n",
    "- Binary Types:\tbytes, bytearray, memoryview\n",
    "- None Type:\tNoneType"
   ]
  },
  {
   "cell_type": "markdown",
   "id": "a7eb3321-6928-4242-919a-e56653a22793",
   "metadata": {},
   "source": [
    "# String"
   ]
  },
  {
   "cell_type": "markdown",
   "id": "3cf24399-541d-46fd-916d-059c7c11600b",
   "metadata": {},
   "source": [
    "### A string is a series of characters. Any thing inside single or double quotes is a string in python"
   ]
  },
  {
   "cell_type": "code",
   "execution_count": 1,
   "id": "5df5d22c-f667-4ea0-80d6-10a408c937f4",
   "metadata": {},
   "outputs": [
    {
     "data": {
      "text/plain": [
       "'Hello World!'"
      ]
     },
     "execution_count": 1,
     "metadata": {},
     "output_type": "execute_result"
    }
   ],
   "source": [
    "\"Hello World!\""
   ]
  },
  {
   "cell_type": "code",
   "execution_count": 2,
   "id": "2c57217a-d7eb-41c1-a3d8-1f10266895bd",
   "metadata": {},
   "outputs": [
    {
     "data": {
      "text/plain": [
       "'Hello World !'"
      ]
     },
     "execution_count": 2,
     "metadata": {},
     "output_type": "execute_result"
    }
   ],
   "source": [
    "'Hello World !'"
   ]
  },
  {
   "cell_type": "markdown",
   "id": "80c15256-9eb7-4067-8e67-3078740db93c",
   "metadata": {},
   "source": [
    "### Changing Case in String with Methods"
   ]
  },
  {
   "cell_type": "code",
   "execution_count": 3,
   "id": "fb066252-0265-4d5d-b5c3-26254063eab6",
   "metadata": {},
   "outputs": [
    {
     "data": {
      "text/plain": [
       "'hello world'"
      ]
     },
     "execution_count": 3,
     "metadata": {},
     "output_type": "execute_result"
    }
   ],
   "source": [
    "x = \"hello world\"\n",
    "x"
   ]
  },
  {
   "cell_type": "code",
   "execution_count": 4,
   "id": "0dc2d906-d751-4e32-8ae1-450f1bec6e96",
   "metadata": {},
   "outputs": [
    {
     "name": "stdout",
     "output_type": "stream",
     "text": [
      "Hello World\n"
     ]
    }
   ],
   "source": [
    "# Using .title() method \n",
    "print(x.title())"
   ]
  },
  {
   "cell_type": "code",
   "execution_count": 5,
   "id": "021ca4a4-7aa3-473e-ada7-f5ce6ee57305",
   "metadata": {},
   "outputs": [
    {
     "name": "stdout",
     "output_type": "stream",
     "text": [
      "HELLO WORLD\n"
     ]
    }
   ],
   "source": [
    "# using .upper() method\n",
    "print(x.upper())"
   ]
  },
  {
   "cell_type": "code",
   "execution_count": 6,
   "id": "1fbf3918-c60e-4e15-b229-1c26e31c8450",
   "metadata": {},
   "outputs": [
    {
     "name": "stdout",
     "output_type": "stream",
     "text": [
      "hello world\n"
     ]
    }
   ],
   "source": [
    "# using .lowwer method\n",
    "print(x.lower())"
   ]
  },
  {
   "cell_type": "markdown",
   "id": "11389a7a-6ab7-4799-83ee-b6263e070163",
   "metadata": {},
   "source": [
    "### Using f string for combining  two variable string together   "
   ]
  },
  {
   "cell_type": "code",
   "execution_count": 7,
   "id": "9bcdd1a2-f7c5-4ce9-9e9a-a928258474b2",
   "metadata": {},
   "outputs": [
    {
     "name": "stdout",
     "output_type": "stream",
     "text": [
      "Aniruddh Tiwari is learning Python\n"
     ]
    }
   ],
   "source": [
    "first_name = \"Aniruddh\"\n",
    "last_name = \"Tiwari\"\n",
    "language = \"Python\"\n",
    "complete = f\"{first_name} {last_name} is learning {language}\"\n",
    "print(complete)"
   ]
  },
  {
   "cell_type": "code",
   "execution_count": 8,
   "id": "988b646a-1727-4401-b5b8-f3d828a773a6",
   "metadata": {},
   "outputs": [
    {
     "name": "stdout",
     "output_type": "stream",
     "text": [
      "Aniruddh Tiwari is learning Python\n"
     ]
    }
   ],
   "source": [
    "first_name = \"Aniruddh\"\n",
    "last_name = \"Tiwari\"\n",
    "language = \"Python\"\n",
    "print(f\"{first_name} {last_name} is learning {language}\")"
   ]
  },
  {
   "cell_type": "code",
   "execution_count": 9,
   "id": "52db6b37-ed5f-4ca6-9dae-9fcd329ecc47",
   "metadata": {},
   "outputs": [
    {
     "name": "stdout",
     "output_type": "stream",
     "text": [
      "Aniruddh Tiwari is learning PYTHON\n"
     ]
    }
   ],
   "source": [
    "# trying to change cases in string using f string \n",
    "first_name = \"aniruddh\"\n",
    "last_name = \"tiwari\"\n",
    "language = \"python\"\n",
    "complete = f\"{first_name.title()} {last_name.title()} is learning {language.upper()}\"\n",
    "print(complete)"
   ]
  },
  {
   "cell_type": "markdown",
   "id": "df84ea19-9197-456b-a8ff-4bb82ab5bdc7",
   "metadata": {},
   "source": [
    "### String indexing and slicing"
   ]
  },
  {
   "cell_type": "code",
   "execution_count": 10,
   "id": "0c166cdd-f673-4327-a83d-19fc643ff481",
   "metadata": {},
   "outputs": [
    {
     "data": {
      "text/plain": [
       "'Aniruddh'"
      ]
     },
     "execution_count": 10,
     "metadata": {},
     "output_type": "execute_result"
    }
   ],
   "source": [
    "name = \"Aniruddh\"\n",
    "name"
   ]
  },
  {
   "cell_type": "code",
   "execution_count": 11,
   "id": "0dc91aed-afc7-4f95-a07a-81297936eaba",
   "metadata": {},
   "outputs": [
    {
     "data": {
      "text/plain": [
       "'r'"
      ]
     },
     "execution_count": 11,
     "metadata": {},
     "output_type": "execute_result"
    }
   ],
   "source": [
    "# Using string indexing for calling particular character form string\n",
    "name[3]\n"
   ]
  },
  {
   "cell_type": "code",
   "execution_count": 12,
   "id": "4b9cbbe6-54b2-4829-a7a3-4092ea632194",
   "metadata": {},
   "outputs": [
    {
     "data": {
      "text/plain": [
       "'d'"
      ]
     },
     "execution_count": 12,
     "metadata": {},
     "output_type": "execute_result"
    }
   ],
   "source": [
    "name[5]"
   ]
  },
  {
   "cell_type": "code",
   "execution_count": 13,
   "id": "53180c68-e396-46bc-8369-1f84d52e90c0",
   "metadata": {},
   "outputs": [
    {
     "ename": "IndexError",
     "evalue": "string index out of range",
     "output_type": "error",
     "traceback": [
      "\u001b[0;31m---------------------------------------------------------------------------\u001b[0m",
      "\u001b[0;31mIndexError\u001b[0m                                Traceback (most recent call last)",
      "Cell \u001b[0;32mIn[13], line 1\u001b[0m\n\u001b[0;32m----> 1\u001b[0m \u001b[38;5;28mprint\u001b[39m(name[\u001b[38;5;241m4\u001b[39m], \u001b[43mname\u001b[49m\u001b[43m[\u001b[49m\u001b[38;5;241;43m8\u001b[39;49m\u001b[43m]\u001b[49m) \u001b[38;5;66;03m# I got error because the name string has only 7 characters.thats way it is showing me \"IndexError: string index out of range\"\u001b[39;00m\n",
      "\u001b[0;31mIndexError\u001b[0m: string index out of range"
     ]
    }
   ],
   "source": [
    "print(name[4], name[8]) # I got error because the name string has only 7 characters.thats way it is showing me \"IndexError: string index out of range\""
   ]
  },
  {
   "cell_type": "code",
   "execution_count": null,
   "id": "22ae4674-030b-4ec9-9e8b-9aab43a7d550",
   "metadata": {},
   "outputs": [],
   "source": [
    "print(name[0], name[7])"
   ]
  },
  {
   "cell_type": "code",
   "execution_count": null,
   "id": "57e72764-6cc3-4ad8-958c-40c3c4c9b63a",
   "metadata": {},
   "outputs": [],
   "source": [
    "print(name[4], name[6], name[4])"
   ]
  },
  {
   "cell_type": "code",
   "execution_count": null,
   "id": "233784fd-14f2-42db-a8a2-facf2e7e410e",
   "metadata": {},
   "outputs": [],
   "source": [
    "print(name[4], name[7])"
   ]
  },
  {
   "cell_type": "code",
   "execution_count": null,
   "id": "2cc4c132-5fb3-4e17-bc56-dcb1d652baf7",
   "metadata": {},
   "outputs": [],
   "source": [
    "name"
   ]
  },
  {
   "cell_type": "code",
   "execution_count": null,
   "id": "345e9fc6-3973-4d51-a570-68ef17cf9e09",
   "metadata": {},
   "outputs": [],
   "source": [
    "# using negative indexing\n",
    "name[-2]"
   ]
  },
  {
   "cell_type": "code",
   "execution_count": null,
   "id": "24052bf3-1423-40eb-ad39-653ae620340d",
   "metadata": {},
   "outputs": [],
   "source": [
    "name[-1]"
   ]
  },
  {
   "cell_type": "code",
   "execution_count": 14,
   "id": "e17598eb-90f5-40b2-8f41-2a54193f43d3",
   "metadata": {},
   "outputs": [
    {
     "data": {
      "text/plain": [
       "'i'"
      ]
     },
     "execution_count": 14,
     "metadata": {},
     "output_type": "execute_result"
    }
   ],
   "source": [
    "name[-6]"
   ]
  },
  {
   "cell_type": "code",
   "execution_count": 15,
   "id": "22ff2008-a6ba-4e83-bbca-af99cde9a45b",
   "metadata": {},
   "outputs": [
    {
     "data": {
      "text/plain": [
       "'A'"
      ]
     },
     "execution_count": 15,
     "metadata": {},
     "output_type": "execute_result"
    }
   ],
   "source": [
    "name[-8]"
   ]
  },
  {
   "cell_type": "code",
   "execution_count": 16,
   "id": "960e58f5-7813-48d7-95e2-d583d66c70b1",
   "metadata": {},
   "outputs": [
    {
     "data": {
      "text/plain": [
       "'r'"
      ]
     },
     "execution_count": 16,
     "metadata": {},
     "output_type": "execute_result"
    }
   ],
   "source": [
    "name[-5]"
   ]
  },
  {
   "cell_type": "code",
   "execution_count": 17,
   "id": "3f3181d3-bbb8-464a-aae1-a9a0b19d583b",
   "metadata": {},
   "outputs": [
    {
     "name": "stdout",
     "output_type": "stream",
     "text": [
      "d r\n"
     ]
    }
   ],
   "source": [
    "print(name[-2], name[-5])"
   ]
  },
  {
   "cell_type": "code",
   "execution_count": 18,
   "id": "ee2f6a02-247b-4377-b097-c01e1dd7d215",
   "metadata": {},
   "outputs": [
    {
     "name": "stdout",
     "output_type": "stream",
     "text": [
      "i r d\n"
     ]
    }
   ],
   "source": [
    "print(name[-6], name[-5], name[-3])"
   ]
  },
  {
   "cell_type": "code",
   "execution_count": 19,
   "id": "68d2d364-5e77-4c3f-b347-760df43781cf",
   "metadata": {},
   "outputs": [
    {
     "data": {
      "text/plain": [
       "'Hello World'"
      ]
     },
     "execution_count": 19,
     "metadata": {},
     "output_type": "execute_result"
    }
   ],
   "source": [
    "# Using string Slicing\n",
    "text = \"Hello World\"\n",
    "text"
   ]
  },
  {
   "cell_type": "code",
   "execution_count": 20,
   "id": "79536825-e464-43f5-9434-3cc207e437ab",
   "metadata": {},
   "outputs": [
    {
     "data": {
      "text/plain": [
       "'ello '"
      ]
     },
     "execution_count": 20,
     "metadata": {},
     "output_type": "execute_result"
    }
   ],
   "source": [
    "text[1:6]"
   ]
  },
  {
   "cell_type": "code",
   "execution_count": 21,
   "id": "b8a07e95-7c72-4b38-a8b1-4f8fc685cd02",
   "metadata": {},
   "outputs": [
    {
     "data": {
      "text/plain": [
       "''"
      ]
     },
     "execution_count": 21,
     "metadata": {},
     "output_type": "execute_result"
    }
   ],
   "source": [
    "text[6:5] # the output is blank because of the unorderd string"
   ]
  },
  {
   "cell_type": "code",
   "execution_count": 22,
   "id": "a33bd968-f353-4055-a941-d23b17a65b4f",
   "metadata": {},
   "outputs": [
    {
     "data": {
      "text/plain": [
       "'Stephanie'"
      ]
     },
     "execution_count": 22,
     "metadata": {},
     "output_type": "execute_result"
    }
   ],
   "source": [
    "text = \"Stephanie\"\n",
    "text"
   ]
  },
  {
   "cell_type": "code",
   "execution_count": 23,
   "id": "76209feb-c918-460c-8c84-ddeb029fc751",
   "metadata": {},
   "outputs": [
    {
     "data": {
      "text/plain": [
       "'Stephanie'"
      ]
     },
     "execution_count": 23,
     "metadata": {},
     "output_type": "execute_result"
    }
   ],
   "source": [
    "text[0:] # python will assume that the string will start from 0 and end's at last index"
   ]
  },
  {
   "cell_type": "code",
   "execution_count": 24,
   "id": "9dba862c-ecfb-4c81-b361-e6448e2d7c50",
   "metadata": {},
   "outputs": [
    {
     "data": {
      "text/plain": [
       "'Stephanie'"
      ]
     },
     "execution_count": 24,
     "metadata": {},
     "output_type": "execute_result"
    }
   ],
   "source": [
    "text[:] # python will assume that the string will start from 0 and go to last index"
   ]
  },
  {
   "cell_type": "code",
   "execution_count": 25,
   "id": "8afa29d9-4df0-4552-a94c-d1a61eb98d2c",
   "metadata": {},
   "outputs": [
    {
     "data": {
      "text/plain": [
       "''"
      ]
     },
     "execution_count": 25,
     "metadata": {},
     "output_type": "execute_result"
    }
   ],
   "source": [
    "text[:0] # the output is blank because of the unorderd range"
   ]
  },
  {
   "cell_type": "code",
   "execution_count": 26,
   "id": "6b455c82-6dca-46d2-814e-9b1a6421cc94",
   "metadata": {},
   "outputs": [
    {
     "data": {
      "text/plain": [
       "'Stephanie'"
      ]
     },
     "execution_count": 26,
     "metadata": {},
     "output_type": "execute_result"
    }
   ],
   "source": [
    "text[0:99] # the string will go till the last index and give the output"
   ]
  },
  {
   "cell_type": "code",
   "execution_count": 27,
   "id": "637cb7a6-694f-48a5-9ba8-3bec2e449095",
   "metadata": {},
   "outputs": [
    {
     "data": {
      "text/plain": [
       "'Stephani'"
      ]
     },
     "execution_count": 27,
     "metadata": {},
     "output_type": "execute_result"
    }
   ],
   "source": [
    "# using negative indexing for slicing\n",
    "text[:-1]"
   ]
  },
  {
   "cell_type": "code",
   "execution_count": 28,
   "id": "24737372-80da-48cf-8090-d27ef3d1c0ae",
   "metadata": {},
   "outputs": [
    {
     "data": {
      "text/plain": [
       "''"
      ]
     },
     "execution_count": 28,
     "metadata": {},
     "output_type": "execute_result"
    }
   ],
   "source": [
    "text[-1:-9]"
   ]
  },
  {
   "cell_type": "code",
   "execution_count": 29,
   "id": "b1c12a3b-718a-4e61-8c3c-be353a920ecb",
   "metadata": {},
   "outputs": [
    {
     "data": {
      "text/plain": [
       "'tephan'"
      ]
     },
     "execution_count": 29,
     "metadata": {},
     "output_type": "execute_result"
    }
   ],
   "source": [
    "text[-8:-2]"
   ]
  },
  {
   "cell_type": "code",
   "execution_count": 30,
   "id": "4d3a83b0-5891-4106-88c3-24abf5c9dc1f",
   "metadata": {},
   "outputs": [
    {
     "data": {
      "text/plain": [
       "'Steph'"
      ]
     },
     "execution_count": 30,
     "metadata": {},
     "output_type": "execute_result"
    }
   ],
   "source": [
    "text[-9:-4]"
   ]
  },
  {
   "cell_type": "code",
   "execution_count": 31,
   "id": "95791d7d-5053-4dcd-8522-1502479519c9",
   "metadata": {},
   "outputs": [
    {
     "data": {
      "text/plain": [
       "''"
      ]
     },
     "execution_count": 31,
     "metadata": {},
     "output_type": "execute_result"
    }
   ],
   "source": [
    "text[-2:0] # the output is blank because unorderd range"
   ]
  },
  {
   "cell_type": "code",
   "execution_count": 32,
   "id": "2292df18-2a0a-4cd0-bf52-7acc4a050439",
   "metadata": {},
   "outputs": [
    {
     "data": {
      "text/plain": [
       "'Alexander'"
      ]
     },
     "execution_count": 32,
     "metadata": {},
     "output_type": "execute_result"
    }
   ],
   "source": [
    "# jumping and slicing the string\n",
    "text = \"Alexander\"\n",
    "text"
   ]
  },
  {
   "cell_type": "code",
   "execution_count": 33,
   "id": "ddf4be12-5e5e-4391-86e4-da06b5b15eac",
   "metadata": {},
   "outputs": [
    {
     "data": {
      "text/plain": [
       "'rednaxelA'"
      ]
     },
     "execution_count": 33,
     "metadata": {},
     "output_type": "execute_result"
    }
   ],
   "source": [
    "text[-1:-10:-1]"
   ]
  },
  {
   "cell_type": "code",
   "execution_count": 34,
   "id": "f9f4dbdd-8def-41b5-84d7-6f6aa0e27950",
   "metadata": {},
   "outputs": [
    {
     "data": {
      "text/plain": [
       "'Aeadr'"
      ]
     },
     "execution_count": 34,
     "metadata": {},
     "output_type": "execute_result"
    }
   ],
   "source": [
    "text[0:9:2] #jumpid from 2 digit"
   ]
  },
  {
   "cell_type": "code",
   "execution_count": 35,
   "id": "47b8cd47-74dd-46c4-ae59-a87371f95ced",
   "metadata": {},
   "outputs": [
    {
     "data": {
      "text/plain": [
       "'Aeadr'"
      ]
     },
     "execution_count": 35,
     "metadata": {},
     "output_type": "execute_result"
    }
   ],
   "source": [
    "text[::2]"
   ]
  },
  {
   "cell_type": "code",
   "execution_count": 36,
   "id": "a8aa0ce9-adf9-40f1-925c-811dbddfa727",
   "metadata": {},
   "outputs": [
    {
     "data": {
      "text/plain": [
       "'Aea'"
      ]
     },
     "execution_count": 36,
     "metadata": {},
     "output_type": "execute_result"
    }
   ],
   "source": [
    "text[0:6:2]"
   ]
  },
  {
   "cell_type": "code",
   "execution_count": 37,
   "id": "d1817d08-01f5-4bab-805f-049f7defc513",
   "metadata": {},
   "outputs": [
    {
     "data": {
      "text/plain": [
       "'eadr'"
      ]
     },
     "execution_count": 37,
     "metadata": {},
     "output_type": "execute_result"
    }
   ],
   "source": [
    "text[2:9:2]"
   ]
  },
  {
   "cell_type": "code",
   "execution_count": 38,
   "id": "d5e72f77-171c-47b9-b4de-7f91d315b70b",
   "metadata": {},
   "outputs": [
    {
     "data": {
      "text/plain": [
       "'Axd'"
      ]
     },
     "execution_count": 38,
     "metadata": {},
     "output_type": "execute_result"
    }
   ],
   "source": [
    "text[0:9:3]"
   ]
  },
  {
   "cell_type": "code",
   "execution_count": 39,
   "id": "73cdb8b7-db63-4bfa-a7fd-336dcb044afe",
   "metadata": {},
   "outputs": [
    {
     "data": {
      "text/plain": [
       "'Aar'"
      ]
     },
     "execution_count": 39,
     "metadata": {},
     "output_type": "execute_result"
    }
   ],
   "source": [
    "text[0:9:4]"
   ]
  },
  {
   "cell_type": "code",
   "execution_count": 40,
   "id": "2a0ad10f-2833-41d3-8b35-ee9f43ec5751",
   "metadata": {},
   "outputs": [
    {
     "data": {
      "text/plain": [
       "'An'"
      ]
     },
     "execution_count": 40,
     "metadata": {},
     "output_type": "execute_result"
    }
   ],
   "source": [
    "text[0:9:5]"
   ]
  },
  {
   "cell_type": "code",
   "execution_count": 41,
   "id": "2886453f-3c9a-4d4b-972f-0e0d7b403339",
   "metadata": {},
   "outputs": [
    {
     "data": {
      "text/plain": [
       "'Ad'"
      ]
     },
     "execution_count": 41,
     "metadata": {},
     "output_type": "execute_result"
    }
   ],
   "source": [
    "text[0:9:6]"
   ]
  },
  {
   "cell_type": "code",
   "execution_count": 42,
   "id": "73ae15b4-7e72-45cd-85b8-43fdb505fba3",
   "metadata": {},
   "outputs": [
    {
     "data": {
      "text/plain": [
       "'A'"
      ]
     },
     "execution_count": 42,
     "metadata": {},
     "output_type": "execute_result"
    }
   ],
   "source": [
    "text[0:9:9]"
   ]
  },
  {
   "cell_type": "code",
   "execution_count": 43,
   "id": "6171c7dc-2f1d-4a9b-98e3-df06b7643b24",
   "metadata": {},
   "outputs": [
    {
     "data": {
      "text/plain": [
       "'Aead'"
      ]
     },
     "execution_count": 43,
     "metadata": {},
     "output_type": "execute_result"
    }
   ],
   "source": [
    "text[0:7:2]"
   ]
  },
  {
   "cell_type": "code",
   "execution_count": 44,
   "id": "0c512011-6092-40b6-b154-b82d773f8a4d",
   "metadata": {},
   "outputs": [
    {
     "data": {
      "text/plain": [
       "''"
      ]
     },
     "execution_count": 44,
     "metadata": {},
     "output_type": "execute_result"
    }
   ],
   "source": [
    "text[0:9:-1] # the output is blank because unorderd range"
   ]
  },
  {
   "cell_type": "code",
   "execution_count": 45,
   "id": "1b582d22-67a1-428b-a50d-e7f6da315071",
   "metadata": {},
   "outputs": [
    {
     "data": {
      "text/plain": [
       "'Alexande'"
      ]
     },
     "execution_count": 45,
     "metadata": {},
     "output_type": "execute_result"
    }
   ],
   "source": [
    "text[-9:-1:1] "
   ]
  },
  {
   "cell_type": "code",
   "execution_count": 46,
   "id": "744fdab2-0666-4da5-b24f-88b94210a40b",
   "metadata": {},
   "outputs": [
    {
     "data": {
      "text/plain": [
       "''"
      ]
     },
     "execution_count": 46,
     "metadata": {},
     "output_type": "execute_result"
    }
   ],
   "source": [
    "text[9::]"
   ]
  },
  {
   "cell_type": "code",
   "execution_count": 47,
   "id": "59e64478-e733-45c4-8f64-e251c7e92995",
   "metadata": {},
   "outputs": [
    {
     "data": {
      "text/plain": [
       "'A'"
      ]
     },
     "execution_count": 47,
     "metadata": {},
     "output_type": "execute_result"
    }
   ],
   "source": [
    "text[::9] "
   ]
  },
  {
   "cell_type": "code",
   "execution_count": 48,
   "id": "344e1c9e-6ba3-4fb1-9afc-12ab3f4ce8b4",
   "metadata": {},
   "outputs": [
    {
     "data": {
      "text/plain": [
       "9"
      ]
     },
     "execution_count": 48,
     "metadata": {},
     "output_type": "execute_result"
    }
   ],
   "source": [
    "len(text)"
   ]
  },
  {
   "cell_type": "code",
   "execution_count": 49,
   "id": "0f3e3016-f5f7-4ffa-8839-8236b290c4a6",
   "metadata": {},
   "outputs": [
    {
     "data": {
      "text/plain": [
       "'Alexander'"
      ]
     },
     "execution_count": 49,
     "metadata": {},
     "output_type": "execute_result"
    }
   ],
   "source": [
    "text[::]"
   ]
  },
  {
   "cell_type": "code",
   "execution_count": 50,
   "id": "412b9a97-9d7b-47b1-b17b-53f9c373b354",
   "metadata": {},
   "outputs": [
    {
     "data": {
      "text/plain": [
       "'rednaxel'"
      ]
     },
     "execution_count": 50,
     "metadata": {},
     "output_type": "execute_result"
    }
   ],
   "source": [
    "text[9:0:-1] "
   ]
  },
  {
   "cell_type": "code",
   "execution_count": 51,
   "id": "2f8b70bf-ab6d-4e9a-aaa5-fa6f54c9465c",
   "metadata": {},
   "outputs": [
    {
     "data": {
      "text/plain": [
       "'rednaxelA'"
      ]
     },
     "execution_count": 51,
     "metadata": {},
     "output_type": "execute_result"
    }
   ],
   "source": [
    "text[::-1] "
   ]
  },
  {
   "cell_type": "code",
   "execution_count": 52,
   "id": "419839da-4a45-4db4-bbeb-25c9ae26384c",
   "metadata": {},
   "outputs": [
    {
     "data": {
      "text/plain": [
       "'Aniruddh'"
      ]
     },
     "execution_count": 52,
     "metadata": {},
     "output_type": "execute_result"
    }
   ],
   "source": [
    "text = \"Aniruddh\"\n",
    "text"
   ]
  },
  {
   "cell_type": "code",
   "execution_count": 53,
   "id": "0473924a-d821-4441-b5f6-84b5fb5b49d1",
   "metadata": {},
   "outputs": [
    {
     "name": "stdout",
     "output_type": "stream",
     "text": [
      "ruddhAni\n"
     ]
    }
   ],
   "source": [
    "# Adding Two string\n",
    "x = text[0:3]\n",
    "y = text[3:]\n",
    "z = y+x\n",
    "print(z)"
   ]
  },
  {
   "cell_type": "code",
   "execution_count": 54,
   "id": "2be13143-5dba-4566-a350-2ff486d616f0",
   "metadata": {},
   "outputs": [
    {
     "data": {
      "text/plain": [
       "'rudd'"
      ]
     },
     "execution_count": 54,
     "metadata": {},
     "output_type": "execute_result"
    }
   ],
   "source": [
    "x = text[3:-1]\n",
    "x"
   ]
  },
  {
   "cell_type": "code",
   "execution_count": 55,
   "id": "b21eb468-e886-4c40-a456-2a795d63c11a",
   "metadata": {},
   "outputs": [
    {
     "name": "stdout",
     "output_type": "stream",
     "text": [
      "aniruddhaiud\n"
     ]
    }
   ],
   "source": [
    "# Adding Two string\n",
    "x = text[0::2]\n",
    "y = text[0:]\n",
    "z = y+x\n",
    "print(z.lower())"
   ]
  },
  {
   "cell_type": "code",
   "execution_count": 56,
   "id": "2b8bf8b8-336e-44fa-a62a-5fbfcf271605",
   "metadata": {},
   "outputs": [
    {
     "name": "stdout",
     "output_type": "stream",
     "text": [
      "b'Aniruddh'\n"
     ]
    }
   ],
   "source": [
    "text = \"Aniruddh\"\n",
    "print(text.encode())"
   ]
  },
  {
   "cell_type": "code",
   "execution_count": 57,
   "id": "e7d11f89-1700-44af-8f3a-16e3b957725a",
   "metadata": {},
   "outputs": [
    {
     "name": "stdout",
     "output_type": "stream",
     "text": [
      "Aniruddh word comes 2 times in the string\n"
     ]
    }
   ],
   "source": [
    "name = \"Aniruddh, Aniruddh\"\n",
    "print(f\"Aniruddh word comes {name.count('Aniruddh')} times in the string\") # .count() method is used to calculate how many time the pericular string comes\n"
   ]
  },
  {
   "cell_type": "code",
   "execution_count": 58,
   "id": "ea71086b-3540-402f-9555-4491f53c3cd2",
   "metadata": {},
   "outputs": [
    {
     "name": "stdout",
     "output_type": "stream",
     "text": [
      "True\n",
      "9\n"
     ]
    }
   ],
   "source": [
    "text = \"Aniruddh Tiwari\"\n",
    "print(text.endswith('Tiwari')) \n",
    "print(text.index('T'))"
   ]
  },
  {
   "cell_type": "code",
   "execution_count": 59,
   "id": "0b3082d8-c8dd-43f7-9495-b710c9934eb8",
   "metadata": {},
   "outputs": [
    {
     "name": "stdout",
     "output_type": "stream",
     "text": [
      "2\n"
     ]
    }
   ],
   "source": [
    "text = \"Aniruddh Tiwari\"\n",
    "print(text.find('i'))"
   ]
  },
  {
   "cell_type": "code",
   "execution_count": 60,
   "id": "efd17a0f-2686-47d4-9add-7653909751fb",
   "metadata": {},
   "outputs": [
    {
     "name": "stdout",
     "output_type": "stream",
     "text": [
      "False\n"
     ]
    }
   ],
   "source": [
    "text = \"Aniruddh Tiwari\"\n",
    "print(text.isnumeric())"
   ]
  },
  {
   "cell_type": "code",
   "execution_count": 61,
   "id": "6528f510-b5e4-459d-ab18-d3e745b4263e",
   "metadata": {},
   "outputs": [
    {
     "name": "stdout",
     "output_type": "stream",
     "text": [
      "False\n"
     ]
    }
   ],
   "source": [
    "text = \"Aniruddh Tiwari\"\n",
    "print(text.isspace())"
   ]
  },
  {
   "cell_type": "code",
   "execution_count": 62,
   "id": "f2b8c091-c205-4ba6-b7e5-22c27367e665",
   "metadata": {},
   "outputs": [
    {
     "name": "stdout",
     "output_type": "stream",
     "text": [
      "|Aniruddh Tiwari|\n"
     ]
    }
   ],
   "source": [
    "text = \"Aniruddh Tiwari\"\n",
    "print(text.join('||'))"
   ]
  },
  {
   "cell_type": "code",
   "execution_count": 63,
   "id": "4e036560-5c19-4e45-af48-5f22e18262ed",
   "metadata": {},
   "outputs": [
    {
     "name": "stdout",
     "output_type": "stream",
     "text": [
      "Alisha Tiwari\n"
     ]
    }
   ],
   "source": [
    "text = \"Aniruddh Tiwari\"\n",
    "print(text.replace(\"Aniruddh\", \"Alisha\"))"
   ]
  },
  {
   "cell_type": "markdown",
   "id": "fdacd917-70e1-4309-a9c9-66f6ea01c2f6",
   "metadata": {},
   "source": [
    "### Q) Personal Message: Use a variable to represent a person’s name, and print a message to that person. Your message should be simple, such as, “Hello Eric,would you like to learn some Python today?”"
   ]
  },
  {
   "cell_type": "code",
   "execution_count": 64,
   "id": "4ce9e52d-7c7f-41c3-b7c6-9baffaf9042b",
   "metadata": {},
   "outputs": [
    {
     "name": "stdout",
     "output_type": "stream",
     "text": [
      "Hello Aniruddh, would you like to learn some Python today?\n"
     ]
    }
   ],
   "source": [
    "message = \"Aniruddh\"\n",
    "print(f\"Hello {message}, would you like to learn some Python today?\")"
   ]
  },
  {
   "cell_type": "markdown",
   "id": "8477a6b4-d2ae-4db5-8e07-3552d3cf77c8",
   "metadata": {},
   "source": [
    "### Q) Name Cases: Use a variable to represent a person’s name, and then print that person’s name in lowercase, uppercase, and title case."
   ]
  },
  {
   "cell_type": "code",
   "execution_count": 65,
   "id": "1f373c69-c3c1-4ab0-9012-26580a20d8ba",
   "metadata": {},
   "outputs": [
    {
     "name": "stdout",
     "output_type": "stream",
     "text": [
      "Hello ANIRUDDH, would you like to learn some Python today?\n",
      "Hello aniruddh, would you like to learn some Python today?\n",
      "Hello Aniruddh, would you like to learn some Python today?\n"
     ]
    }
   ],
   "source": [
    "message = \"Aniruddh\"\n",
    "print(f\"Hello {message.upper()}, would you like to learn some Python today?\")\n",
    "print(f\"Hello {message.lower()}, would you like to learn some Python today?\")\n",
    "print(f\"Hello {message.title()}, would you like to learn some Python today?\")"
   ]
  },
  {
   "cell_type": "markdown",
   "id": "38cae293-acb3-490a-bebc-14544a2735e9",
   "metadata": {},
   "source": [
    "### Q) Famous Quote: Find a quote from a famous person you admire. Print the quote and the name of its author. Your output should look something like the following, including the quotation marks:"
   ]
  },
  {
   "cell_type": "code",
   "execution_count": 66,
   "id": "e8e930c2-3a45-4433-8930-355d349110fe",
   "metadata": {},
   "outputs": [
    {
     "name": "stdout",
     "output_type": "stream",
     "text": [
      "Albert Einstein once said, “A person who never made a mistake never tried anything new.”\n"
     ]
    }
   ],
   "source": [
    "famous_person = \"Albert Einstein once said, “A person who never made a mistake never tried anything new.”\"\n",
    "print(famous_person)"
   ]
  },
  {
   "cell_type": "markdown",
   "id": "e712d46b-b47f-4cad-8bee-c68ed6800f29",
   "metadata": {},
   "source": [
    "### Q) Famous Quote 2: Repeat Exercise 2-5, but this time, represent the famous person’s name using a variable called famous_person. Then compose  your message and represent it with a new variable called message. Print your message"
   ]
  },
  {
   "cell_type": "code",
   "execution_count": 67,
   "id": "97874a74-e8a3-4a1a-8177-6d9c06a52a6e",
   "metadata": {},
   "outputs": [
    {
     "name": "stdout",
     "output_type": "stream",
     "text": [
      "Albert Einsteinonce said, “A person who never made a mistake never tried anything new.”\n"
     ]
    }
   ],
   "source": [
    "famous_person = \"Albert Einstein\"\n",
    "quote = \"“A person who never made a mistake never tried anything new.”\"\n",
    "print(f\"{famous_person}once said, {quote}\")"
   ]
  },
  {
   "cell_type": "markdown",
   "id": "080693ba-fb2d-4aa8-8d36-f8ebc7628b7b",
   "metadata": {},
   "source": [
    "### Q) Stripping Names: Use a variable to represent a person’s name, and include some whitespace characters at the beginning and end of the name. Make sure you use each character combination, \"\\t\" and \"\\n\", at least once. Print the name once, so the whitespace around the name is displayed.  Then print the name using each of the three stripping functions, lstrip(), rstrip(), and strip()"
   ]
  },
  {
   "cell_type": "code",
   "execution_count": 68,
   "id": "64cce2cb-0292-4647-a89f-c15295954dcd",
   "metadata": {},
   "outputs": [
    {
     "name": "stdout",
     "output_type": "stream",
     "text": [
      "\tAniruddh\n",
      "\n",
      "Aniruddh\n",
      "\n",
      "\tAniruddh\n",
      "Aniruddh\n"
     ]
    }
   ],
   "source": [
    "name = \"\\tAniruddh\\n\"\n",
    "print(name)\n",
    "print(name.lstrip())\n",
    "print(name.rstrip())\n",
    "print(name.strip())"
   ]
  },
  {
   "cell_type": "code",
   "execution_count": null,
   "id": "3c6d5ca9-5f0d-4f80-abc8-03dbc114926d",
   "metadata": {},
   "outputs": [],
   "source": []
  }
 ],
 "metadata": {
  "kernelspec": {
   "display_name": "Python 3 (ipykernel)",
   "language": "python",
   "name": "python3"
  },
  "language_info": {
   "codemirror_mode": {
    "name": "ipython",
    "version": 3
   },
   "file_extension": ".py",
   "mimetype": "text/x-python",
   "name": "python",
   "nbconvert_exporter": "python",
   "pygments_lexer": "ipython3",
   "version": "3.10.8"
  }
 },
 "nbformat": 4,
 "nbformat_minor": 5
}
