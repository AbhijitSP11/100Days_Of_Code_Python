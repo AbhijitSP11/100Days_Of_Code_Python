{
 "cells": [
  {
   "cell_type": "markdown",
   "id": "3c27ad05-f99f-44cc-aa5f-fc9caba2d606",
   "metadata": {},
   "source": [
    "# Day 5"
   ]
  },
  {
   "cell_type": "markdown",
   "id": "056e6d59-d74c-48cd-8657-041cf680d5b5",
   "metadata": {},
   "source": [
    "## Topics going to be cover on Day-5:\n",
    "- Dictionary\n",
    "- Accessing Values in a Dictionary using key\n",
    "- Using key method to call all the keys from the Dictionary\n",
    "- Converting the keys into list\n",
    "- Using values method to call all the values from the Dictionary\n",
    "- Converting the values into list\n",
    "- Converting the keys into list\n",
    "- Uaing Get Items method to call keys and values both\n",
    "- Changing the Dicitionary Values\n",
    "- using .update method to update the Dictionary\n",
    "- Using pop method\n",
    "- Copy a Dictionary\n",
    "- Working with Empty Dictionary"
   ]
  },
  {
   "cell_type": "markdown",
   "id": "890d9487-53f5-4ecd-a9a6-3384087cc6b3",
   "metadata": {},
   "source": [
    "## Accessing Values in a Dictionary using key"
   ]
  },
  {
   "cell_type": "code",
   "execution_count": 1,
   "id": "bf2ab679-884d-4ac8-bcf0-11a433eb9cb5",
   "metadata": {},
   "outputs": [],
   "source": [
    "d1 = {'Name' : 'Aniruddh', 'Phone Number' : 9424669633, 'Sem': 4, 'Blood' : \"O+\"}"
   ]
  },
  {
   "cell_type": "code",
   "execution_count": 2,
   "id": "b76ce634-141d-4049-90b2-a5bc6755ec34",
   "metadata": {},
   "outputs": [
    {
     "data": {
      "text/plain": [
       "{'Name': 'Aniruddh', 'Phone Number': 9424669633, 'Sem': 4, 'Blood': 'O+'}"
      ]
     },
     "execution_count": 2,
     "metadata": {},
     "output_type": "execute_result"
    }
   ],
   "source": [
    "d1"
   ]
  },
  {
   "cell_type": "code",
   "execution_count": 3,
   "id": "e8240a97-1072-4048-b68d-51ba9ce0dad2",
   "metadata": {},
   "outputs": [
    {
     "data": {
      "text/plain": [
       "'Aniruddh'"
      ]
     },
     "execution_count": 3,
     "metadata": {},
     "output_type": "execute_result"
    }
   ],
   "source": [
    "d1['Name']"
   ]
  },
  {
   "cell_type": "code",
   "execution_count": 4,
   "id": "aff708df-2781-464b-b395-b1f1d65193e0",
   "metadata": {},
   "outputs": [
    {
     "data": {
      "text/plain": [
       "9424669633"
      ]
     },
     "execution_count": 4,
     "metadata": {},
     "output_type": "execute_result"
    }
   ],
   "source": [
    "d1['Phone Number']"
   ]
  },
  {
   "cell_type": "code",
   "execution_count": 5,
   "id": "469b3e47-4d5b-41b5-a103-c84458d74bcc",
   "metadata": {},
   "outputs": [
    {
     "data": {
      "text/plain": [
       "4"
      ]
     },
     "execution_count": 5,
     "metadata": {},
     "output_type": "execute_result"
    }
   ],
   "source": [
    "d1['Sem']"
   ]
  },
  {
   "cell_type": "markdown",
   "id": "d096046d-5c55-419b-b2f3-e1fc9ee28e8a",
   "metadata": {},
   "source": [
    "## Using key method to call all the keys from the Dictionary"
   ]
  },
  {
   "cell_type": "code",
   "execution_count": 8,
   "id": "51f6dd60-1785-4eaa-9987-fac9b67464d3",
   "metadata": {},
   "outputs": [],
   "source": [
    "d2 = {'Model' : 'MT15', 'Comapany' : 'Yamaha', 'Year' : '13th February', 'Type' : 'Sports'}"
   ]
  },
  {
   "cell_type": "code",
   "execution_count": 9,
   "id": "ad5e425b-2841-4810-911c-8012e95c9a2a",
   "metadata": {},
   "outputs": [
    {
     "data": {
      "text/plain": [
       "{'Model': 'MT15',\n",
       " 'Comapany': 'Yamaha',\n",
       " 'Year': '13th February',\n",
       " 'Type': 'Sports'}"
      ]
     },
     "execution_count": 9,
     "metadata": {},
     "output_type": "execute_result"
    }
   ],
   "source": [
    "d2"
   ]
  },
  {
   "cell_type": "code",
   "execution_count": 10,
   "id": "29460640-58fd-4fe9-b7cc-485b0d0cc5c6",
   "metadata": {},
   "outputs": [
    {
     "data": {
      "text/plain": [
       "dict_keys(['Model', 'Comapany', 'Year', 'Type'])"
      ]
     },
     "execution_count": 10,
     "metadata": {},
     "output_type": "execute_result"
    }
   ],
   "source": [
    "d2.keys()"
   ]
  },
  {
   "cell_type": "markdown",
   "id": "52d4f691-11ae-42dc-97ed-e04b67f047b0",
   "metadata": {},
   "source": [
    "## Converting the keys into list"
   ]
  },
  {
   "cell_type": "code",
   "execution_count": 11,
   "id": "278b2961-b995-4db4-a5c4-1bfd2d13fd8f",
   "metadata": {},
   "outputs": [
    {
     "data": {
      "text/plain": [
       "{'Model': 'MT15',\n",
       " 'Comapany': 'Yamaha',\n",
       " 'Year': '13th February',\n",
       " 'Type': 'Sports'}"
      ]
     },
     "execution_count": 11,
     "metadata": {},
     "output_type": "execute_result"
    }
   ],
   "source": [
    "d2"
   ]
  },
  {
   "cell_type": "code",
   "execution_count": 12,
   "id": "b2d0fccb-0c42-466d-b411-0a505d43cfe6",
   "metadata": {},
   "outputs": [
    {
     "data": {
      "text/plain": [
       "dict_keys(['Model', 'Comapany', 'Year', 'Type'])"
      ]
     },
     "execution_count": 12,
     "metadata": {},
     "output_type": "execute_result"
    }
   ],
   "source": [
    "d2.keys()"
   ]
  },
  {
   "cell_type": "code",
   "execution_count": 14,
   "id": "ef150826-15fe-4fbf-ac54-1ea36d51e188",
   "metadata": {},
   "outputs": [],
   "source": [
    "x = list(d2.keys())"
   ]
  },
  {
   "cell_type": "code",
   "execution_count": 15,
   "id": "234a478c-f004-4ab4-bcf3-2394fec88bf0",
   "metadata": {},
   "outputs": [
    {
     "data": {
      "text/plain": [
       "['Model', 'Comapany', 'Year', 'Type']"
      ]
     },
     "execution_count": 15,
     "metadata": {},
     "output_type": "execute_result"
    }
   ],
   "source": [
    "x"
   ]
  },
  {
   "cell_type": "code",
   "execution_count": 16,
   "id": "395c5dec-bcb9-4e42-9fd2-a0187ae80538",
   "metadata": {},
   "outputs": [
    {
     "data": {
      "text/plain": [
       "'Model'"
      ]
     },
     "execution_count": 16,
     "metadata": {},
     "output_type": "execute_result"
    }
   ],
   "source": [
    "x[0]"
   ]
  },
  {
   "cell_type": "code",
   "execution_count": 17,
   "id": "6a9d6b7e-02ba-42d6-9333-64751d43e3be",
   "metadata": {},
   "outputs": [
    {
     "data": {
      "text/plain": [
       "'Comapany'"
      ]
     },
     "execution_count": 17,
     "metadata": {},
     "output_type": "execute_result"
    }
   ],
   "source": [
    "x[1]"
   ]
  },
  {
   "cell_type": "code",
   "execution_count": 18,
   "id": "15c2cf00-db05-42aa-a32f-fe08fd7e42b9",
   "metadata": {},
   "outputs": [
    {
     "data": {
      "text/plain": [
       "['Model', 'Comapany', 'Year', 'Type']"
      ]
     },
     "execution_count": 18,
     "metadata": {},
     "output_type": "execute_result"
    }
   ],
   "source": [
    "x[0:]"
   ]
  },
  {
   "cell_type": "markdown",
   "id": "801227a8-b10f-4fdb-a208-64af93a39a66",
   "metadata": {},
   "source": [
    "## Using values method to call all the values from the Dictionary"
   ]
  },
  {
   "cell_type": "code",
   "execution_count": 21,
   "id": "02e1cb1f-835f-4453-821b-5fffe04933fe",
   "metadata": {},
   "outputs": [
    {
     "data": {
      "text/plain": [
       "{'Model': 'MT15',\n",
       " 'Comapany': 'Yamaha',\n",
       " 'Year': '13th February',\n",
       " 'Type': 'Sports'}"
      ]
     },
     "execution_count": 21,
     "metadata": {},
     "output_type": "execute_result"
    }
   ],
   "source": [
    "d2"
   ]
  },
  {
   "cell_type": "code",
   "execution_count": 22,
   "id": "398152cb-b296-43f4-9610-2a52c6191d18",
   "metadata": {},
   "outputs": [
    {
     "data": {
      "text/plain": [
       "dict_values(['MT15', 'Yamaha', '13th February', 'Sports'])"
      ]
     },
     "execution_count": 22,
     "metadata": {},
     "output_type": "execute_result"
    }
   ],
   "source": [
    "d2.values()"
   ]
  },
  {
   "cell_type": "markdown",
   "id": "366f85b9-c1a1-4a34-b14b-faf1788c0ae1",
   "metadata": {},
   "source": [
    "## Converting the values into list"
   ]
  },
  {
   "cell_type": "code",
   "execution_count": 23,
   "id": "07084563-9999-4388-a625-b35cc2e42712",
   "metadata": {},
   "outputs": [
    {
     "data": {
      "text/plain": [
       "{'Model': 'MT15',\n",
       " 'Comapany': 'Yamaha',\n",
       " 'Year': '13th February',\n",
       " 'Type': 'Sports'}"
      ]
     },
     "execution_count": 23,
     "metadata": {},
     "output_type": "execute_result"
    }
   ],
   "source": [
    "d2"
   ]
  },
  {
   "cell_type": "code",
   "execution_count": 24,
   "id": "6e69c679-f91a-41ce-999b-0caea68d2739",
   "metadata": {},
   "outputs": [
    {
     "data": {
      "text/plain": [
       "dict_values(['MT15', 'Yamaha', '13th February', 'Sports'])"
      ]
     },
     "execution_count": 24,
     "metadata": {},
     "output_type": "execute_result"
    }
   ],
   "source": [
    "d2.values()"
   ]
  },
  {
   "cell_type": "code",
   "execution_count": 25,
   "id": "1f5fe2dc-968a-4a8d-95fc-d5b08da9bd13",
   "metadata": {},
   "outputs": [],
   "source": [
    "x = list(d2.values())"
   ]
  },
  {
   "cell_type": "code",
   "execution_count": 26,
   "id": "d8054dce-f0b1-4c9f-9376-5cf1af413ab2",
   "metadata": {},
   "outputs": [
    {
     "data": {
      "text/plain": [
       "['MT15', 'Yamaha', '13th February', 'Sports']"
      ]
     },
     "execution_count": 26,
     "metadata": {},
     "output_type": "execute_result"
    }
   ],
   "source": [
    "x"
   ]
  },
  {
   "cell_type": "code",
   "execution_count": 27,
   "id": "6c2dc0c0-3d6d-4f4d-8fb2-70d66bcdc628",
   "metadata": {},
   "outputs": [
    {
     "data": {
      "text/plain": [
       "'MT15'"
      ]
     },
     "execution_count": 27,
     "metadata": {},
     "output_type": "execute_result"
    }
   ],
   "source": [
    "x[0]"
   ]
  },
  {
   "cell_type": "code",
   "execution_count": 28,
   "id": "4a0c84f9-df55-4d47-90d5-001ee24e1b08",
   "metadata": {},
   "outputs": [
    {
     "data": {
      "text/plain": [
       "['Sports', '13th February', 'Yamaha', 'MT15']"
      ]
     },
     "execution_count": 28,
     "metadata": {},
     "output_type": "execute_result"
    }
   ],
   "source": [
    "x[::-1]"
   ]
  },
  {
   "cell_type": "markdown",
   "id": "920b7306-6384-4a73-b153-dd811e6544aa",
   "metadata": {},
   "source": [
    "## Uaing Get Items method to call keys and values both"
   ]
  },
  {
   "cell_type": "code",
   "execution_count": 29,
   "id": "638b1334-24e9-4d04-8551-7ef11b724446",
   "metadata": {},
   "outputs": [
    {
     "data": {
      "text/plain": [
       "{'Model': 'MT15',\n",
       " 'Comapany': 'Yamaha',\n",
       " 'Year': '13th February',\n",
       " 'Type': 'Sports'}"
      ]
     },
     "execution_count": 29,
     "metadata": {},
     "output_type": "execute_result"
    }
   ],
   "source": [
    "d2"
   ]
  },
  {
   "cell_type": "code",
   "execution_count": 30,
   "id": "41aef285-4dcd-426e-a2ba-ae8523aab80b",
   "metadata": {},
   "outputs": [
    {
     "data": {
      "text/plain": [
       "dict_items([('Model', 'MT15'), ('Comapany', 'Yamaha'), ('Year', '13th February'), ('Type', 'Sports')])"
      ]
     },
     "execution_count": 30,
     "metadata": {},
     "output_type": "execute_result"
    }
   ],
   "source": [
    "d2.items()"
   ]
  },
  {
   "cell_type": "code",
   "execution_count": 31,
   "id": "4e9414e5-f4ca-42d2-b15a-826a4318367b",
   "metadata": {},
   "outputs": [
    {
     "data": {
      "text/plain": [
       "[('Model', 'MT15'),\n",
       " ('Comapany', 'Yamaha'),\n",
       " ('Year', '13th February'),\n",
       " ('Type', 'Sports')]"
      ]
     },
     "execution_count": 31,
     "metadata": {},
     "output_type": "execute_result"
    }
   ],
   "source": [
    "x = list(d2.items())\n",
    "x"
   ]
  },
  {
   "cell_type": "markdown",
   "id": "a1cf2849-29a9-4253-ac01-3aead67f66c4",
   "metadata": {},
   "source": [
    "## Changing the Dicitionary Values"
   ]
  },
  {
   "cell_type": "code",
   "execution_count": 45,
   "id": "90439c5f-aa1d-404a-ad8e-081f996db182",
   "metadata": {},
   "outputs": [
    {
     "data": {
      "text/plain": [
       "{'Model': 'FZv4',\n",
       " 'Comapany': 'Yamaha',\n",
       " 'Year': '13th February',\n",
       " 'Type': 'Sports',\n",
       " 'year': 2020}"
      ]
     },
     "execution_count": 45,
     "metadata": {},
     "output_type": "execute_result"
    }
   ],
   "source": [
    "d2"
   ]
  },
  {
   "cell_type": "code",
   "execution_count": 46,
   "id": "c82ca3a1-9811-475d-b85f-c7f4f77ef841",
   "metadata": {},
   "outputs": [],
   "source": [
    "d2['Model'] = 'FZv4'"
   ]
  },
  {
   "cell_type": "code",
   "execution_count": 47,
   "id": "abb469b1-412e-4425-8de7-a92b37149d63",
   "metadata": {},
   "outputs": [
    {
     "data": {
      "text/plain": [
       "{'Model': 'FZv4',\n",
       " 'Comapany': 'Yamaha',\n",
       " 'Year': '13th February',\n",
       " 'Type': 'Sports',\n",
       " 'year': 2020}"
      ]
     },
     "execution_count": 47,
     "metadata": {},
     "output_type": "execute_result"
    }
   ],
   "source": [
    "d2"
   ]
  },
  {
   "cell_type": "markdown",
   "id": "c38c5936-0b11-4072-8584-8cf97d863dc2",
   "metadata": {},
   "source": [
    "## using .update method to update the Dictionary"
   ]
  },
  {
   "cell_type": "code",
   "execution_count": 51,
   "id": "4288070f-c43f-4c76-9ff5-68dbdc833298",
   "metadata": {},
   "outputs": [
    {
     "data": {
      "text/plain": [
       "{'Model': 'FZv4',\n",
       " 'Comapany': 'Yamaha',\n",
       " 'Year': '13th February',\n",
       " 'Type': 'Sports',\n",
       " 'year': 2020}"
      ]
     },
     "execution_count": 51,
     "metadata": {},
     "output_type": "execute_result"
    }
   ],
   "source": [
    "d2"
   ]
  },
  {
   "cell_type": "code",
   "execution_count": 52,
   "id": "a6de8c75-74f6-4e1b-8bf0-b59ce92b1ef4",
   "metadata": {},
   "outputs": [],
   "source": [
    "d2.update({\"year\": 2020})"
   ]
  },
  {
   "cell_type": "code",
   "execution_count": 53,
   "id": "4646af73-f352-487f-a6ef-1e0ae4298442",
   "metadata": {},
   "outputs": [
    {
     "data": {
      "text/plain": [
       "{'Model': 'FZv4',\n",
       " 'Comapany': 'Yamaha',\n",
       " 'Year': '13th February',\n",
       " 'Type': 'Sports',\n",
       " 'year': 2020}"
      ]
     },
     "execution_count": 53,
     "metadata": {},
     "output_type": "execute_result"
    }
   ],
   "source": [
    "d2"
   ]
  },
  {
   "cell_type": "markdown",
   "id": "3bfdd83c-c22d-4b06-9934-64e730a02476",
   "metadata": {},
   "source": [
    "## Using pop method to removing "
   ]
  },
  {
   "cell_type": "code",
   "execution_count": 54,
   "id": "d336d7d1-de5d-446a-88ab-4e0097e72a43",
   "metadata": {},
   "outputs": [
    {
     "data": {
      "text/plain": [
       "{'Model': 'FZv4',\n",
       " 'Comapany': 'Yamaha',\n",
       " 'Year': '13th February',\n",
       " 'Type': 'Sports',\n",
       " 'year': 2020}"
      ]
     },
     "execution_count": 54,
     "metadata": {},
     "output_type": "execute_result"
    }
   ],
   "source": [
    "d2"
   ]
  },
  {
   "cell_type": "code",
   "execution_count": 57,
   "id": "672ea34a-7311-45f1-8805-1ada047aa741",
   "metadata": {},
   "outputs": [],
   "source": [
    "x =  d2.pop('Year')"
   ]
  },
  {
   "cell_type": "code",
   "execution_count": 58,
   "id": "ec02c721-02a8-43f5-a2da-53d128da09ef",
   "metadata": {},
   "outputs": [
    {
     "data": {
      "text/plain": [
       "'13th February'"
      ]
     },
     "execution_count": 58,
     "metadata": {},
     "output_type": "execute_result"
    }
   ],
   "source": [
    "x"
   ]
  },
  {
   "cell_type": "code",
   "execution_count": 59,
   "id": "7e7c9704-ba8e-4ba4-8e20-7f41272eb55f",
   "metadata": {},
   "outputs": [
    {
     "data": {
      "text/plain": [
       "{'Model': 'FZv4', 'Comapany': 'Yamaha', 'Type': 'Sports', 'year': 2020}"
      ]
     },
     "execution_count": 59,
     "metadata": {},
     "output_type": "execute_result"
    }
   ],
   "source": [
    "d2"
   ]
  },
  {
   "cell_type": "code",
   "execution_count": 60,
   "id": "6728a7f6-c631-472a-9655-20af97fa6fb0",
   "metadata": {},
   "outputs": [],
   "source": [
    "d5 = {'number':[2,34,56,67], 'assignment':(1,2,3,4), 'launch_date':{28,12,14,23}, 'class_time':{'Maths':8, 'Phy':6, 'Hindi':6, 'English':8}}"
   ]
  },
  {
   "cell_type": "code",
   "execution_count": 61,
   "id": "ea184067-f809-404a-b2bd-661071e0b169",
   "metadata": {},
   "outputs": [
    {
     "data": {
      "text/plain": [
       "{'number': [2, 34, 56, 67],\n",
       " 'assignment': (1, 2, 3, 4),\n",
       " 'launch_date': {12, 14, 23, 28},\n",
       " 'class_time': {'Maths': 8, 'Phy': 6, 'Hindi': 6, 'English': 8}}"
      ]
     },
     "execution_count": 61,
     "metadata": {},
     "output_type": "execute_result"
    }
   ],
   "source": [
    "d5"
   ]
  },
  {
   "cell_type": "markdown",
   "id": "e261ac33-4c4a-4aa4-b930-bcbc5a252800",
   "metadata": {},
   "source": [
    "## Copy a Dictionary"
   ]
  },
  {
   "cell_type": "code",
   "execution_count": 62,
   "id": "6b236822-a199-4751-862b-ab96a1187f2f",
   "metadata": {},
   "outputs": [
    {
     "data": {
      "text/plain": [
       "{'number': [2, 34, 56, 67],\n",
       " 'assignment': (1, 2, 3, 4),\n",
       " 'launch_date': {12, 14, 23, 28},\n",
       " 'class_time': {'Maths': 8, 'Phy': 6, 'Hindi': 6, 'English': 8}}"
      ]
     },
     "execution_count": 62,
     "metadata": {},
     "output_type": "execute_result"
    }
   ],
   "source": [
    "d5"
   ]
  },
  {
   "cell_type": "code",
   "execution_count": 65,
   "id": "a8f02c4d-402f-4f55-8c26-dde1db78c292",
   "metadata": {},
   "outputs": [],
   "source": [
    "d6 = d5.copy()"
   ]
  },
  {
   "cell_type": "code",
   "execution_count": 66,
   "id": "881db1e9-dabd-4b9b-a492-6b2048e7d736",
   "metadata": {},
   "outputs": [
    {
     "data": {
      "text/plain": [
       "{'number': [2, 34, 56, 67],\n",
       " 'assignment': (1, 2, 3, 4),\n",
       " 'launch_date': {12, 14, 23, 28},\n",
       " 'class_time': {'Maths': 8, 'Phy': 6, 'Hindi': 6, 'English': 8}}"
      ]
     },
     "execution_count": 66,
     "metadata": {},
     "output_type": "execute_result"
    }
   ],
   "source": [
    "d6"
   ]
  },
  {
   "cell_type": "markdown",
   "id": "115bc02e-de92-4095-a9eb-a7b10ff435f8",
   "metadata": {},
   "source": [
    "## Working with Empty Dictionary"
   ]
  },
  {
   "cell_type": "code",
   "execution_count": 67,
   "id": "126dd28f-0125-49c5-a223-63c147ab0512",
   "metadata": {},
   "outputs": [],
   "source": [
    "class_room = {}"
   ]
  },
  {
   "cell_type": "code",
   "execution_count": 68,
   "id": "4583e70e-6878-457a-8970-8f9a07dd9499",
   "metadata": {},
   "outputs": [],
   "source": [
    "class_room['student'] = ['Aniruddh', 'Naman', 'Aayush', 'Rishi']\n",
    "class_room['Age'] = [22, 20, 14, 17]\n",
    "class_room['Blood_Group'] = ['O+', 'O+', 'B+', 'B+']"
   ]
  },
  {
   "cell_type": "code",
   "execution_count": 69,
   "id": "d0d7c228-0e6b-4ca9-8056-632f1e796cf9",
   "metadata": {},
   "outputs": [
    {
     "data": {
      "text/plain": [
       "{'student': ['Aniruddh', 'Naman', 'Aayush', 'Rishi'],\n",
       " 'Age': [22, 20, 14, 17],\n",
       " 'Blood_Group': ['O+', 'O+', 'B+', 'B+']}"
      ]
     },
     "execution_count": 69,
     "metadata": {},
     "output_type": "execute_result"
    }
   ],
   "source": [
    "class_room"
   ]
  },
  {
   "cell_type": "code",
   "execution_count": null,
   "id": "e44c8ec1-a37d-4445-a886-a62a4c062134",
   "metadata": {},
   "outputs": [],
   "source": []
  }
 ],
 "metadata": {
  "kernelspec": {
   "display_name": "Python 3 (ipykernel)",
   "language": "python",
   "name": "python3"
  },
  "language_info": {
   "codemirror_mode": {
    "name": "ipython",
    "version": 3
   },
   "file_extension": ".py",
   "mimetype": "text/x-python",
   "name": "python",
   "nbconvert_exporter": "python",
   "pygments_lexer": "ipython3",
   "version": "3.10.8"
  }
 },
 "nbformat": 4,
 "nbformat_minor": 5
}
