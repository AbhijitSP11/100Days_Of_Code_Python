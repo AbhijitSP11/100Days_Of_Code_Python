{
 "cells": [
  {
   "cell_type": "markdown",
   "id": "be0e09e1-9bf1-4926-9da5-d00c123c322f",
   "metadata": {},
   "source": [
    "# Day 11"
   ]
  },
  {
   "cell_type": "markdown",
   "id": "7ee56abd-b205-4d7f-8477-8af3e8aef17a",
   "metadata": {},
   "source": [
    "## Topics going to be cover in Day 10¶\n",
    "- Map Basics\n",
    "- Reduce Function\n",
    "- Filter function"
   ]
  },
  {
   "cell_type": "markdown",
   "id": "d37ffe16-db02-4e07-97a9-7034e9830467",
   "metadata": {},
   "source": [
    "# Map, Reduce Filter Functions"
   ]
  },
  {
   "cell_type": "markdown",
   "id": "f674ce20-d095-44de-95c4-ee91fba706d5",
   "metadata": {},
   "source": [
    "# Map"
   ]
  },
  {
   "cell_type": "code",
   "execution_count": 1,
   "id": "8731cd18-828d-4d50-8600-dbc774be7a51",
   "metadata": {},
   "outputs": [
    {
     "data": {
      "text/plain": [
       "[0, 2, 4, 6, 8, 10]"
      ]
     },
     "execution_count": 1,
     "metadata": {},
     "output_type": "execute_result"
    }
   ],
   "source": [
    "l = list(range(0,11,2))\n",
    "l"
   ]
  },
  {
   "cell_type": "code",
   "execution_count": 2,
   "id": "0339cd7f-438a-453d-be53-a03ed459438f",
   "metadata": {},
   "outputs": [],
   "source": [
    "def sqa(l):\n",
    "    s = []\n",
    "    for i in l:\n",
    "         s.append(i**2)\n",
    "    print(s)"
   ]
  },
  {
   "cell_type": "code",
   "execution_count": 3,
   "id": "7e65a392-a31b-4396-af2a-39b187ceb527",
   "metadata": {},
   "outputs": [
    {
     "name": "stdout",
     "output_type": "stream",
     "text": [
      "[0, 4, 16, 36, 64, 100]\n"
     ]
    }
   ],
   "source": [
    "sqa(l)"
   ]
  },
  {
   "cell_type": "code",
   "execution_count": 4,
   "id": "99368936-a543-473f-9c55-056c7a4a46f2",
   "metadata": {},
   "outputs": [],
   "source": [
    "# Using Map Function\n",
    "def sq(x):\n",
    "    return x**2"
   ]
  },
  {
   "cell_type": "code",
   "execution_count": 5,
   "id": "dd8885e6-44df-4a45-9b72-d5d972d5169b",
   "metadata": {},
   "outputs": [
    {
     "data": {
      "text/plain": [
       "[0, 4, 16, 36, 64, 100]"
      ]
     },
     "execution_count": 5,
     "metadata": {},
     "output_type": "execute_result"
    }
   ],
   "source": [
    "list(map(sq, l))"
   ]
  },
  {
   "cell_type": "code",
   "execution_count": 6,
   "id": "3d0bc86c-6e80-4a23-9cc0-2bf9ef528f87",
   "metadata": {},
   "outputs": [
    {
     "data": {
      "text/plain": [
       "[0, 4, 16, 36, 64, 100]"
      ]
     },
     "execution_count": 6,
     "metadata": {},
     "output_type": "execute_result"
    }
   ],
   "source": [
    "list(map(lambda x: x**2, l))"
   ]
  },
  {
   "cell_type": "code",
   "execution_count": 7,
   "id": "73aa81fc-6e29-4bdb-96e1-e945e4ec6245",
   "metadata": {},
   "outputs": [
    {
     "data": {
      "text/plain": [
       "[7, 9, 11, 13, 15]"
      ]
     },
     "execution_count": 7,
     "metadata": {},
     "output_type": "execute_result"
    }
   ],
   "source": [
    "l1 = [1,2,3,4,5]\n",
    "l2 = [6,7,8,9,10]\n",
    "\n",
    "list(map(lambda x,y : x+y, l1,l2))"
   ]
  },
  {
   "cell_type": "code",
   "execution_count": 8,
   "id": "9d65e2e6-e3a4-4904-a972-46c582e8b565",
   "metadata": {},
   "outputs": [
    {
     "data": {
      "text/plain": [
       "[7, 9, 11, 13, 15]"
      ]
     },
     "execution_count": 8,
     "metadata": {},
     "output_type": "execute_result"
    }
   ],
   "source": [
    "def add(x,y):\n",
    "    return x+y\n",
    "list(map(add, l1,l2))"
   ]
  },
  {
   "cell_type": "code",
   "execution_count": 9,
   "id": "858d74df-d9a9-4944-9e8e-5e881419ff82",
   "metadata": {},
   "outputs": [
    {
     "data": {
      "text/plain": [
       "['a', 'n', 'i', 'r', 'u', 'd', 'd', 'h']"
      ]
     },
     "execution_count": 9,
     "metadata": {},
     "output_type": "execute_result"
    }
   ],
   "source": [
    "s  = \"Aniruddh\"\n",
    "list(map(lambda s:s.lower(),s))"
   ]
  },
  {
   "cell_type": "markdown",
   "id": "a2ba30b1-15d5-4786-9e51-3a3fa789e563",
   "metadata": {},
   "source": [
    "# Reduce"
   ]
  },
  {
   "cell_type": "code",
   "execution_count": 10,
   "id": "1f97b2ab-5f66-4d26-83c6-693b2fb38ab4",
   "metadata": {},
   "outputs": [],
   "source": [
    "from functools import reduce"
   ]
  },
  {
   "cell_type": "code",
   "execution_count": 11,
   "id": "1605103a-52b0-4c54-b5da-251b1a28b112",
   "metadata": {},
   "outputs": [],
   "source": [
    "l = [1,2,3,4,5] # Calculate the sumation"
   ]
  },
  {
   "cell_type": "code",
   "execution_count": 12,
   "id": "677eec83-665e-4c91-982e-2bed8e7bdbf4",
   "metadata": {},
   "outputs": [
    {
     "data": {
      "text/plain": [
       "15"
      ]
     },
     "execution_count": 12,
     "metadata": {},
     "output_type": "execute_result"
    }
   ],
   "source": [
    "reduce(lambda x,y : x+y, l)"
   ]
  },
  {
   "cell_type": "code",
   "execution_count": 15,
   "id": "02c1a6da-78e6-4209-9e07-b38ba0724405",
   "metadata": {},
   "outputs": [
    {
     "ename": "TypeError",
     "evalue": "reduce() of empty iterable with no initial value",
     "output_type": "error",
     "traceback": [
      "\u001b[0;31m---------------------------------------------------------------------------\u001b[0m",
      "\u001b[0;31mTypeError\u001b[0m                                 Traceback (most recent call last)",
      "Cell \u001b[0;32mIn[15], line 1\u001b[0m\n\u001b[0;32m----> 1\u001b[0m \u001b[43mreduce\u001b[49m\u001b[43m(\u001b[49m\u001b[38;5;28;43;01mlambda\u001b[39;49;00m\u001b[43m \u001b[49m\u001b[43mx\u001b[49m\u001b[43m,\u001b[49m\u001b[43my\u001b[49m\u001b[43m \u001b[49m\u001b[43m:\u001b[49m\u001b[43m \u001b[49m\u001b[43mx\u001b[49m\u001b[38;5;241;43m+\u001b[39;49m\u001b[43my\u001b[49m\u001b[43m,\u001b[49m\u001b[43m \u001b[49m\u001b[43m[\u001b[49m\u001b[43m]\u001b[49m\u001b[43m)\u001b[49m\n",
      "\u001b[0;31mTypeError\u001b[0m: reduce() of empty iterable with no initial value"
     ]
    }
   ],
   "source": [
    "reduce(lambda x,y : x+y, [])"
   ]
  },
  {
   "cell_type": "code",
   "execution_count": 16,
   "id": "42ae2028-580a-4404-83fa-7f99113fc1c6",
   "metadata": {},
   "outputs": [
    {
     "data": {
      "text/plain": [
       "1"
      ]
     },
     "execution_count": 16,
     "metadata": {},
     "output_type": "execute_result"
    }
   ],
   "source": [
    "reduce(lambda x,y : x+y, [1])"
   ]
  },
  {
   "cell_type": "code",
   "execution_count": 17,
   "id": "e7918e7e-de50-4ef0-a595-02e92bca4655",
   "metadata": {},
   "outputs": [
    {
     "data": {
      "text/plain": [
       "120"
      ]
     },
     "execution_count": 17,
     "metadata": {},
     "output_type": "execute_result"
    }
   ],
   "source": [
    "reduce(lambda x,y : x*y, l)"
   ]
  },
  {
   "cell_type": "code",
   "execution_count": 18,
   "id": "0e0637c6-da6b-49a7-8652-c25a7718b912",
   "metadata": {},
   "outputs": [
    {
     "data": {
      "text/plain": [
       "5"
      ]
     },
     "execution_count": 18,
     "metadata": {},
     "output_type": "execute_result"
    }
   ],
   "source": [
    "# Find the max number using reduce\n",
    "reduce(lambda x,y :x if x>y else y,l)"
   ]
  },
  {
   "cell_type": "markdown",
   "id": "8f1138f6-c2b8-44b2-8c65-de9f102d2d31",
   "metadata": {},
   "source": [
    "# Filter"
   ]
  },
  {
   "cell_type": "code",
   "execution_count": 19,
   "id": "dc32eddd-d00b-4f05-b38b-4a38a1ab5195",
   "metadata": {},
   "outputs": [
    {
     "data": {
      "text/plain": [
       "[1, 2, 3, 4, 5]"
      ]
     },
     "execution_count": 19,
     "metadata": {},
     "output_type": "execute_result"
    }
   ],
   "source": [
    "l"
   ]
  },
  {
   "cell_type": "code",
   "execution_count": 20,
   "id": "e6554814-3ef8-49d7-a0ff-788b6e860169",
   "metadata": {},
   "outputs": [
    {
     "data": {
      "text/plain": [
       "[2, 4]"
      ]
     },
     "execution_count": 20,
     "metadata": {},
     "output_type": "execute_result"
    }
   ],
   "source": [
    "list(filter(lambda x : x%2 == 0, l))"
   ]
  },
  {
   "cell_type": "code",
   "execution_count": 21,
   "id": "49ab9fb5-5612-41a2-b19d-d564da880764",
   "metadata": {},
   "outputs": [
    {
     "data": {
      "text/plain": [
       "[-1, -2, -5, -6]"
      ]
     },
     "execution_count": 21,
     "metadata": {},
     "output_type": "execute_result"
    }
   ],
   "source": [
    "# Find negative numbers from the list using filter\n",
    "l1 = [1,3,4,5,-1,-2,-5,-6]\n",
    "list(filter(lambda x : x<0, l1))"
   ]
  },
  {
   "cell_type": "code",
   "execution_count": 22,
   "id": "4d335cc2-87c8-4223-a7ca-2212f88ba048",
   "metadata": {},
   "outputs": [
    {
     "data": {
      "text/plain": [
       "['Aniruddh',\n",
       " 'Golu',\n",
       " 'Alisha',\n",
       " 'Gudiya',\n",
       " 'Aniket',\n",
       " 'Chotu',\n",
       " 'Aayush',\n",
       " 'Bhaiyu',\n",
       " 'Rishi',\n",
       " 'Rishu']"
      ]
     },
     "execution_count": 22,
     "metadata": {},
     "output_type": "execute_result"
    }
   ],
   "source": [
    "l2 = ['Aniruddh', 'Golu', 'Alisha', 'Gudiya', 'Aniket', 'Chotu', 'Aayush', 'Bhaiyu', 'Rishi', 'Rishu']\n",
    "l2"
   ]
  },
  {
   "cell_type": "code",
   "execution_count": 23,
   "id": "23dd47a5-441a-4569-b399-7dcf127d7be8",
   "metadata": {},
   "outputs": [
    {
     "data": {
      "text/plain": [
       "['Golu', 'Chotu', 'Rishi', 'Rishu']"
      ]
     },
     "execution_count": 23,
     "metadata": {},
     "output_type": "execute_result"
    }
   ],
   "source": [
    "list(filter(lambda x : len(x)<6, l2))"
   ]
  },
  {
   "cell_type": "code",
   "execution_count": null,
   "id": "55d8d864-72dd-43f5-87eb-2d7bede7bc2e",
   "metadata": {},
   "outputs": [],
   "source": []
  }
 ],
 "metadata": {
  "kernelspec": {
   "display_name": "Python 3 (ipykernel)",
   "language": "python",
   "name": "python3"
  },
  "language_info": {
   "codemirror_mode": {
    "name": "ipython",
    "version": 3
   },
   "file_extension": ".py",
   "mimetype": "text/x-python",
   "name": "python",
   "nbconvert_exporter": "python",
   "pygments_lexer": "ipython3",
   "version": "3.10.8"
  }
 },
 "nbformat": 4,
 "nbformat_minor": 5
}
