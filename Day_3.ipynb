{
 "cells": [
  {
   "cell_type": "markdown",
   "id": "98a70cf1-0021-4528-b41d-e9b221570248",
   "metadata": {},
   "source": [
    "# Day - 3"
   ]
  },
  {
   "cell_type": "markdown",
   "id": "ab6df54d-e21a-488f-8cfd-6b32649145cf",
   "metadata": {},
   "source": [
    "## Topics going to be cover on Day-2\n",
    "- Continue working with list\n",
    "- Exploring loop with list, list Slicing and List Comprehension\n",
    "- range()\n",
    "- Tuple\n",
    "- statistical operation\n",
    "- Solved some questions related to List and Tuple"
   ]
  },
  {
   "cell_type": "markdown",
   "id": "93192730-7269-4597-9c4e-f3c4911c81ee",
   "metadata": {},
   "source": [
    "## Looping Through an Entire List"
   ]
  },
  {
   "cell_type": "code",
   "execution_count": 1,
   "id": "5afc8f47-760b-4897-9ec1-de7f99de69ba",
   "metadata": {},
   "outputs": [
    {
     "name": "stdout",
     "output_type": "stream",
     "text": [
      "['Aniruddh', 'Abhijit', 'Sidhika', 'Ujjwal']\n"
     ]
    }
   ],
   "source": [
    "names = ['Aniruddh', 'Abhijit', 'Sidhika', 'Ujjwal']\n",
    "print(names)"
   ]
  },
  {
   "cell_type": "code",
   "execution_count": 2,
   "id": "2924e6d7-ccc3-42f2-882b-837311704843",
   "metadata": {},
   "outputs": [
    {
     "name": "stdout",
     "output_type": "stream",
     "text": [
      "Aniruddh\n",
      "Abhijit\n",
      "Sidhika\n",
      "Ujjwal\n"
     ]
    }
   ],
   "source": [
    "for name in names: ## in this for loop the python get commond that pull the names from the list names varible and associat it to the new vaible name\n",
    "    print(name) # telling python to repet the for loop till all the elements from the list get priented"
   ]
  },
  {
   "cell_type": "markdown",
   "id": "948d658b-1db9-41b3-b1d5-06f8b72119b2",
   "metadata": {},
   "source": [
    "### using f string with list and loop"
   ]
  },
  {
   "cell_type": "code",
   "execution_count": 3,
   "id": "1182f3e2-46d7-44cc-96de-f0e37e197480",
   "metadata": {},
   "outputs": [
    {
     "name": "stdout",
     "output_type": "stream",
     "text": [
      "Aniruddh, How are you\n",
      "Abhijit, How are you\n",
      "Sidhika, How are you\n",
      "Ujjwal, How are you\n"
     ]
    }
   ],
   "source": [
    "names = ['Aniruddh', 'Abhijit', 'Sidhika', 'Ujjwal']\n",
    "for name in names:\n",
    "    print(f\"{name.title()}, How are you\")"
   ]
  },
  {
   "cell_type": "code",
   "execution_count": 4,
   "id": "414b5efb-e71a-4296-93a9-184eaee87953",
   "metadata": {},
   "outputs": [
    {
     "name": "stdout",
     "output_type": "stream",
     "text": [
      "Arjun, How are you\n",
      "How was your trip Arjun\n",
      "\n",
      "Arun, How are you\n",
      "How was your trip Arun\n",
      "\n",
      "Akash, How are you\n",
      "How was your trip Akash\n",
      "\n"
     ]
    }
   ],
   "source": [
    "names = ['Arjun', 'Arun', 'Akash']\n",
    "for name in names:\n",
    "    print(f\"{name.title()}, How are you\")\n",
    "    print(f\"How was your trip {name.title()}\\n\")"
   ]
  },
  {
   "cell_type": "markdown",
   "id": "df02b1e1-032f-456b-8cfa-c56ca9f2dee7",
   "metadata": {},
   "source": [
    "### Doing Something After a for Loop"
   ]
  },
  {
   "cell_type": "code",
   "execution_count": 5,
   "id": "4352a7fa-3846-42b9-be75-ad95051c77e3",
   "metadata": {},
   "outputs": [
    {
     "name": "stdout",
     "output_type": "stream",
     "text": [
      "Arjun, How are you\n",
      "How was your trip Arjun\n",
      "\n",
      "Arun, How are you\n",
      "How was your trip Arun\n",
      "\n",
      "Akash, How are you\n",
      "How was your trip Akash\n",
      "\n",
      "Thank You for seeing this message\n"
     ]
    }
   ],
   "source": [
    "names = ['Arjun', 'Arun', 'Akash']\n",
    "for name in names:\n",
    "    print(f\"{name.title()}, How are you\")\n",
    "    print(f\"How was your trip {name.title()}\\n\")\n",
    "print(\"Thank You for seeing this message\")"
   ]
  },
  {
   "cell_type": "markdown",
   "id": "b2e6a455-d255-4570-b295-5b86a2eac974",
   "metadata": {},
   "source": [
    "## Using range() function in list\n",
    "Python’s range() function makes it easy to generate a series of numbers."
   ]
  },
  {
   "cell_type": "code",
   "execution_count": 6,
   "id": "5abb8da9-04d2-449e-8e77-da1c6176b378",
   "metadata": {},
   "outputs": [
    {
     "data": {
      "text/plain": [
       "range(0, 10)"
      ]
     },
     "execution_count": 6,
     "metadata": {},
     "output_type": "execute_result"
    }
   ],
   "source": [
    "range(10)"
   ]
  },
  {
   "cell_type": "code",
   "execution_count": 7,
   "id": "2653dfd7-3130-4aa4-9eda-9c16f25c5beb",
   "metadata": {},
   "outputs": [
    {
     "data": {
      "text/plain": [
       "[0, 1, 2, 3, 4, 5, 6, 7, 8, 9]"
      ]
     },
     "execution_count": 7,
     "metadata": {},
     "output_type": "execute_result"
    }
   ],
   "source": [
    "list(range(10))"
   ]
  },
  {
   "cell_type": "code",
   "execution_count": 8,
   "id": "53878d15-8a15-499e-930a-a2a0787de410",
   "metadata": {},
   "outputs": [
    {
     "data": {
      "text/plain": [
       "[1, 2, 3, 4, 5, 6, 7, 8, 9]"
      ]
     },
     "execution_count": 8,
     "metadata": {},
     "output_type": "execute_result"
    }
   ],
   "source": [
    "list(range(1,10))"
   ]
  },
  {
   "cell_type": "code",
   "execution_count": 9,
   "id": "8026f6a3-e700-49d4-9f1b-7ff0920a05ef",
   "metadata": {},
   "outputs": [
    {
     "data": {
      "text/plain": [
       "[1, 2, 3, 4, 5, 6, 7, 8, 9, 10]"
      ]
     },
     "execution_count": 9,
     "metadata": {},
     "output_type": "execute_result"
    }
   ],
   "source": [
    "list(range(1,11))"
   ]
  },
  {
   "cell_type": "code",
   "execution_count": 10,
   "id": "23e0e099-9a19-4bc4-ab74-b6e28de31395",
   "metadata": {},
   "outputs": [
    {
     "ename": "SyntaxError",
     "evalue": "invalid syntax (555971211.py, line 1)",
     "output_type": "error",
     "traceback": [
      "\u001b[0;36m  Cell \u001b[0;32mIn[10], line 1\u001b[0;36m\u001b[0m\n\u001b[0;31m    list(range(0:11:2)) # you cant do jumping in theis way range function\u001b[0m\n\u001b[0m                ^\u001b[0m\n\u001b[0;31mSyntaxError\u001b[0m\u001b[0;31m:\u001b[0m invalid syntax\n"
     ]
    }
   ],
   "source": [
    "list(range(0:11:2)) # you cant do jumping in theis way range function"
   ]
  },
  {
   "cell_type": "code",
   "execution_count": 11,
   "id": "c1f0dcab-44ae-4763-877e-fbd1771fbdff",
   "metadata": {},
   "outputs": [
    {
     "data": {
      "text/plain": [
       "[0, 2, 4, 6, 8, 10]"
      ]
     },
     "execution_count": 11,
     "metadata": {},
     "output_type": "execute_result"
    }
   ],
   "source": [
    "list(range(0,11,2)) # Jumping in the range function"
   ]
  },
  {
   "cell_type": "code",
   "execution_count": 12,
   "id": "8fd701b8-d905-4c1a-bb73-b34028d86bdd",
   "metadata": {},
   "outputs": [
    {
     "data": {
      "text/plain": [
       "[]"
      ]
     },
     "execution_count": 12,
     "metadata": {},
     "output_type": "execute_result"
    }
   ],
   "source": [
    "list(range(10,0)) # invalid range"
   ]
  },
  {
   "cell_type": "code",
   "execution_count": 13,
   "id": "422e0d55-4d00-41d4-a15c-b149aa3778da",
   "metadata": {},
   "outputs": [
    {
     "data": {
      "text/plain": [
       "[10, 13, 16, 19, 22, 25, 28, 31, 34, 37, 40, 43]"
      ]
     },
     "execution_count": 13,
     "metadata": {},
     "output_type": "execute_result"
    }
   ],
   "source": [
    "list(range(10,45,3))"
   ]
  },
  {
   "cell_type": "code",
   "execution_count": 14,
   "id": "cfbbe30c-b79b-492c-85da-9e621c9c6733",
   "metadata": {},
   "outputs": [
    {
     "data": {
      "text/plain": [
       "[0, 10, 20, 30, 40]"
      ]
     },
     "execution_count": 14,
     "metadata": {},
     "output_type": "execute_result"
    }
   ],
   "source": [
    "list(range(0,50,10))"
   ]
  },
  {
   "cell_type": "code",
   "execution_count": 15,
   "id": "08c65d3f-8c1f-4ce9-8895-1ce9e14e9864",
   "metadata": {},
   "outputs": [
    {
     "name": "stdout",
     "output_type": "stream",
     "text": [
      "[100, 110, 120, 130, 140, 150, 160, 170, 180, 190, 200]\n"
     ]
    }
   ],
   "source": [
    "x = list(range(100,201,10))\n",
    "print(x)"
   ]
  },
  {
   "cell_type": "code",
   "execution_count": 16,
   "id": "59f70028-c886-499c-b25a-169fbe161ce3",
   "metadata": {},
   "outputs": [
    {
     "ename": "TypeError",
     "evalue": "'str' object cannot be interpreted as an integer",
     "output_type": "error",
     "traceback": [
      "\u001b[0;31m---------------------------------------------------------------------------\u001b[0m",
      "\u001b[0;31mTypeError\u001b[0m                                 Traceback (most recent call last)",
      "Cell \u001b[0;32mIn[16], line 1\u001b[0m\n\u001b[0;32m----> 1\u001b[0m x \u001b[38;5;241m=\u001b[39m \u001b[38;5;28mlist\u001b[39m(\u001b[38;5;28;43mrange\u001b[39;49m\u001b[43m(\u001b[49m\u001b[38;5;124;43m'\u001b[39;49m\u001b[38;5;124;43ma\u001b[39;49m\u001b[38;5;124;43m'\u001b[39;49m\u001b[43m,\u001b[49m\u001b[38;5;124;43m'\u001b[39;49m\u001b[38;5;124;43md\u001b[39;49m\u001b[38;5;124;43m'\u001b[39;49m\u001b[43m)\u001b[49m) \u001b[38;5;66;03m## the range function will only take numbers not string\u001b[39;00m\n\u001b[1;32m      2\u001b[0m \u001b[38;5;28mprint\u001b[39m(x)\n",
      "\u001b[0;31mTypeError\u001b[0m: 'str' object cannot be interpreted as an integer"
     ]
    }
   ],
   "source": [
    "x = list(range('a','d')) ## the range function will only take numbers not string\n",
    "print(x)"
   ]
  },
  {
   "cell_type": "code",
   "execution_count": 17,
   "id": "9ffd723f-30a7-46a1-9b81-6fc551a07c3d",
   "metadata": {},
   "outputs": [
    {
     "ename": "TypeError",
     "evalue": "'float' object cannot be interpreted as an integer",
     "output_type": "error",
     "traceback": [
      "\u001b[0;31m---------------------------------------------------------------------------\u001b[0m",
      "\u001b[0;31mTypeError\u001b[0m                                 Traceback (most recent call last)",
      "Cell \u001b[0;32mIn[17], line 1\u001b[0m\n\u001b[0;32m----> 1\u001b[0m x \u001b[38;5;241m=\u001b[39m \u001b[38;5;28mlist\u001b[39m(\u001b[38;5;28;43mrange\u001b[39;49m\u001b[43m(\u001b[49m\u001b[38;5;241;43m1.6\u001b[39;49m\u001b[43m,\u001b[49m\u001b[38;5;241;43m45.6\u001b[39;49m\u001b[43m)\u001b[49m) \u001b[38;5;66;03m## the range function will only take numbers not string and not float it takes only whole numbers\u001b[39;00m\n\u001b[1;32m      2\u001b[0m \u001b[38;5;28mprint\u001b[39m(x)\n",
      "\u001b[0;31mTypeError\u001b[0m: 'float' object cannot be interpreted as an integer"
     ]
    }
   ],
   "source": [
    "x = list(range(1.6,45.6)) ## the range function will only take numbers not string and not float it takes only whole numbers\n",
    "print(x)"
   ]
  },
  {
   "cell_type": "code",
   "execution_count": 18,
   "id": "8beab058-b4d0-470d-8bf0-75ca3ea37230",
   "metadata": {},
   "outputs": [
    {
     "data": {
      "text/plain": [
       "range(0, 10)"
      ]
     },
     "execution_count": 18,
     "metadata": {},
     "output_type": "execute_result"
    }
   ],
   "source": [
    "range(10)"
   ]
  },
  {
   "cell_type": "markdown",
   "id": "dac16cf8-6e34-4f3a-8c19-28c1ccf75de0",
   "metadata": {},
   "source": [
    "### Using loop in range"
   ]
  },
  {
   "cell_type": "code",
   "execution_count": 19,
   "id": "c8929982-3c35-4bea-99d0-c966477b99b0",
   "metadata": {},
   "outputs": [
    {
     "name": "stdout",
     "output_type": "stream",
     "text": [
      "0\n",
      "1\n",
      "2\n",
      "3\n",
      "4\n",
      "5\n",
      "6\n",
      "7\n",
      "8\n",
      "9\n"
     ]
    }
   ],
   "source": [
    "for value in range(10):\n",
    "    print(value)"
   ]
  },
  {
   "cell_type": "code",
   "execution_count": 20,
   "id": "81990255-2758-41db-b0ed-c56e85132c2f",
   "metadata": {},
   "outputs": [
    {
     "name": "stdout",
     "output_type": "stream",
     "text": [
      "0\n",
      "1\n",
      "2\n",
      "3\n",
      "4\n",
      "5\n",
      "6\n",
      "7\n",
      "8\n",
      "9\n",
      "10\n"
     ]
    }
   ],
   "source": [
    "for value in range(0,11):\n",
    "    print(value)"
   ]
  },
  {
   "cell_type": "code",
   "execution_count": 21,
   "id": "a27890ab-b9db-4efc-a774-4f55897ab0f2",
   "metadata": {},
   "outputs": [
    {
     "name": "stdout",
     "output_type": "stream",
     "text": [
      "0\n",
      "2\n",
      "4\n",
      "6\n",
      "8\n",
      "10\n"
     ]
    }
   ],
   "source": [
    "for value in range(0,11,2):\n",
    "    print(value)"
   ]
  },
  {
   "cell_type": "code",
   "execution_count": 22,
   "id": "92c63f64-feb5-4e0d-b5e8-8f91d7489714",
   "metadata": {},
   "outputs": [
    {
     "name": "stdout",
     "output_type": "stream",
     "text": [
      "0\n",
      "3\n",
      "6\n",
      "9\n"
     ]
    }
   ],
   "source": [
    "for value in range(0,11,3):\n",
    "    print(value)"
   ]
  },
  {
   "cell_type": "code",
   "execution_count": 23,
   "id": "8c5dce9f-c84b-49c4-960f-4e8bee9c6c37",
   "metadata": {},
   "outputs": [],
   "source": [
    "for x in range(-1,-5):\n",
    "    print(x)"
   ]
  },
  {
   "cell_type": "code",
   "execution_count": 24,
   "id": "e87fdee8-01bc-4ad6-916a-124a6120cacc",
   "metadata": {},
   "outputs": [
    {
     "name": "stdout",
     "output_type": "stream",
     "text": [
      "1\n",
      "2\n",
      "3\n",
      "4\n"
     ]
    }
   ],
   "source": [
    "for x in range(1,5):\n",
    "    print(x)"
   ]
  },
  {
   "cell_type": "code",
   "execution_count": 25,
   "id": "bbb6fc4e-765c-44af-9666-7909297dc87f",
   "metadata": {},
   "outputs": [],
   "source": [
    "for x in range(1,-1):\n",
    "    print(x)"
   ]
  },
  {
   "cell_type": "code",
   "execution_count": 26,
   "id": "1ac7a60f-5063-4b32-a9f6-2f87eb4bd8b7",
   "metadata": {},
   "outputs": [
    {
     "name": "stdout",
     "output_type": "stream",
     "text": [
      "0\n",
      "1\n",
      "2\n",
      "3\n",
      "4\n",
      "5\n",
      "6\n",
      "7\n",
      "8\n",
      "9\n"
     ]
    }
   ],
   "source": [
    "for x in list(range(0,10)):\n",
    "    print(x)"
   ]
  },
  {
   "cell_type": "code",
   "execution_count": 27,
   "id": "57a43740-e2f4-4b89-9bb7-b8ea86590919",
   "metadata": {},
   "outputs": [
    {
     "name": "stdout",
     "output_type": "stream",
     "text": [
      "0\n",
      "1\n",
      "2\n",
      "3\n",
      "4\n",
      "5\n",
      "6\n",
      "7\n",
      "8\n",
      "9\n",
      "10\n"
     ]
    }
   ],
   "source": [
    "for x in range(0,11):\n",
    "    y = x\n",
    "    print(y)"
   ]
  },
  {
   "cell_type": "markdown",
   "id": "ceb84082-06d0-4815-a95e-c096917a88f6",
   "metadata": {},
   "source": [
    "### Appending the blank list using loop and range() function"
   ]
  },
  {
   "cell_type": "code",
   "execution_count": 28,
   "id": "e699fd6d-2aaa-4950-aafa-8088cee834dc",
   "metadata": {},
   "outputs": [
    {
     "name": "stdout",
     "output_type": "stream",
     "text": [
      "[0]\n",
      "[0, 1]\n",
      "[0, 1, 4]\n",
      "[0, 1, 4, 9]\n",
      "[0, 1, 4, 9, 16]\n",
      "[0, 1, 4, 9, 16, 25]\n",
      "[0, 1, 4, 9, 16, 25, 36]\n",
      "[0, 1, 4, 9, 16, 25, 36, 49]\n",
      "[0, 1, 4, 9, 16, 25, 36, 49, 64]\n",
      "[0, 1, 4, 9, 16, 25, 36, 49, 64, 81]\n",
      "[0, 1, 4, 9, 16, 25, 36, 49, 64, 81, 100]\n"
     ]
    }
   ],
   "source": [
    "squar = []\n",
    "for x in range(0,11):\n",
    "    sq = x**2\n",
    "    squar.append(sq)\n",
    "    print(squar)"
   ]
  },
  {
   "cell_type": "code",
   "execution_count": 29,
   "id": "1f02b65f-19b6-41d7-ae93-24a9693ddf3b",
   "metadata": {},
   "outputs": [
    {
     "name": "stdout",
     "output_type": "stream",
     "text": [
      "[0, 1, 4, 9, 16, 25, 36, 49, 64, 81, 100]\n"
     ]
    }
   ],
   "source": [
    "squar = []\n",
    "for x in range(0,11):\n",
    "    sq = x**2\n",
    "    squar.append(sq)\n",
    "print(squar)"
   ]
  },
  {
   "cell_type": "code",
   "execution_count": 30,
   "id": "30dc5e43-ee82-488f-b5a6-b0131bc8d568",
   "metadata": {},
   "outputs": [
    {
     "name": "stdout",
     "output_type": "stream",
     "text": [
      "[0]\n",
      "[0, 1]\n",
      "[0, 1, 2]\n",
      "[0, 1, 2, 3]\n",
      "[0, 1, 2, 3, 4]\n",
      "[0, 1, 2, 3, 4, 5]\n",
      "[0, 1, 2, 3, 4, 5, 6]\n",
      "[0, 1, 2, 3, 4, 5, 6, 7]\n",
      "[0, 1, 2, 3, 4, 5, 6, 7, 8]\n",
      "[0, 1, 2, 3, 4, 5, 6, 7, 8, 9]\n",
      "[0, 1, 2, 3, 4, 5, 6, 7, 8, 9, 10]\n"
     ]
    }
   ],
   "source": [
    "squar = []\n",
    "for x in range(0,11):\n",
    "   ## sq = x**2\n",
    "    squar.append(x)\n",
    "    print(squar)"
   ]
  },
  {
   "cell_type": "code",
   "execution_count": 31,
   "id": "31535f16-bf1d-4390-9f37-ebef94ccf30a",
   "metadata": {},
   "outputs": [
    {
     "name": "stdout",
     "output_type": "stream",
     "text": [
      "[0, 1, 2, 3, 4, 5, 6, 7, 8, 9, 10]\n"
     ]
    }
   ],
   "source": [
    "squar = []\n",
    "for x in range(0,11):\n",
    "   ## sq = x**2\n",
    "    squar.append(x)\n",
    "print(squar)"
   ]
  },
  {
   "cell_type": "code",
   "execution_count": 32,
   "id": "6bf9ed77-6c62-4d01-a508-631134ea25c4",
   "metadata": {},
   "outputs": [
    {
     "name": "stdout",
     "output_type": "stream",
     "text": [
      "[0, 1, 4, 9, 16, 25, 36, 49, 64, 81, 100]\n"
     ]
    }
   ],
   "source": [
    "squar = []\n",
    "for x in range(0,11):\n",
    "    sq = x**2\n",
    "    squar.append(sq)\n",
    "print(squar)"
   ]
  },
  {
   "cell_type": "code",
   "execution_count": 33,
   "id": "3f9344c7-44ff-4041-b77f-c6463498bf54",
   "metadata": {},
   "outputs": [
    {
     "name": "stdout",
     "output_type": "stream",
     "text": [
      "[0, 1, 4, 9, 16, 25, 36, 49, 64, 81, 100]\n"
     ]
    }
   ],
   "source": [
    "squar = []\n",
    "for x in range(0,11):\n",
    "    squar.append(x**2)\n",
    "print(squar)"
   ]
  },
  {
   "cell_type": "markdown",
   "id": "6e3e1f96-7a22-42db-8182-2a151299e8cc",
   "metadata": {},
   "source": [
    "### Simple Statistics with a List of Numbers"
   ]
  },
  {
   "cell_type": "code",
   "execution_count": 34,
   "id": "3dfc4949-8328-4558-9e56-cbaed984d8c9",
   "metadata": {},
   "outputs": [
    {
     "name": "stdout",
     "output_type": "stream",
     "text": [
      "[0, 1, 2, 3, 4, 5, 6, 7, 8, 9, 10, 11, 12, 13, 14, 15, 16, 17, 18, 19, 20, 21, 22, 23, 24, 25, 26, 27, 28, 29, 30, 31, 32, 33, 34, 35, 36, 37, 38, 39]\n"
     ]
    }
   ],
   "source": [
    "x = []\n",
    "for i in range(0,40):\n",
    "    x.append(i)\n",
    "print(x)"
   ]
  },
  {
   "cell_type": "code",
   "execution_count": 35,
   "id": "59f122a7-c04e-408d-a254-0e25ddd4ef9c",
   "metadata": {},
   "outputs": [
    {
     "data": {
      "text/plain": [
       "0"
      ]
     },
     "execution_count": 35,
     "metadata": {},
     "output_type": "execute_result"
    }
   ],
   "source": [
    "min(x)"
   ]
  },
  {
   "cell_type": "code",
   "execution_count": 36,
   "id": "21f95bc8-8759-4988-a38b-ef0105774592",
   "metadata": {},
   "outputs": [
    {
     "data": {
      "text/plain": [
       "39"
      ]
     },
     "execution_count": 36,
     "metadata": {},
     "output_type": "execute_result"
    }
   ],
   "source": [
    "max(x)"
   ]
  },
  {
   "cell_type": "code",
   "execution_count": 37,
   "id": "da42f3ad-3fb6-40e1-a88d-cb1a384a97c4",
   "metadata": {},
   "outputs": [
    {
     "data": {
      "text/plain": [
       "780"
      ]
     },
     "execution_count": 37,
     "metadata": {},
     "output_type": "execute_result"
    }
   ],
   "source": [
    "sum(x)"
   ]
  },
  {
   "cell_type": "markdown",
   "id": "c2d48a5e-91b5-4a1b-846b-43f7805b10bf",
   "metadata": {},
   "source": [
    "### List Comprehensions"
   ]
  },
  {
   "cell_type": "code",
   "execution_count": 38,
   "id": "c6b33b60-dd9f-4849-89ae-15923ec383d0",
   "metadata": {},
   "outputs": [
    {
     "data": {
      "text/plain": [
       "['Golu', 'Abhijit', 'Kshitij', 'Vaibhav']"
      ]
     },
     "execution_count": 38,
     "metadata": {},
     "output_type": "execute_result"
    }
   ],
   "source": [
    "name = ['Golu', 'Abhijit', 'Kshitij', 'Vaibhav']\n",
    "new = [x for x in name]\n",
    "new"
   ]
  },
  {
   "cell_type": "code",
   "execution_count": 39,
   "id": "76f8871c-9f89-4826-b69e-f2cf90a3b140",
   "metadata": {},
   "outputs": [
    {
     "data": {
      "text/plain": [
       "[0, 1, 2, 3, 4, 5, 6, 7, 8, 9]"
      ]
     },
     "execution_count": 39,
     "metadata": {},
     "output_type": "execute_result"
    }
   ],
   "source": [
    "new2 = [x for x in range(10)]\n",
    "new2"
   ]
  },
  {
   "cell_type": "code",
   "execution_count": 40,
   "id": "bba18055-2336-4582-b72b-0721ed706389",
   "metadata": {},
   "outputs": [],
   "source": [
    "new3 = [x for x in name if x == \"Golu\"]"
   ]
  },
  {
   "cell_type": "code",
   "execution_count": 41,
   "id": "13e7d316-c8e2-43a6-b36f-b20de76488cb",
   "metadata": {},
   "outputs": [
    {
     "data": {
      "text/plain": [
       "['Golu']"
      ]
     },
     "execution_count": 41,
     "metadata": {},
     "output_type": "execute_result"
    }
   ],
   "source": [
    "new3"
   ]
  },
  {
   "cell_type": "code",
   "execution_count": 42,
   "id": "e895c7b7-c7c1-4266-b2f7-93c8f51ab5ba",
   "metadata": {},
   "outputs": [],
   "source": [
    "new3 = [x for x in name if x != \"Golu\"]"
   ]
  },
  {
   "cell_type": "code",
   "execution_count": 43,
   "id": "0a75b7b6-f35f-4f6e-8bce-b6e2972eff95",
   "metadata": {},
   "outputs": [
    {
     "data": {
      "text/plain": [
       "['Abhijit', 'Kshitij', 'Vaibhav']"
      ]
     },
     "execution_count": 43,
     "metadata": {},
     "output_type": "execute_result"
    }
   ],
   "source": [
    "new3"
   ]
  },
  {
   "cell_type": "code",
   "execution_count": 44,
   "id": "2ea20cdd-4cdb-41d6-aa99-11005ef495bc",
   "metadata": {},
   "outputs": [],
   "source": [
    "new4 = [x for x in range(0,11) if x<12]"
   ]
  },
  {
   "cell_type": "code",
   "execution_count": 45,
   "id": "58a94176-8e63-4f6f-a46d-ce7e042f0126",
   "metadata": {},
   "outputs": [
    {
     "data": {
      "text/plain": [
       "[0, 1, 2, 3, 4, 5, 6, 7, 8, 9, 10]"
      ]
     },
     "execution_count": 45,
     "metadata": {},
     "output_type": "execute_result"
    }
   ],
   "source": [
    "new4"
   ]
  },
  {
   "cell_type": "code",
   "execution_count": 46,
   "id": "59effffe-d037-4ad4-a1b9-5ea6bb79fbf1",
   "metadata": {},
   "outputs": [],
   "source": [
    "new4 = [x**2 for x in range(0,11) if x<12]"
   ]
  },
  {
   "cell_type": "code",
   "execution_count": 47,
   "id": "b803df08-1a03-46bf-b8d0-be0b6a285439",
   "metadata": {},
   "outputs": [
    {
     "data": {
      "text/plain": [
       "[0, 1, 4, 9, 16, 25, 36, 49, 64, 81, 100]"
      ]
     },
     "execution_count": 47,
     "metadata": {},
     "output_type": "execute_result"
    }
   ],
   "source": [
    "new4"
   ]
  },
  {
   "cell_type": "code",
   "execution_count": 48,
   "id": "f9d97caf-3e25-4310-82a3-4e1e6f0f2460",
   "metadata": {},
   "outputs": [],
   "source": [
    "new4 = [x+2 for x in range(0,11) if x<12]"
   ]
  },
  {
   "cell_type": "code",
   "execution_count": 49,
   "id": "51aa9fbd-d9cc-4bc7-9587-b17f02ae913b",
   "metadata": {},
   "outputs": [
    {
     "data": {
      "text/plain": [
       "[2, 3, 4, 5, 6, 7, 8, 9, 10, 11, 12]"
      ]
     },
     "execution_count": 49,
     "metadata": {},
     "output_type": "execute_result"
    }
   ],
   "source": [
    "new4"
   ]
  },
  {
   "cell_type": "code",
   "execution_count": 50,
   "id": "867488cf-51d3-41d5-bbd6-9e30261ed34b",
   "metadata": {},
   "outputs": [
    {
     "name": "stdout",
     "output_type": "stream",
     "text": [
      "['a', 'b', 'c']\n",
      "['a', 'b', 'c']\n"
     ]
    }
   ],
   "source": [
    "x = ['a', 'b', 'c']\n",
    "y = x[:] ## this method helps me to copy the list without distroying the orignal list\n",
    "print(x)\n",
    "print(y)"
   ]
  },
  {
   "cell_type": "markdown",
   "id": "d796b43b-84d1-4ea1-a156-b513b6935d2e",
   "metadata": {},
   "source": [
    "### Using loop in list Sliceing"
   ]
  },
  {
   "cell_type": "code",
   "execution_count": 51,
   "id": "54af38cc-8672-4e7e-ac69-e091fffe7c67",
   "metadata": {},
   "outputs": [
    {
     "data": {
      "text/plain": [
       "['Golu', 'Abhijit', 'Kshitij', 'Vaibhav']"
      ]
     },
     "execution_count": 51,
     "metadata": {},
     "output_type": "execute_result"
    }
   ],
   "source": [
    "name"
   ]
  },
  {
   "cell_type": "code",
   "execution_count": 52,
   "id": "66d038d7-a503-4655-a090-fc8b0d376310",
   "metadata": {},
   "outputs": [
    {
     "name": "stdout",
     "output_type": "stream",
     "text": [
      "Golu\n",
      "Abhijit\n",
      "Kshitij\n"
     ]
    }
   ],
   "source": [
    "for nams in name[0:3]:\n",
    "    print(nams)"
   ]
  },
  {
   "cell_type": "code",
   "execution_count": 53,
   "id": "abe83af9-f299-4edf-bc4a-93fd96fad8e3",
   "metadata": {},
   "outputs": [
    {
     "name": "stdout",
     "output_type": "stream",
     "text": [
      "V\n",
      "a\n",
      "i\n",
      "b\n",
      "h\n",
      "a\n",
      "v\n"
     ]
    }
   ],
   "source": [
    "for nams in name[-1]:\n",
    "    print(nams)"
   ]
  },
  {
   "cell_type": "code",
   "execution_count": 54,
   "id": "781d137d-1fe1-43f9-a390-21b017b3aeee",
   "metadata": {},
   "outputs": [
    {
     "name": "stdout",
     "output_type": "stream",
     "text": [
      "Vaibhav\n",
      "Kshitij\n",
      "Abhijit\n",
      "Golu\n"
     ]
    }
   ],
   "source": [
    "for nams in name[::-1]:\n",
    "    print(nams)"
   ]
  },
  {
   "cell_type": "markdown",
   "id": "7b10b77b-7892-42bc-8633-b9d311ce8a22",
   "metadata": {},
   "source": [
    "## Tuple\n",
    "Tuple is like list but immutable we can not do any changes in tuple"
   ]
  },
  {
   "cell_type": "code",
   "execution_count": 55,
   "id": "a8b95d44-32c5-48ea-a646-a1b1d3e142f0",
   "metadata": {},
   "outputs": [
    {
     "data": {
      "text/plain": [
       "('Aniruddh', 'Ayush', 'Kshitij', 'Vaibhav', 'Abhijt', 'Ujjwal')"
      ]
     },
     "execution_count": 55,
     "metadata": {},
     "output_type": "execute_result"
    }
   ],
   "source": [
    "x = ('Aniruddh', 'Ayush','Kshitij', 'Vaibhav', 'Abhijt', 'Ujjwal')\n",
    "x"
   ]
  },
  {
   "cell_type": "markdown",
   "id": "e206e94f-9518-46b9-b4ab-aa8ab457c92a",
   "metadata": {},
   "source": [
    "### Accessing the tuple using indexing "
   ]
  },
  {
   "cell_type": "code",
   "execution_count": 56,
   "id": "c3f06bf3-b3f0-4a93-83d0-8bc3949f2f4a",
   "metadata": {},
   "outputs": [
    {
     "data": {
      "text/plain": [
       "'Aniruddh'"
      ]
     },
     "execution_count": 56,
     "metadata": {},
     "output_type": "execute_result"
    }
   ],
   "source": [
    "x[0]"
   ]
  },
  {
   "cell_type": "code",
   "execution_count": 57,
   "id": "89de7e9c-c351-4215-8e87-d6caa461a33a",
   "metadata": {},
   "outputs": [
    {
     "data": {
      "text/plain": [
       "'Ujjwal'"
      ]
     },
     "execution_count": 57,
     "metadata": {},
     "output_type": "execute_result"
    }
   ],
   "source": [
    "x[-1]"
   ]
  },
  {
   "cell_type": "code",
   "execution_count": 58,
   "id": "41831a92-7295-4e24-bc0b-98804f42c6a0",
   "metadata": {},
   "outputs": [
    {
     "data": {
      "text/plain": [
       "('Vaibhav', 'Abhijt', 'Ujjwal')"
      ]
     },
     "execution_count": 58,
     "metadata": {},
     "output_type": "execute_result"
    }
   ],
   "source": [
    "x[3:]"
   ]
  },
  {
   "cell_type": "code",
   "execution_count": 59,
   "id": "7caa1d8a-e491-493c-ac48-8bec8ba8b476",
   "metadata": {},
   "outputs": [
    {
     "data": {
      "text/plain": [
       "('Kshitij', 'Vaibhav')"
      ]
     },
     "execution_count": 59,
     "metadata": {},
     "output_type": "execute_result"
    }
   ],
   "source": [
    "x[2:4]"
   ]
  },
  {
   "cell_type": "code",
   "execution_count": 60,
   "id": "c465f5a8-a0e8-4c08-b841-61850b5e7028",
   "metadata": {},
   "outputs": [
    {
     "data": {
      "text/plain": [
       "('Ujjwal', 'Abhijt', 'Vaibhav', 'Kshitij', 'Ayush', 'Aniruddh')"
      ]
     },
     "execution_count": 60,
     "metadata": {},
     "output_type": "execute_result"
    }
   ],
   "source": [
    "x[::-1]"
   ]
  },
  {
   "cell_type": "markdown",
   "id": "e4da19fb-ed40-41c0-885f-65a19a846721",
   "metadata": {},
   "source": [
    "### loop in tuple"
   ]
  },
  {
   "cell_type": "code",
   "execution_count": 61,
   "id": "3fe84ca7-7120-41e9-a14e-ab822e3917a2",
   "metadata": {},
   "outputs": [
    {
     "name": "stdout",
     "output_type": "stream",
     "text": [
      "Aniruddh\n",
      "Ayush\n",
      "Kshitij\n",
      "Vaibhav\n",
      "Abhijt\n",
      "Ujjwal\n"
     ]
    }
   ],
   "source": [
    "for i in x:\n",
    "    print(i)"
   ]
  },
  {
   "cell_type": "code",
   "execution_count": 62,
   "id": "91ad4ded-9fd5-4e86-89d4-93e6e0336d7f",
   "metadata": {},
   "outputs": [
    {
     "data": {
      "text/plain": [
       "('apple', 'banana', 'cherry', 'kiwi')"
      ]
     },
     "execution_count": 62,
     "metadata": {},
     "output_type": "execute_result"
    }
   ],
   "source": [
    "# In this way we can update the tuple but it is done by assining the tuple as a list and then assining it back to tuple\n",
    "x = (\"apple\", \"banana\", \"cherry\")\n",
    "y = list(x)\n",
    "y.append('kiwi')\n",
    "x = tuple(y)\n",
    "x"
   ]
  },
  {
   "cell_type": "markdown",
   "id": "afb60ab3-ccaa-4935-beb5-1c05f2a23587",
   "metadata": {},
   "source": [
    "### Q1) Pizzas: Think of at least three kinds of your favorite pizza. Store these pizza names in a list, and then use a for loop to print the name of each pizza.\n",
    "- Modify your for loop to print a sentence using the name of the pizza  instead of printing just the name of the pizza. For each pizza you should have one line of output containing a simple statement like I like pepperoni pizza.\n",
    "- Add a line at the end of your program, outside the for loop, that states how much you like pizza. The output should consist of three or more lines about the kinds of pizza you like and then an additional sentence, such as I really love pizza!"
   ]
  },
  {
   "cell_type": "code",
   "execution_count": 63,
   "id": "a3ed49cc-ea36-4556-b2ab-d523ab918f21",
   "metadata": {},
   "outputs": [
    {
     "name": "stdout",
     "output_type": "stream",
     "text": [
      "I love to eat four Cheese pizza\n",
      "I love to eat Mixican Pizza\n",
      "I love to eat Margherita Pizza\n",
      "I really love pizza!\n"
     ]
    }
   ],
   "source": [
    "pizza = ['four Cheese pizza', 'Mixican Pizza', 'Margherita Pizza']\n",
    "for i in pizza:\n",
    "    print(f\"I love to eat {i}\")\n",
    "print(\"I really love pizza!\")"
   ]
  },
  {
   "cell_type": "markdown",
   "id": "688a8af5-6d96-451a-bb7e-be40fb17a0d7",
   "metadata": {},
   "source": [
    "### Q2) Animals: Think of at least three different animals that have a common characteristic. Store the names of these animals in a list, and then use a for loop to print out the name of each animal.\n",
    "- Modify your program to print a statement about each animal, such as A dog would make a great pet.\n",
    "- Add a line at the end of your program stating what these animals have in common. You could print a sentence such as Any of these animals would make a great pet!\n",
    " "
   ]
  },
  {
   "cell_type": "code",
   "execution_count": 64,
   "id": "1b4dadc8-4e82-4133-b33f-b013b339edec",
   "metadata": {},
   "outputs": [
    {
     "name": "stdout",
     "output_type": "stream",
     "text": [
      "A tiger is from a cat family\n",
      "A lion is from a cat family\n",
      "A cheeta is from a cat family\n",
      "This all animals are from cat family\n"
     ]
    }
   ],
   "source": [
    "animal = ['tiger', 'lion', 'cheeta']\n",
    "for i in animal:\n",
    "    print(f\"A {i} is from a cat family\")\n",
    "print(\"This all animals are from cat family\")"
   ]
  },
  {
   "cell_type": "markdown",
   "id": "3d9e6e5a-1793-4af8-ac8c-8beaab26180f",
   "metadata": {},
   "source": [
    "### Q3) Counting to Twenty: Use a for loop to print the numbers from 1 to 20, inclusive "
   ]
  },
  {
   "cell_type": "code",
   "execution_count": 65,
   "id": "3bddcd53-1f17-4051-9266-8f27a4989d91",
   "metadata": {},
   "outputs": [
    {
     "name": "stdout",
     "output_type": "stream",
     "text": [
      "1\n",
      "2\n",
      "3\n",
      "4\n",
      "5\n",
      "6\n",
      "7\n",
      "8\n",
      "9\n",
      "10\n",
      "11\n",
      "12\n",
      "13\n",
      "14\n",
      "15\n",
      "16\n",
      "17\n",
      "18\n",
      "19\n",
      "20\n"
     ]
    }
   ],
   "source": [
    "for i in range(1,21):\n",
    "    print(i)"
   ]
  },
  {
   "cell_type": "markdown",
   "id": "6a6f1715-e0c7-4993-bc39-5c4a0132cc01",
   "metadata": {},
   "source": [
    "### Q4) One Million: Make a list of the numbers from one to one million, and then use a for loop to print the numbers. (If the output is taking too long, stop it by pressing ctrl-C or by closing the output window.)"
   ]
  },
  {
   "cell_type": "code",
   "execution_count": 1,
   "id": "42a1413e-d3f6-4955-97a5-91ae5be653f9",
   "metadata": {},
   "outputs": [
    {
     "name": "stderr",
     "output_type": "stream",
     "text": [
      "IOPub data rate exceeded.\n",
      "The Jupyter server will temporarily stop sending output\n",
      "to the client in order to avoid crashing it.\n",
      "To change this limit, set the config variable\n",
      "`--ServerApp.iopub_data_rate_limit`.\n",
      "\n",
      "Current values:\n",
      "ServerApp.iopub_data_rate_limit=1000000.0 (bytes/sec)\n",
      "ServerApp.rate_limit_window=3.0 (secs)\n",
      "\n",
      "IOPub data rate exceeded.\n",
      "The Jupyter server will temporarily stop sending output\n",
      "to the client in order to avoid crashing it.\n",
      "To change this limit, set the config variable\n",
      "`--ServerApp.iopub_data_rate_limit`.\n",
      "\n",
      "Current values:\n",
      "ServerApp.iopub_data_rate_limit=1000000.0 (bytes/sec)\n",
      "ServerApp.rate_limit_window=3.0 (secs)\n",
      "\n",
      "IOPub data rate exceeded.\n",
      "The Jupyter server will temporarily stop sending output\n",
      "to the client in order to avoid crashing it.\n",
      "To change this limit, set the config variable\n",
      "`--ServerApp.iopub_data_rate_limit`.\n",
      "\n",
      "Current values:\n",
      "ServerApp.iopub_data_rate_limit=1000000.0 (bytes/sec)\n",
      "ServerApp.rate_limit_window=3.0 (secs)\n",
      "\n",
      "IOPub data rate exceeded.\n",
      "The Jupyter server will temporarily stop sending output\n",
      "to the client in order to avoid crashing it.\n",
      "To change this limit, set the config variable\n",
      "`--ServerApp.iopub_data_rate_limit`.\n",
      "\n",
      "Current values:\n",
      "ServerApp.iopub_data_rate_limit=1000000.0 (bytes/sec)\n",
      "ServerApp.rate_limit_window=3.0 (secs)\n",
      "\n"
     ]
    },
    {
     "ename": "KeyboardInterrupt",
     "evalue": "",
     "output_type": "error",
     "traceback": [
      "\u001b[0;31m---------------------------------------------------------------------------\u001b[0m",
      "\u001b[0;31mKeyboardInterrupt\u001b[0m                         Traceback (most recent call last)",
      "Cell \u001b[0;32mIn[1], line 3\u001b[0m\n\u001b[1;32m      1\u001b[0m x \u001b[38;5;241m=\u001b[39m \u001b[38;5;28mlist\u001b[39m(\u001b[38;5;28mrange\u001b[39m(\u001b[38;5;241m1\u001b[39m,\u001b[38;5;241m1000000\u001b[39m))\n\u001b[1;32m      2\u001b[0m \u001b[38;5;28;01mfor\u001b[39;00m i \u001b[38;5;129;01min\u001b[39;00m x:\n\u001b[0;32m----> 3\u001b[0m     \u001b[38;5;28;43mprint\u001b[39;49m\u001b[43m(\u001b[49m\u001b[43mx\u001b[49m\u001b[43m)\u001b[49m\n",
      "File \u001b[0;32m/opt/conda/lib/python3.10/site-packages/ipykernel/iostream.py:536\u001b[0m, in \u001b[0;36mOutStream.write\u001b[0;34m(self, string)\u001b[0m\n\u001b[1;32m    526\u001b[0m \u001b[38;5;28;01mdef\u001b[39;00m \u001b[38;5;21mwrite\u001b[39m(\u001b[38;5;28mself\u001b[39m, string: \u001b[38;5;28mstr\u001b[39m) \u001b[38;5;241m-\u001b[39m\u001b[38;5;241m>\u001b[39m Optional[\u001b[38;5;28mint\u001b[39m]:  \u001b[38;5;66;03m# type:ignore[override]\u001b[39;00m\n\u001b[1;32m    527\u001b[0m     \u001b[38;5;124;03m\"\"\"Write to current stream after encoding if necessary\u001b[39;00m\n\u001b[1;32m    528\u001b[0m \n\u001b[1;32m    529\u001b[0m \u001b[38;5;124;03m    Returns\u001b[39;00m\n\u001b[0;32m   (...)\u001b[0m\n\u001b[1;32m    533\u001b[0m \n\u001b[1;32m    534\u001b[0m \u001b[38;5;124;03m    \"\"\"\u001b[39;00m\n\u001b[0;32m--> 536\u001b[0m     \u001b[38;5;28;01mif\u001b[39;00m \u001b[38;5;129;01mnot\u001b[39;00m \u001b[38;5;28;43misinstance\u001b[39;49m\u001b[43m(\u001b[49m\u001b[43mstring\u001b[49m\u001b[43m,\u001b[49m\u001b[43m \u001b[49m\u001b[38;5;28;43mstr\u001b[39;49m\u001b[43m)\u001b[49m:\n\u001b[1;32m    537\u001b[0m         \u001b[38;5;28;01mraise\u001b[39;00m \u001b[38;5;167;01mTypeError\u001b[39;00m(\u001b[38;5;124mf\u001b[39m\u001b[38;5;124m\"\u001b[39m\u001b[38;5;124mwrite() argument must be str, not \u001b[39m\u001b[38;5;132;01m{\u001b[39;00m\u001b[38;5;28mtype\u001b[39m(string)\u001b[38;5;132;01m}\u001b[39;00m\u001b[38;5;124m\"\u001b[39m)\n\u001b[1;32m    539\u001b[0m     \u001b[38;5;28;01mif\u001b[39;00m \u001b[38;5;28mself\u001b[39m\u001b[38;5;241m.\u001b[39mecho \u001b[38;5;129;01mis\u001b[39;00m \u001b[38;5;129;01mnot\u001b[39;00m \u001b[38;5;28;01mNone\u001b[39;00m:\n",
      "\u001b[0;31mKeyboardInterrupt\u001b[0m: "
     ]
    }
   ],
   "source": [
    "x = list(range(1,1000000))\n",
    "for i in x:\n",
    "    print(i)"
   ]
  },
  {
   "cell_type": "markdown",
   "id": "b5c33f93-c77b-4b06-b738-a8831747eb9c",
   "metadata": {},
   "source": [
    "### Q5) Summing a Million: Make a list of the numbers from one to one million, and then use min() and max() to make sure your list actually starts at one and ends at one million. Also, use the sum() function to see how quickly Python can add a million numbers."
   ]
  },
  {
   "cell_type": "code",
   "execution_count": 66,
   "id": "5d3753ef-1a54-4828-b56a-dc3557db5df7",
   "metadata": {},
   "outputs": [
    {
     "name": "stdout",
     "output_type": "stream",
     "text": [
      "1\n",
      "10000000\n",
      "50000005000000\n"
     ]
    }
   ],
   "source": [
    "x = list(range(1,10000001))\n",
    "print(min(x))\n",
    "print(max(x))\n",
    "print(sum(x))\n",
    "    "
   ]
  },
  {
   "cell_type": "markdown",
   "id": "dcc91b3f-fbca-4f5c-84db-b4062cbdd610",
   "metadata": {},
   "source": [
    "### Q6) . Odd Numbers: Use the third argument of the range() function to make a list of the odd numbers from 1 to 20. Use a for loop to print each number."
   ]
  },
  {
   "cell_type": "code",
   "execution_count": 67,
   "id": "075f2da9-46fd-4ee5-889b-9f05c6a91d9f",
   "metadata": {},
   "outputs": [
    {
     "name": "stdout",
     "output_type": "stream",
     "text": [
      "1\n",
      "3\n",
      "5\n",
      "7\n",
      "9\n",
      "11\n",
      "13\n",
      "15\n",
      "17\n",
      "19\n"
     ]
    }
   ],
   "source": [
    "x = list(range(1,20,2))\n",
    "for i in x:\n",
    "    print(i)"
   ]
  },
  {
   "cell_type": "markdown",
   "id": "909101b2-c161-4144-bda3-9d5db5253228",
   "metadata": {},
   "source": [
    "### Q7) Threes: Make a list of the multiples of 3 from 3 to 30. Use a for loop to print the numbers in your list."
   ]
  },
  {
   "cell_type": "code",
   "execution_count": 68,
   "id": "08bfdca3-df3e-47e4-ba43-27c59bb6aec2",
   "metadata": {},
   "outputs": [
    {
     "name": "stdout",
     "output_type": "stream",
     "text": [
      "[3, 6, 9, 12, 15, 18, 21, 24, 27, 30]\n"
     ]
    }
   ],
   "source": [
    "x = []\n",
    "for i in range(3,31,3):\n",
    "    y = x.append(i)\n",
    "print(x)"
   ]
  },
  {
   "cell_type": "markdown",
   "id": "f233ba67-0657-434e-9420-cfd892d1153b",
   "metadata": {},
   "source": [
    "### Q8) Cubes: A number raised to the third power is called a cube. For example, the cube of 2 is written as 2**3 in Python. Make a list of the first 10 cubes (that is, the cube of each integer from 1 through 10), and use a for loop to print out the value of each cube."
   ]
  },
  {
   "cell_type": "code",
   "execution_count": 69,
   "id": "ff31df55-50a3-4cbe-81f9-262de59f0d3d",
   "metadata": {},
   "outputs": [
    {
     "name": "stdout",
     "output_type": "stream",
     "text": [
      "[1, 8, 27, 64, 125, 216, 343, 512, 729, 1000]\n"
     ]
    }
   ],
   "source": [
    "x = []\n",
    "for i in range(1,11):\n",
    "    y = x.append(i**3)\n",
    "print(x)"
   ]
  },
  {
   "cell_type": "markdown",
   "id": "83903929-7c15-4369-92ee-4f78bcbc6fc4",
   "metadata": {},
   "source": [
    "### Q9) Cube Comprehension: Use a list comprehension to generate a list of the first 10 cubes."
   ]
  },
  {
   "cell_type": "code",
   "execution_count": 70,
   "id": "d0cb2b83-7daf-4685-b238-21d4b89eea27",
   "metadata": {},
   "outputs": [
    {
     "data": {
      "text/plain": [
       "[0, 1, 8, 27, 64, 125, 216, 343, 512, 729, 1000]"
      ]
     },
     "execution_count": 70,
     "metadata": {},
     "output_type": "execute_result"
    }
   ],
   "source": [
    "cube = [x**3 for x in range(0,11)]\n",
    "cube"
   ]
  },
  {
   "cell_type": "markdown",
   "id": "16f424dd-6c04-4138-9150-5823eb816258",
   "metadata": {},
   "source": [
    "### Q10) Slices: Using one of the programs you wrote in this chapter, add several lines to the end of the program that do the following:\n",
    "- Print the message The first three items in the list are:. Then use a slice to print the first three items from that program’s list.\n",
    "- Print the message Three items from the middle of the list are:. Use a slice toprint three items from the middle of the list.\n",
    "- Print the message The last three items in the list are:. Use a slice to print the last three items in the list."
   ]
  },
  {
   "cell_type": "code",
   "execution_count": 71,
   "id": "31fa4c4b-c547-4165-9356-7d6150a9f115",
   "metadata": {},
   "outputs": [
    {
     "name": "stdout",
     "output_type": "stream",
     "text": [
      "The first three items in the list are: \n",
      "['a', 'b', 'c']\n"
     ]
    }
   ],
   "source": [
    "name = ['a', 'b', 'c', 'd','e','f','g']\n",
    "print(\"The first three items in the list are: \")\n",
    "print(name[0:3])"
   ]
  },
  {
   "cell_type": "code",
   "execution_count": 72,
   "id": "ca84f5ec-18f9-41d1-8765-c0b3642b919e",
   "metadata": {},
   "outputs": [
    {
     "name": "stdout",
     "output_type": "stream",
     "text": [
      "Three items from the middle of the list are: \n",
      "['c', 'd', 'e']\n"
     ]
    }
   ],
   "source": [
    "print(\"Three items from the middle of the list are: \")\n",
    "print(name[2:5])"
   ]
  },
  {
   "cell_type": "code",
   "execution_count": 73,
   "id": "9223239f-61f0-45cf-9150-40847f2fec76",
   "metadata": {},
   "outputs": [
    {
     "name": "stdout",
     "output_type": "stream",
     "text": [
      "The last three items in the list are: \n",
      "['e', 'f', 'g']\n"
     ]
    }
   ],
   "source": [
    "print(\"The last three items in the list are: \")\n",
    "print(name[4:])\n"
   ]
  },
  {
   "cell_type": "markdown",
   "id": "be6b037a-77d3-4460-af54-73ba4cc3f9b3",
   "metadata": {},
   "source": [
    "### Q11) Make a copy of the list of pizzas, and call it friend_pizzas.Then, do the following:\n",
    "- Add a new pizza to the original list.\n",
    "- Add a different pizza to the list friend_pizzas.\n",
    "- Prove that you have two separate lists. Print the message My favorite \n",
    "  pizzas are:, and then use a for loop to print the first list. Print the message \n",
    "  My friend’s favorite pizzas are:, and then use a for loop to print the second list. Make sure each new pizza is stored in the appropriate list."
   ]
  },
  {
   "cell_type": "code",
   "execution_count": 74,
   "id": "1e61aabf-c913-4fbe-a9c6-8b022da78e4a",
   "metadata": {},
   "outputs": [
    {
     "name": "stdout",
     "output_type": "stream",
     "text": [
      "my favorite pizza are:\n",
      "four Cheese pizza\n",
      "Mixican Pizza\n",
      "Margherita Pizza\n",
      "veggie Pizza\n",
      "\n",
      "\n",
      "my firend my favorite pizza are:\n",
      "four Cheese pizza\n",
      "Mixican Pizza\n",
      "Margherita Pizza\n"
     ]
    }
   ],
   "source": [
    "pizza\n",
    "pizza2 = pizza[:]\n",
    "pizza.append(\"veggie Pizza\")\n",
    "print(\"my favorite pizza are:\")\n",
    "for i in pizza:\n",
    "    print(i)\n",
    "print(\"\\n\")\n",
    "print(\"my firend my favorite pizza are:\")\n",
    "for i in pizza2:\n",
    "    print(i)"
   ]
  },
  {
   "cell_type": "markdown",
   "id": "896f918e-2326-4e6a-89c1-c4261644039f",
   "metadata": {},
   "source": [
    "### Q12) Buffet: A buffet-style restaurant offers only five basic foods. Think of five simple foods, and store them in a tuple.\n",
    "- Use a for loop to print each food the restaurant offers.\n",
    "- Try to modify one of the items, and make sure that Python rejects the change.\n",
    "- The restaurant changes its menu, replacing two of the items with different foods. Add a line that rewrites the tuple, and then use a for loop to print each of the items on the revised menu"
   ]
  },
  {
   "cell_type": "code",
   "execution_count": 75,
   "id": "03ebdd1c-f694-4a58-a01d-af9c728b8b74",
   "metadata": {},
   "outputs": [
    {
     "name": "stdout",
     "output_type": "stream",
     "text": [
      "Noodles\n",
      "Veg Lollipop\n",
      "Non Veg. Lollipop\n",
      "Machurian\n",
      "Soup\n"
     ]
    }
   ],
   "source": [
    "buffet = (\"Noodles\",\"Veg Lollipop\",\"Non Veg. Lollipop\",\"Machurian\",\"Soup\")\n",
    "for i in buffet:\n",
    "    print(i)\n",
    "    "
   ]
  },
  {
   "cell_type": "code",
   "execution_count": 76,
   "id": "ae4f6862-bc2d-492d-838d-b071fd4dcd27",
   "metadata": {},
   "outputs": [
    {
     "ename": "TypeError",
     "evalue": "'tuple' object does not support item assignment",
     "output_type": "error",
     "traceback": [
      "\u001b[0;31m---------------------------------------------------------------------------\u001b[0m",
      "\u001b[0;31mTypeError\u001b[0m                                 Traceback (most recent call last)",
      "Cell \u001b[0;32mIn[76], line 1\u001b[0m\n\u001b[0;32m----> 1\u001b[0m \u001b[43mbuffet\u001b[49m\u001b[43m[\u001b[49m\u001b[38;5;241;43m0\u001b[39;49m\u001b[43m]\u001b[49m \u001b[38;5;241m=\u001b[39m \u001b[38;5;124m\"\u001b[39m\u001b[38;5;124mNon Veg. soup\u001b[39m\u001b[38;5;124m\"\u001b[39m\n",
      "\u001b[0;31mTypeError\u001b[0m: 'tuple' object does not support item assignment"
     ]
    }
   ],
   "source": [
    "buffet[0] = \"Non Veg. soup\""
   ]
  },
  {
   "cell_type": "code",
   "execution_count": 77,
   "id": "19b90488-7ad2-48d4-bc80-93adb7e0244d",
   "metadata": {},
   "outputs": [
    {
     "name": "stdout",
     "output_type": "stream",
     "text": [
      "our menu has chaged\n",
      "Noodles\n",
      "Veg Lollipop\n",
      "Non Veg. Lollipop\n",
      "Machurian\n",
      "mix Veg\n",
      "xyz\n"
     ]
    }
   ],
   "source": [
    "buffet2 = (\"Noodles\",\"Veg Lollipop\",\"Non Veg. Lollipop\",\"Machurian\",\"mix Veg\", \"xyz\")\n",
    "print(\"our menu has chaged\")\n",
    "for i in buffet2:\n",
    "    print(i)"
   ]
  },
  {
   "cell_type": "code",
   "execution_count": null,
   "id": "443f50c5-f752-45a3-ba9e-7c0b1e93dd97",
   "metadata": {},
   "outputs": [],
   "source": []
  }
 ],
 "metadata": {
  "kernelspec": {
   "display_name": "Python 3 (ipykernel)",
   "language": "python",
   "name": "python3"
  },
  "language_info": {
   "codemirror_mode": {
    "name": "ipython",
    "version": 3
   },
   "file_extension": ".py",
   "mimetype": "text/x-python",
   "name": "python",
   "nbconvert_exporter": "python",
   "pygments_lexer": "ipython3",
   "version": "3.10.8"
  }
 },
 "nbformat": 4,
 "nbformat_minor": 5
}
