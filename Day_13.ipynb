{
 "cells": [
  {
   "cell_type": "markdown",
   "id": "7fc0e4a2-cb35-43ad-be5b-75b7f76904a9",
   "metadata": {},
   "source": [
    "### Q1. Which keyword is used to create a function? Create a function to return a list of odd numbers in the range of 1 to 25."
   ]
  },
  {
   "cell_type": "markdown",
   "id": "68b824d7-dcda-4c3a-8249-b39d543b4ac2",
   "metadata": {},
   "source": [
    "Ans:- def keyword is used to create a function"
   ]
  },
  {
   "cell_type": "code",
   "execution_count": 42,
   "id": "5fbb6144-d67b-4dba-b7a5-a5e021c46d7c",
   "metadata": {},
   "outputs": [],
   "source": [
    "l = list(range(1,16))\n",
    "def odd(l1):\n",
    "    l1 = []\n",
    "    for i in l:\n",
    "        if i%2!=0:\n",
    "            l1.append(i)\n",
    "        else:\n",
    "            pass\n",
    "    return l1"
   ]
  },
  {
   "cell_type": "code",
   "execution_count": 43,
   "id": "9ac91a38-9148-4162-ac24-20f1ff3b731b",
   "metadata": {},
   "outputs": [
    {
     "name": "stdout",
     "output_type": "stream",
     "text": [
      "This is the orignal list:- [1, 2, 3, 4, 5, 6, 7, 8, 9, 10, 11, 12, 13, 14, 15]\n",
      "This is the odd number list:- [1, 3, 5, 7, 9, 11, 13, 15]\n"
     ]
    }
   ],
   "source": [
    "print(\"This is the orignal list:-\",l)\n",
    "print(\"This is the odd number list:-\",odd(l1))"
   ]
  },
  {
   "cell_type": "markdown",
   "id": "7a37306c-4676-481b-9194-e8ba42ff03c3",
   "metadata": {},
   "source": [
    "### Q2. Why *args and **kwargs is used in some functions? Create a function each for *args and **kwargs to demonstrate their use."
   ]
  },
  {
   "cell_type": "raw",
   "id": "42631d15-0aa3-4674-82cf-7ae28f73a512",
   "metadata": {},
   "source": [
    "*args:- We use (*args) to pass n number of arguments of any data type in a function, and this n number of arguments are going to pass through '*'. *args keep the arguments in a tuple"
   ]
  },
  {
   "cell_type": "code",
   "execution_count": 55,
   "id": "c9698d7b-3d56-4ed3-a399-a1c556412d09",
   "metadata": {},
   "outputs": [
    {
     "name": "stdout",
     "output_type": "stream",
     "text": [
      "8\n",
      "11657\n",
      "356.4\n"
     ]
    }
   ],
   "source": [
    "def test(*args):\n",
    "    add = 0\n",
    "    for i in args:\n",
    "        add = add+i\n",
    "    print(add)\n",
    "test(3,5)\n",
    "test(234,45,4,5687,5687)\n",
    "test(1.5,6.9,342,6)"
   ]
  },
  {
   "cell_type": "raw",
   "id": "70ac828f-22b3-4e75-a8bb-bee0cb4abea4",
   "metadata": {},
   "source": [
    "**kwargs:- We use (**kwargs) to pass arguments in a key value form in a function, and this n number of arguments are going to pass through '**'. **kwargs keep the arguments in a dictionary and **kwargs accept multipal key value arguments"
   ]
  },
  {
   "cell_type": "code",
   "execution_count": 66,
   "id": "284c8784-ae51-4d24-89ec-0df9000064c0",
   "metadata": {},
   "outputs": [
    {
     "name": "stdout",
     "output_type": "stream",
     "text": [
      "Hello, John, I hope now you are 25 year old\n"
     ]
    }
   ],
   "source": [
    "def test2(**kwargs):\n",
    "    print(f\"Hello, {kwargs['name']}, I hope now you are {kwargs['age']} year old\")\n",
    "test2(name=\"John\", age=25)"
   ]
  },
  {
   "cell_type": "code",
   "execution_count": null,
   "id": "758a52fc-78cf-46f6-af19-b3dbcd87e4a8",
   "metadata": {},
   "outputs": [],
   "source": []
  },
  {
   "cell_type": "code",
   "execution_count": null,
   "id": "0622a160-8e3c-4744-a154-943ebca2376d",
   "metadata": {},
   "outputs": [],
   "source": []
  },
  {
   "cell_type": "code",
   "execution_count": null,
   "id": "c14a13bc-94e0-401b-8826-b4aef2906f61",
   "metadata": {},
   "outputs": [],
   "source": []
  },
  {
   "cell_type": "markdown",
   "id": "39313cc3-cd00-4451-be7f-fe94bf912fbd",
   "metadata": {},
   "source": [
    "### Q4. What is a generator function in python? Why yield keyword is used? Give an example of a generator function."
   ]
  },
  {
   "cell_type": "markdown",
   "id": "2c2836ca-c5ad-452b-95f0-35a4d49d8cd5",
   "metadata": {},
   "source": [
    "In Python, a generator function is a special type of function that uses the yield keyword instead of return to generate a sequence of values. "
   ]
  },
  {
   "cell_type": "code",
   "execution_count": 67,
   "id": "2b16dc86-d2d9-485d-a5db-c76a3dd36269",
   "metadata": {},
   "outputs": [],
   "source": [
    "def test(n):\n",
    "    a = 0\n",
    "    b = 1\n",
    "    for i in range(n):\n",
    "        yield a\n",
    "        a = b\n",
    "        b = a+b"
   ]
  },
  {
   "cell_type": "code",
   "execution_count": 69,
   "id": "8331a54e-00dc-4865-9914-80682ac6ff30",
   "metadata": {},
   "outputs": [
    {
     "name": "stdout",
     "output_type": "stream",
     "text": [
      "0\n",
      "1\n",
      "2\n",
      "4\n",
      "8\n",
      "16\n",
      "32\n",
      "64\n",
      "128\n",
      "256\n"
     ]
    }
   ],
   "source": [
    "for i in test(10):\n",
    "    print(i)"
   ]
  },
  {
   "cell_type": "markdown",
   "id": "ebf1b14d-9318-40a5-93bb-a8838991f16f",
   "metadata": {},
   "source": [
    "### Q5. Create a generator function for prime numbers less than 1000. Use the next() method to print the first 20 prime numbers."
   ]
  },
  {
   "cell_type": "code",
   "execution_count": null,
   "id": "1ed07b40-40fa-43a1-81b5-319deb2d798d",
   "metadata": {},
   "outputs": [],
   "source": []
  }
 ],
 "metadata": {
  "kernelspec": {
   "display_name": "Python 3 (ipykernel)",
   "language": "python",
   "name": "python3"
  },
  "language_info": {
   "codemirror_mode": {
    "name": "ipython",
    "version": 3
   },
   "file_extension": ".py",
   "mimetype": "text/x-python",
   "name": "python",
   "nbconvert_exporter": "python",
   "pygments_lexer": "ipython3",
   "version": "3.10.8"
  }
 },
 "nbformat": 4,
 "nbformat_minor": 5
}
