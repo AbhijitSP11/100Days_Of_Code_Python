{
 "cells": [
  {
   "cell_type": "markdown",
   "id": "c1d5d9e3-10fb-4c3f-90e0-0248afb9dce2",
   "metadata": {},
   "source": [
    "# Day 8"
   ]
  },
  {
   "cell_type": "markdown",
   "id": "963bf635-7481-4a9a-8547-7e09f29c7de0",
   "metadata": {},
   "source": [
    "## Topics going to be cover in Day 8\n",
    "- While Loop\n",
    "- Solved some while loop practice questions"
   ]
  },
  {
   "cell_type": "markdown",
   "id": "a06b7f33-0554-453f-a3ec-1957521a8e95",
   "metadata": {},
   "source": [
    "### Print numbers less than 5 using while loop"
   ]
  },
  {
   "cell_type": "code",
   "execution_count": 1,
   "id": "ea83addf-323c-46d4-8150-6377176b948e",
   "metadata": {},
   "outputs": [
    {
     "name": "stdout",
     "output_type": "stream",
     "text": [
      "0\n",
      "1\n",
      "2\n",
      "3\n",
      "4\n"
     ]
    }
   ],
   "source": [
    "count = 0\n",
    "while count<5:\n",
    "    print(count)\n",
    "    count = count+1"
   ]
  },
  {
   "cell_type": "markdown",
   "id": "95282628-f6db-4ab6-a23c-a94709428d26",
   "metadata": {},
   "source": [
    "### Check how many times a given number can be divided by 3 before it is less than or equal to 10."
   ]
  },
  {
   "cell_type": "code",
   "execution_count": 2,
   "id": "bae810d8-1633-47b8-accc-e2f06f26d5ae",
   "metadata": {},
   "outputs": [
    {
     "name": "stdin",
     "output_type": "stream",
     "text": [
      "Enter the number:-  190\n"
     ]
    },
    {
     "name": "stdout",
     "output_type": "stream",
     "text": [
      "The number is divided by 3 for 3 times\n"
     ]
    }
   ],
   "source": [
    "count = 0\n",
    "x = int(input(\"Enter the number:- \"))\n",
    "while x>10:\n",
    "    x = x/3\n",
    "    count = count+1\n",
    "print(f\"The number is divided by 3 for {count} times\")"
   ]
  },
  {
   "cell_type": "markdown",
   "id": "aa023661-d0d6-4865-af5b-14665ddffb2e",
   "metadata": {},
   "source": [
    "### we want a user to enter any number between 100 and 500. We will keep asking the user to enter a correct input until he/she enters the number within a given range."
   ]
  },
  {
   "cell_type": "code",
   "execution_count": 3,
   "id": "848f1967-cf0e-437f-9570-df65a7ec029e",
   "metadata": {},
   "outputs": [
    {
     "name": "stdin",
     "output_type": "stream",
     "text": [
      "Enter the number:-  5879\n"
     ]
    },
    {
     "name": "stdout",
     "output_type": "stream",
     "text": [
      "Your are out of the loop please Enter the number under the range of 100 to 500\n"
     ]
    },
    {
     "name": "stdin",
     "output_type": "stream",
     "text": [
      "Enter the number:-  243\n"
     ]
    },
    {
     "name": "stdout",
     "output_type": "stream",
     "text": [
      "You are under the range\n"
     ]
    }
   ],
   "source": [
    "number = int(input(\"Enter the number:- \"))\n",
    "while(True):\n",
    "    if number<100 or number>500:\n",
    "        print(\"Your are out of the loop please Enter the number under the range of 100 to 500\")\n",
    "        number = int(input(\"Enter the number:- \"))\n",
    "    else:\n",
    "        print(\"You are under the range\")\n",
    "        break"
   ]
  },
  {
   "cell_type": "markdown",
   "id": "f9179bab-27be-4e9f-8b61-1f0220f13451",
   "metadata": {},
   "source": [
    "### Print even and odd numbers between 1 to the entered number."
   ]
  },
  {
   "cell_type": "code",
   "execution_count": 4,
   "id": "210f0d72-ac94-4089-b24a-30a9531f53e7",
   "metadata": {},
   "outputs": [
    {
     "name": "stdin",
     "output_type": "stream",
     "text": [
      "Enter the number:-  10\n"
     ]
    },
    {
     "name": "stdout",
     "output_type": "stream",
     "text": [
      "10 Even number\n",
      "9 odd number\n",
      "8 Even number\n",
      "7 odd number\n",
      "6 Even number\n",
      "5 odd number\n",
      "4 Even number\n",
      "3 odd number\n",
      "2 Even number\n",
      "1 odd number\n"
     ]
    }
   ],
   "source": [
    "number = int(input(\"Enter the number:- \"))\n",
    "while number>0:\n",
    "    if number % 2 == 0:\n",
    "        print(f\"{number} Even number\")\n",
    "    else:\n",
    "         print(f\"{number} odd number\")\n",
    "    number = number-1"
   ]
  },
  {
   "cell_type": "markdown",
   "id": "36e6eaec-7ce0-438d-ae50-783c10ad30de",
   "metadata": {},
   "source": [
    "#### Write a while loop to display only alphabets from a string. In this example, we will print only letters from a string by skipping all digits and special symbols"
   ]
  },
  {
   "cell_type": "code",
   "execution_count": 5,
   "id": "536d570a-ed64-4706-8a6d-7a5e7960a64d",
   "metadata": {},
   "outputs": [
    {
     "name": "stdin",
     "output_type": "stream",
     "text": [
      "Enter the string Ani123rudd124h\n"
     ]
    },
    {
     "name": "stdout",
     "output_type": "stream",
     "text": [
      "Aniruddh"
     ]
    }
   ],
   "source": [
    "s = input(\"Enter the string\")\n",
    "size = len(s)\n",
    "i = -1\n",
    "while i < size -1 :\n",
    "    i = i+1\n",
    "    if not s[i].isalpha():\n",
    "        continue\n",
    "    else:\n",
    "        print(s[i], end='')"
   ]
  },
  {
   "cell_type": "markdown",
   "id": "379ee824-a017-4831-a64c-f7cfb9607122",
   "metadata": {},
   "source": [
    "### while loop to iterate string letter by letter"
   ]
  },
  {
   "cell_type": "code",
   "execution_count": 6,
   "id": "fe83b8fc-4b4f-4c32-ac4f-3045b0baefa5",
   "metadata": {},
   "outputs": [
    {
     "name": "stdin",
     "output_type": "stream",
     "text": [
      "Enter the string :-  Aniruddh\n"
     ]
    },
    {
     "name": "stdout",
     "output_type": "stream",
     "text": [
      "A\n",
      "n\n",
      "i\n",
      "r\n",
      "u\n",
      "d\n",
      "d\n",
      "h\n",
      "['A', 'n', 'i', 'r', 'u', 'd', 'd', 'h']\n"
     ]
    }
   ],
   "source": [
    "name = input(\"Enter the string :- \")\n",
    "i = 0\n",
    "x = len(name)-1\n",
    "while i<=x:\n",
    "    print(name[i])\n",
    "    i = i+1\n",
    "\n",
    "l = []\n",
    "for i in name:\n",
    "    l.append(i)\n",
    "print(l)"
   ]
  },
  {
   "cell_type": "markdown",
   "id": "528ba7b5-2e60-4393-9cf6-57fa1a6688a4",
   "metadata": {},
   "source": [
    "### Iterate a List using while loop"
   ]
  },
  {
   "cell_type": "code",
   "execution_count": 7,
   "id": "d31c9127-5e6f-40f1-b365-daa6b8a8163d",
   "metadata": {},
   "outputs": [
    {
     "name": "stdout",
     "output_type": "stream",
     "text": [
      "1\n",
      "2\n",
      "4\n",
      "5\n",
      "6\n",
      "7\n",
      "8\n",
      "9\n"
     ]
    }
   ],
   "source": [
    "list1 = [1,2,4,5,6,7,8,9]\n",
    "size = len(list1)\n",
    "i = 0\n",
    "while i<size:\n",
    "    print(list1[i])\n",
    "    i = i + 1"
   ]
  },
  {
   "cell_type": "markdown",
   "id": "9f6afd1b-dad3-4aac-8129-d438491260be",
   "metadata": {},
   "source": [
    "### Adding elements to a list using while loop"
   ]
  },
  {
   "cell_type": "code",
   "execution_count": 8,
   "id": "2d0f9bc4-bff2-4d00-9d4d-bd5b5bfa7494",
   "metadata": {},
   "outputs": [
    {
     "name": "stdout",
     "output_type": "stream",
     "text": [
      "[0, 1, 2, 3, 4, 5, 6, 7, 8, 9]\n"
     ]
    }
   ],
   "source": [
    "list2 = []\n",
    "i = 0\n",
    "while len(list2) < 10:\n",
    "    list2.append(i)\n",
    "    i = i+1\n",
    "print(list2)"
   ]
  },
  {
   "cell_type": "markdown",
   "id": "5b0e3b80-39ff-4a7e-88f3-e35e568e7028",
   "metadata": {},
   "source": [
    "### Printing the items from tuple using while loop"
   ]
  },
  {
   "cell_type": "code",
   "execution_count": 9,
   "id": "01321b95-63b4-4234-a6b3-bf07b4700041",
   "metadata": {},
   "outputs": [
    {
     "name": "stdout",
     "output_type": "stream",
     "text": [
      "0\n",
      "1\n",
      "2\n",
      "3\n",
      "4\n",
      "5\n",
      "6\n",
      "7\n",
      "8\n",
      "9\n",
      "10\n"
     ]
    }
   ],
   "source": [
    "tup = tuple(range(0,11))\n",
    "i = 0\n",
    "while i < len(tup):\n",
    "    print(tup[i])\n",
    "    i = i+1"
   ]
  },
  {
   "cell_type": "markdown",
   "id": "5884cb4b-b5c1-4929-9194-a1fcc03a2247",
   "metadata": {},
   "source": [
    "### Finding the sum of numbers in a list using while loop"
   ]
  },
  {
   "cell_type": "code",
   "execution_count": 10,
   "id": "3dfa4eda-2950-441d-94b5-b16a04419930",
   "metadata": {},
   "outputs": [
    {
     "name": "stdout",
     "output_type": "stream",
     "text": [
      "55\n"
     ]
    }
   ],
   "source": [
    "list3 = list(range(1,11))\n",
    "i = 0\n",
    "add = 0\n",
    "while i < len(list3):\n",
    "    add = add + list3[i]\n",
    "    i = i+1\n",
    "print(add)"
   ]
  },
  {
   "cell_type": "markdown",
   "id": "b4883a9d-f100-4386-89ca-0765ededda29",
   "metadata": {},
   "source": [
    "### Popping out elements from a list using while loop"
   ]
  },
  {
   "cell_type": "code",
   "execution_count": 11,
   "id": "a422266e-05b1-4141-bc7a-c6682dde9297",
   "metadata": {},
   "outputs": [
    {
     "name": "stdout",
     "output_type": "stream",
     "text": [
      "pappu\n",
      "tappu\n",
      "chinku\n",
      "pinku\n",
      "tinku\n",
      "Golu\n",
      "[]\n"
     ]
    }
   ],
   "source": [
    "name = ['Golu', 'tinku', 'pinku', 'chinku', 'tappu', 'pappu']\n",
    "while name:\n",
    "    print(name.pop())\n",
    "print(name)"
   ]
  },
  {
   "cell_type": "markdown",
   "id": "fa8dd208-b3af-4f3d-8087-77834c194d2f",
   "metadata": {},
   "source": [
    "### Finding the average of 5 numbers using while loop"
   ]
  },
  {
   "cell_type": "code",
   "execution_count": 12,
   "id": "7b901f09-bf5f-4c7f-b372-a4019de98d62",
   "metadata": {},
   "outputs": [
    {
     "name": "stdin",
     "output_type": "stream",
     "text": [
      "Enter the range:-  5\n",
      "Enter the number:-  1\n"
     ]
    },
    {
     "name": "stdout",
     "output_type": "stream",
     "text": [
      "Count:-  1\n",
      "Add:-  1\n",
      "range:-  4\n"
     ]
    },
    {
     "name": "stdin",
     "output_type": "stream",
     "text": [
      "Enter the number:-  4\n"
     ]
    },
    {
     "name": "stdout",
     "output_type": "stream",
     "text": [
      "Count:-  2\n",
      "Add:-  5\n",
      "range:-  3\n"
     ]
    },
    {
     "name": "stdin",
     "output_type": "stream",
     "text": [
      "Enter the number:-  6\n"
     ]
    },
    {
     "name": "stdout",
     "output_type": "stream",
     "text": [
      "Count:-  3\n",
      "Add:-  11\n",
      "range:-  2\n"
     ]
    },
    {
     "name": "stdin",
     "output_type": "stream",
     "text": [
      "Enter the number:-  8\n"
     ]
    },
    {
     "name": "stdout",
     "output_type": "stream",
     "text": [
      "Count:-  4\n",
      "Add:-  19\n",
      "range:-  1\n"
     ]
    },
    {
     "name": "stdin",
     "output_type": "stream",
     "text": [
      "Enter the number:-  9\n"
     ]
    },
    {
     "name": "stdout",
     "output_type": "stream",
     "text": [
      "Count:-  5\n",
      "Add:-  28\n",
      "range:-  0\n",
      "Average =  5.6\n"
     ]
    }
   ],
   "source": [
    "p = int(input(\"Enter the range:- \"))\n",
    "add = 0\n",
    "count = 0\n",
    "while p > 0:\n",
    "    f = int(input(\"Enter the number:- \"))\n",
    "    count = count + 1\n",
    "    print(\"Count:- \",count)\n",
    "    add = add + f\n",
    "    print(\"Add:- \",add)\n",
    "    p = p-1\n",
    "    print(\"range:- \",p)\n",
    "av = add/count\n",
    "print(\"Average = \",av)"
   ]
  },
  {
   "cell_type": "markdown",
   "id": "b3fc5c73-9f42-4b37-9678-0c792a9efc9b",
   "metadata": {},
   "source": [
    "### Printing the square of numbers using while loop"
   ]
  },
  {
   "cell_type": "code",
   "execution_count": 13,
   "id": "8a886bcd-a527-44a3-9e0d-375caddd92c1",
   "metadata": {},
   "outputs": [
    {
     "name": "stdin",
     "output_type": "stream",
     "text": [
      "Enter the range :-  10\n"
     ]
    },
    {
     "name": "stdout",
     "output_type": "stream",
     "text": [
      "1 1\n",
      "2 4\n",
      "3 9\n",
      "4 16\n",
      "5 25\n",
      "6 36\n",
      "7 49\n",
      "8 64\n",
      "9 81\n",
      "10 100\n"
     ]
    }
   ],
   "source": [
    "r = int(input(\"Enter the range :- \"))\n",
    "n = 1\n",
    "while n <= r:\n",
    "    sq = n**2\n",
    "    print(n, sq)\n",
    "    n = n+1"
   ]
  },
  {
   "cell_type": "markdown",
   "id": "f52f017b-4d0a-4ce7-8910-c6af9f0495f7",
   "metadata": {},
   "source": [
    "### Finding the multiples of a number using while loop"
   ]
  },
  {
   "cell_type": "code",
   "execution_count": 14,
   "id": "7f9a8e3c-44a5-4bb8-b753-0300cba50e05",
   "metadata": {},
   "outputs": [
    {
     "name": "stdin",
     "output_type": "stream",
     "text": [
      "Table of :-  8\n"
     ]
    },
    {
     "name": "stdout",
     "output_type": "stream",
     "text": [
      "8\n",
      "16\n",
      "24\n",
      "32\n",
      "40\n",
      "48\n",
      "56\n",
      "64\n",
      "72\n",
      "80\n"
     ]
    }
   ],
   "source": [
    "n = int(input(\"Table of :- \"))\n",
    "i = 1\n",
    "while i<=10:\n",
    "    mul = i*n\n",
    "    i = i+1\n",
    "    print(mul)"
   ]
  },
  {
   "cell_type": "markdown",
   "id": "2ae021d7-7482-42be-b6da-f5244002a422",
   "metadata": {},
   "source": [
    "### Finding the sum of even numbers using while loop"
   ]
  },
  {
   "cell_type": "code",
   "execution_count": 15,
   "id": "7e4ddf24-3ff4-4834-92e3-413805b2a745",
   "metadata": {},
   "outputs": [
    {
     "name": "stdin",
     "output_type": "stream",
     "text": [
      "ENter the number:-  10\n"
     ]
    },
    {
     "name": "stdout",
     "output_type": "stream",
     "text": [
      "0\n",
      "2\n",
      "4\n",
      "6\n",
      "8\n",
      "10\n",
      "List of even numbers:-  [0, 2, 4, 6, 8, 10]\n",
      "Total of even numbers:-  30\n"
     ]
    }
   ],
   "source": [
    "i = 0\n",
    "add = 0\n",
    "n = int(input(\"ENter the number:- \"))\n",
    "l = []\n",
    "while i <= n:\n",
    "    if i % 2 == 0:\n",
    "        print(i)\n",
    "        l.append(i)\n",
    "        \n",
    "        add = add + i\n",
    "    i = i+1\n",
    "print(\"List of even numbers:- \",l)\n",
    "print(\"Total of even numbers:- \",add)"
   ]
  },
  {
   "cell_type": "markdown",
   "id": "d224c7d1-4815-4810-84da-4e087c0d9ae8",
   "metadata": {},
   "source": [
    "### Pizza Toppings: Write a loop that prompts the user to enter a series of pizza toppings until they enter a 'quit' value. As they enter each topping, print a message saying you’ll add that topping to their pizza."
   ]
  },
  {
   "cell_type": "code",
   "execution_count": null,
   "id": "46f49b1c-888d-4b94-a240-78089a4d3d9f",
   "metadata": {},
   "outputs": [],
   "source": [
    "n = "
   ]
  }
 ],
 "metadata": {
  "kernelspec": {
   "display_name": "Python 3 (ipykernel)",
   "language": "python",
   "name": "python3"
  },
  "language_info": {
   "codemirror_mode": {
    "name": "ipython",
    "version": 3
   },
   "file_extension": ".py",
   "mimetype": "text/x-python",
   "name": "python",
   "nbconvert_exporter": "python",
   "pygments_lexer": "ipython3",
   "version": "3.10.8"
  }
 },
 "nbformat": 4,
 "nbformat_minor": 5
}
